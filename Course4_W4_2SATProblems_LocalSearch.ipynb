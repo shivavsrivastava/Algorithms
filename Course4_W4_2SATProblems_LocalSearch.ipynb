{
  "cells": [
    {
      "cell_type": "markdown",
      "metadata": {
        "id": "view-in-github",
        "colab_type": "text"
      },
      "source": [
        "<a href=\"https://colab.research.google.com/github/shivavsrivastava/Algorithms/blob/main/Course4_W4_2SATProblems_LocalSearch.ipynb\" target=\"_parent\"><img src=\"https://colab.research.google.com/assets/colab-badge.svg\" alt=\"Open In Colab\"/></a>"
      ]
    },
    {
      "cell_type": "markdown",
      "metadata": {
        "id": "hYKD5Q-VI0PN"
      },
      "source": [
        "# 2SAT Local Search Problems\n"
      ]
    },
    {
      "cell_type": "code",
      "execution_count": null,
      "metadata": {
        "id": "P9NoK--bQ8MS"
      },
      "outputs": [],
      "source": [
        "import numpy as np\n",
        "import random\n",
        "from random import randrange\n",
        "import urllib3\n",
        "import math\n",
        "import time\n",
        "import copy\n",
        "import sys\n",
        "from itertools import combinations, permutations\n"
      ]
    },
    {
      "cell_type": "code",
      "source": [
        "def satisfy(x, clauses):\n",
        "    truth_clauses = []\n",
        "    for c in clauses:\n",
        "        if c[0] >= 0:\n",
        "            x1 = x[c[0]-1]\n",
        "        else:\n",
        "            x1 = not x[-c[0]-1]\n",
        "        if c[1] >= 0:\n",
        "            x2 = x[c[1]-1]\n",
        "        else:\n",
        "            x2 = not x[-c[1]-1]\n",
        "        truth_clauses.append(x1 or x2)\n",
        "    return truth_clauses"
      ],
      "metadata": {
        "id": "YVXICBmbyyXr"
      },
      "execution_count": null,
      "outputs": []
    },
    {
      "cell_type": "code",
      "source": [
        "def Papadimitrious_2SAT_Algorithm(parameters_count, clause_count, clauses):\n",
        "    truth = False\n",
        "    for _ in range(int(math.log2(parameters_count))):\n",
        "        x = [random.choice([1, 0]) for _ in range(parameters_count)]\n",
        "        for z in range(2*(parameters_count**2)):\n",
        "            #print(z)\n",
        "            truth_clauses = satisfy(x, clauses)\n",
        "            if 0 not in truth_clauses:\n",
        "                truth = True\n",
        "                break\n",
        "            while True:\n",
        "                random_choice = randrange(clause_count)\n",
        "                if truth_clauses[random_choice] == 1:\n",
        "                        continue\n",
        "                var_choice = random.choice([1, 0])\n",
        "                if var_choice == 0:\n",
        "                    x[abs(clauses[random_choice][0])-1] = not x[abs(clauses[random_choice][0])-1]\n",
        "                else:\n",
        "                    x[abs(clauses[random_choice][1])-1] = not x[abs(clauses[random_choice][1])-1]\n",
        "                break\n",
        "        if truth == True:\n",
        "            break\n",
        "    print(\"x: {}\".format(x))\n",
        "    return truth\n",
        "\n"
      ],
      "metadata": {
        "id": "D5OAcxDay8Mu"
      },
      "execution_count": null,
      "outputs": []
    },
    {
      "cell_type": "code",
      "source": [
        "# Small test\n",
        "Papadimitrious_2SAT_Algorithm(4, 4, [[1, 2], [-1, 3], [3, 4], [-2, -4]])"
      ],
      "metadata": {
        "id": "3G1i56_szJS1"
      },
      "execution_count": null,
      "outputs": []
    },
    {
      "cell_type": "markdown",
      "source": [
        "# Programming Assignment\n",
        "\n",
        "In this assignment you will implement one or more algorithms for the 2SAT problem.  Here are 6 different 2SAT instances:\n",
        "\n",
        "**2sat1.txt**\n",
        "\n",
        "**2sat2.txt**\n",
        "\n",
        "**2sat3.txt**\n",
        "\n",
        "**2sat4.txt**\n",
        "\n",
        "**2sat5.txt**\n",
        "\n",
        "**2sat6.txt**\n",
        "\n",
        "\n",
        "\n",
        "The file format is as follows.  In each instance, the number of variables and the number of clauses is the same, and this number is specified on the first line of the file.  Each subsequent line specifies a clause via its two literals, with a number denoting the variable and a \"-\" sign denoting logical \"not\".  For example, the second line of the first data file is \"-16808 75250\", which indicates the clause\n",
        "¬\n",
        "𝑥\n",
        "16808\n",
        "∨\n",
        "𝑥\n",
        "75250\n",
        "¬x\n",
        "16808\n",
        "​\n",
        " ∨x\n",
        "75250\n",
        "​\n",
        " .\n",
        "\n",
        "Your task is to determine which of the 6 instances are satisfiable, and which are unsatisfiable.  In the box below, enter a 6-bit string, where the ith bit should be 1 if the ith instance is satisfiable, and 0 otherwise.  For example, if you think that the first 3 instances are satisfiable and the last 3 are not, then you should enter the string 111000 in the box below.\n",
        "\n",
        "DISCUSSION: This assignment is deliberately open-ended, and you can implement whichever 2SAT algorithm you want.  For example, 2SAT reduces to computing the strongly connected components of a suitable graph (with two vertices per variable and two directed edges per clause, you should think through the details).  This might be an especially attractive option for those of you who coded up an SCC algorithm in Part 2 of this specialization.  Alternatively, you can use Papadimitriou's randomized local search algorithm.  (The algorithm from lecture is probably too slow as stated, so you might want to make one or more simple modifications to it --- even if this means breaking the analysis given in lecture --- to ensure that it runs in a reasonable amount of time.)  A third approach is via backtracking.  In lecture we mentioned this approach only in passing; see Chapter 9 of the Dasgupta-Papadimitriou-Vazirani book, for example, for more details."
      ],
      "metadata": {
        "id": "IeN6_00ozt2D"
      }
    },
    {
      "cell_type": "code",
      "source": [
        "def testcase_2SAT(url):\n",
        "    http = urllib3.PoolManager()\n",
        "    r1 = http.request('GET', url)\n",
        "    IntegerMatrixStringJoin = r1.data.decode('utf8').split('\\n')\n",
        "    IntegerMatrixStringJoin.remove('')\n",
        "    count = int(IntegerMatrixStringJoin[0])\n",
        "    IntegerMatrixStringJoin.remove(IntegerMatrixStringJoin[0])\n",
        "    clauses = []\n",
        "    for i in IntegerMatrixStringJoin:\n",
        "        node_coord = i.split(' ')\n",
        "        x = int(node_coord[0])\n",
        "        y = int(node_coord[1])\n",
        "        clauses.append([x, y])\n",
        "    Papadimitrious_2SAT_Algorithm(count, count, clauses)"
      ],
      "metadata": {
        "id": "sbn396Z80OAi"
      },
      "execution_count": null,
      "outputs": []
    },
    {
      "cell_type": "markdown",
      "source": [
        "2sat1.txt"
      ],
      "metadata": {
        "id": "LWSxqa3Q0ohm"
      }
    },
    {
      "cell_type": "code",
      "source": [
        "testcase_2SAT(\"https://d3c33hcgiwev3.cloudfront.net/_02c1945398be467219866ee1c3294d2d_2sat1.txt?Expires=1717027200&Signature=ZGWROQG00Z5RWXEIJGa6ABWKN0kOZHxY4CPpyftwMa1Aggij5tsy4pft7KoxMX3q3X35AMdxGsMgS7xpf8ugxxc~OKh74CXZkGaEZzAs5FFkN0vbgpnvqlkLf4a6ZuKio-zDmpZhxkhEQbBlWSdIhCzl5-nR04H7bcMyYwLWFf0_&Key-Pair-Id=APKAJLTNE6QMUY6HBC5A\")"
      ],
      "metadata": {
        "id": "AhDXXLDs0alI"
      },
      "execution_count": null,
      "outputs": []
    },
    {
      "cell_type": "markdown",
      "source": [
        "2sat2.txt"
      ],
      "metadata": {
        "id": "W75nYAXJ0wHn"
      }
    },
    {
      "cell_type": "code",
      "source": [
        "testcase_2SAT(\"https://d3c33hcgiwev3.cloudfront.net/_02c1945398be467219866ee1c3294d2d_2sat2.txt?Expires=1717027200&Signature=SeTAv6MfH4NziPPlRzvTfCZHK4CsJbc9RbshYMKLmyDT3eTUto4tte2gDtBQc~3iION99cyv0y05EqMzwnt1lsUZWdNx5kpzq5cCY~G8RNyCaKVTp0X82l3vzJfvhZVGkbJwGD~4VDVUnN7CU0WdaL~2ZuweO7KkjGoBlTfeQcM_&Key-Pair-Id=APKAJLTNE6QMUY6HBC5A\")"
      ],
      "metadata": {
        "id": "ijBHsj711COT"
      },
      "execution_count": null,
      "outputs": []
    },
    {
      "cell_type": "markdown",
      "source": [
        "2sat3.txt"
      ],
      "metadata": {
        "id": "4JoFQDd200Dx"
      }
    },
    {
      "cell_type": "code",
      "source": [
        "testcase_2SAT(\"https://d3c33hcgiwev3.cloudfront.net/_02c1945398be467219866ee1c3294d2d_2sat3.txt?Expires=1717027200&Signature=JdQyVCoakcWL-XQMziyMq4HfnF9ZHAE3TeXH5UtxRR600~-F9fNHv5equEUk68Qb~MImArCwT7PCGTvDbiXXVOfhjk4yPgcvLhRs5JlxpLZ7Yq2vaCIsKH0NbztIEk3dO~PvBZRJywBJXqpLKaTrUVjxUVBK500qLXFVA-oBIqo_&Key-Pair-Id=APKAJLTNE6QMUY6HBC5A\")"
      ],
      "metadata": {
        "id": "OtuxGMm31NCM"
      },
      "execution_count": null,
      "outputs": []
    },
    {
      "cell_type": "markdown",
      "source": [
        "2sat4.txt"
      ],
      "metadata": {
        "id": "ajqwG6Qs01T4"
      }
    },
    {
      "cell_type": "code",
      "source": [
        "testcase_2SAT(\"https://d3c33hcgiwev3.cloudfront.net/_02c1945398be467219866ee1c3294d2d_2sat4.txt?Expires=1717027200&Signature=DCthsQizyKSDuN6fl-UfHtSgxeev91kQr5D9n7KafzzclQGkUY-tsFLdXYCNVzBtIGFthQT1Y8eOReUjzQTZWMtKN44QloYdeFBFc2lkNfwabJ2dm9G4Z997wsK4zx9DxEBYsK-u-d1ZOtzXIchQMB0ACtOGrBXIJKdP6H9acGY_&Key-Pair-Id=APKAJLTNE6QMUY6HBC5A\")"
      ],
      "metadata": {
        "id": "MKjTAb-p1eQ3"
      },
      "execution_count": null,
      "outputs": []
    },
    {
      "cell_type": "markdown",
      "source": [
        "2sat5.txt"
      ],
      "metadata": {
        "id": "u53lT-Ah010d"
      }
    },
    {
      "cell_type": "code",
      "source": [
        "testcase_2SAT(\"https://d3c33hcgiwev3.cloudfront.net/_02c1945398be467219866ee1c3294d2d_2sat5.txt?Expires=1717027200&Signature=KnfS1opkiN9Szy0ndRkVPu~QBezl-nR9XEEbtjlBYiQFBZnS9ZGxFQwUpwD2pD3zaxz-RSBKVuzrPjfTeflUPGszStkB~RqA74FOJDpuaMmoYsFy2Lz03UZCyoB5~S94iiAQwg-XmhD5BgrFG8nSJQWnHXWa5wDW9x7fFhaoiWk_&Key-Pair-Id=APKAJLTNE6QMUY6HBC5A\")"
      ],
      "metadata": {
        "id": "8yZiUu9011qw"
      },
      "execution_count": null,
      "outputs": []
    },
    {
      "cell_type": "markdown",
      "source": [
        "2sat6.txt"
      ],
      "metadata": {
        "id": "sYNA7nB-02DF"
      }
    },
    {
      "cell_type": "code",
      "source": [
        "testcase_2SAT(\"https://d3c33hcgiwev3.cloudfront.net/_02c1945398be467219866ee1c3294d2d_2sat6.txt?Expires=1717027200&Signature=JJkdna11RVZ~YqVC8PXT8o1gnWOUmGR0Cb38ZmPiekUpm2kjVYTAw8pzA~-ntd3PHOynTTqBnJbR1kAQAWzkayAbRAZHXT8EGVdFE68l~Wa7yylj8-uGEZtYksh3Tn4g6NzJt6cP0EBVO-Se20HyoFCtOJf8xJ8HnY-KirPcfgY_&Key-Pair-Id=APKAJLTNE6QMUY6HBC5A\")"
      ],
      "metadata": {
        "id": "6DWU3I_u17CE"
      },
      "execution_count": null,
      "outputs": []
    },
    {
      "cell_type": "markdown",
      "source": [
        "Answer is : 101100\n",
        "\n",
        "Needs optimizations, see:\n",
        "* https://www.coursera.org/learn/algorithms-npcomplete/discussions/weeks/4/threads/Cl-n9enMEeavDRL9DbMJZA/replies/k1Ucpe25EeazUgojob8_2A\n",
        "* https://www.coursera.org/learn/algorithms-npcomplete/discussions/forums/Md2zu3blEeaB2wqEY78RoQ/threads/Cl-n9enMEeavDRL9DbMJZA\n",
        "* https://www.coursera.org/learn/algorithms-npcomplete/discussions/forums/Md2zu3blEeaB2wqEY78RoQ/threads/qQnkld7KEeuB9xKubqtLsQ\n",
        "\n",
        "\n"
      ],
      "metadata": {
        "id": "Us3XELiM-Cbm"
      }
    }
  ],
  "metadata": {
    "colab": {
      "machine_shape": "hm",
      "provenance": [],
      "authorship_tag": "ABX9TyOT33sM1EsD2yu7qjA498Rm",
      "include_colab_link": true
    },
    "kernelspec": {
      "display_name": "Python 3",
      "name": "python3"
    },
    "language_info": {
      "name": "python"
    }
  },
  "nbformat": 4,
  "nbformat_minor": 0
}