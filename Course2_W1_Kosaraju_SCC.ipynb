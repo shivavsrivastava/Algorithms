{
  "nbformat": 4,
  "nbformat_minor": 0,
  "metadata": {
    "colab": {
      "provenance": [],
      "mount_file_id": "1jO5KsgVIBQkyS273wE7Lobx5CFJxBXw-",
      "authorship_tag": "ABX9TyMPhwtanGjsLAsGTgkUO+H4",
      "include_colab_link": true
    },
    "kernelspec": {
      "name": "python3",
      "display_name": "Python 3"
    },
    "language_info": {
      "name": "python"
    }
  },
  "cells": [
    {
      "cell_type": "markdown",
      "metadata": {
        "id": "view-in-github",
        "colab_type": "text"
      },
      "source": [
        "<a href=\"https://colab.research.google.com/github/shivavsrivastava/Algorithms/blob/main/Course2_W1_Kosaraju_SCC.ipynb\" target=\"_parent\"><img src=\"https://colab.research.google.com/assets/colab-badge.svg\" alt=\"Open In Colab\"/></a>"
      ]
    },
    {
      "cell_type": "markdown",
      "source": [
        "# KOSARAJU'S STRONGLY CONNECTED COMPONENTS ALGORITHM\n",
        "\n"
      ],
      "metadata": {
        "id": "8TRYJIbu5szO"
      }
    },
    {
      "cell_type": "markdown",
      "source": [
        "Following is Kosaraju’s DFS based simple algorithm that does two DFS traversals of graph:\n",
        "\n",
        "1.   Initialize all vertices as not visited.\n",
        "2.   Do a DFS traversal of graph starting from any arbitrary vertex v. If DFS traversal doesn’t visit all vertices, then return false.\n",
        "3.   Reverse all arcs (or find transpose or reverse of graph)\n",
        "4.   Mark all vertices as not-visited in reversed graph.\n",
        "5.   Do a DFS traversal of reversed graph starting from same vertex v (Same as step 2). If DFS traversal doesn’t visit all vertices, then return false. Otherwise return true.\n"
      ],
      "metadata": {
        "id": "PvdE6AB-Qv7C"
      }
    },
    {
      "cell_type": "code",
      "source": [
        "import numpy as np\n",
        "import random\n",
        "import pandas as pd\n",
        "import math\n",
        "from collections import defaultdict\n",
        "from collections import deque"
      ],
      "metadata": {
        "id": "P9NoK--bQ8MS"
      },
      "execution_count": 3,
      "outputs": []
    },
    {
      "cell_type": "markdown",
      "source": [
        "## Directed Graph\n"
      ],
      "metadata": {
        "id": "f_1AoSn0FFho"
      }
    },
    {
      "cell_type": "code",
      "source": [
        "# This class represents a directed graph using adjacency list representation\n",
        "class Graph():\n",
        "  def __init__(self, n):\n",
        "    self.V = n\n",
        "    self.graph = defaultdict(list)  # default dictionary to store graph\n",
        "    self.rgraph = defaultdict(list)\n",
        "\n",
        "  # function to add an edge to graph\n",
        "  def addEdge(self, u, v):\n",
        "    self.graph[u].append(v)\n",
        "\n",
        "  # Function to add reverse edge\n",
        "  def addReverseEdge(self, u, v):\n",
        "    self.rgraph[v].append(u)\n",
        "\n",
        "  # DFS Reverse graph iterative function\n",
        "  # Most impoertant is the 'sink' and break to get a true DFS going.\n",
        "  # This thread : https://www.coursera.org/learn/algorithms-graphs-data-structures/discussions/forums/wtt6E3b0EeamjgocByS1BQ/threads/1D9ElKnLEeayfRIMfs2y9A\n",
        "  # and the guy \"Paul fenton\" response helped\n",
        "  def dfs_Grev_stack(self, visited, nodestack, stack):\n",
        "    while stack:\n",
        "      v = stack[-1]\n",
        "      visited[v] = True\n",
        "      sink=True\n",
        "      for i in self.rgraph[v]:\n",
        "        if not visited[i]:\n",
        "          sink=False\n",
        "          stack.append(i)\n",
        "          break\n",
        "      if sink:\n",
        "        stack.pop()\n",
        "        nodestack.append(v)\n",
        "\n",
        "  # DFS Pass 2 iterative\n",
        "  # be careful, don't overcount it, only count when not visited,\n",
        "  # and that is when you append node to SCC\n",
        "  def dfs_Pass2_stack(self, visited, stack, scc, leader):\n",
        "    while stack:\n",
        "      v = stack.pop()\n",
        "      if not visited[v]:\n",
        "        visited[v] = True\n",
        "        scc[leader].append(v)\n",
        "      for i in self.graph[v]:\n",
        "        if not visited[i]:\n",
        "          stack.append(i)\n",
        "\n",
        "\n",
        "\n",
        "\n",
        "  # The main Kosaraju function for Strongly Connected Components =========>\n",
        "  def Kosaraju(self):\n",
        "\n",
        "    ## First Pass: Do DFS on reverse graph\n",
        "    visited =[False]*(self.V)\n",
        "    nodestack = deque()\n",
        "    stack = []\n",
        "    for node in reversed(range(self.V)):\n",
        "      if not visited[node]:\n",
        "        stack = [node]\n",
        "        self.dfs_Grev_stack(visited, nodestack, stack)\n",
        "\n",
        "\n",
        "    # print(\"In Kosaraju function\")\n",
        "    print(nodestack)\n",
        "\n",
        "\n",
        "    ## Second Pass: DFS on graph\n",
        "    visited =[False]*(self.V)\n",
        "    scc = defaultdict(list)\n",
        "    stack = []\n",
        "    while nodestack:\n",
        "      v = nodestack.pop()\n",
        "      if not visited[v]:\n",
        "        stack = [v]\n",
        "        leader = v\n",
        "        self.dfs_Pass2_stack(visited, stack, scc, leader)\n",
        "\n",
        "    # print(\"In Kosaraju function\")\n",
        "    # for i in range(len(scc)):\n",
        "    #   print(scc[i], \"\\n\")\n",
        "    return scc\n",
        "\n"
      ],
      "metadata": {
        "id": "YiC4ZzVNCLyI"
      },
      "execution_count": 4,
      "outputs": []
    },
    {
      "cell_type": "markdown",
      "source": [
        "## TEST"
      ],
      "metadata": {
        "id": "xNnfKR4W-cXP"
      }
    },
    {
      "cell_type": "code",
      "source": [
        "# Create a graph given in the above diagram\n",
        "g1 = Graph(5)\n",
        "g1.addEdge(0, 1)\n",
        "g1.addEdge(1, 2)\n",
        "g1.addEdge(2, 3)\n",
        "g1.addEdge(3, 0)\n",
        "g1.addEdge(2, 4)\n",
        "g1.addEdge(4, 2)\n",
        "g1.addReverseEdge(0, 1)\n",
        "g1.addReverseEdge(1, 2)\n",
        "g1.addReverseEdge(2, 3)\n",
        "g1.addReverseEdge(3, 0)\n",
        "g1.addReverseEdge(2, 4)\n",
        "g1.addReverseEdge(4, 2)\n",
        "scc = g1.Kosaraju()\n",
        "print (\"Number of components\", len(scc))\n",
        "for i in scc:\n",
        "  print(\"leader {} has {} nodes in SCC\".format(i, len(scc[i])))"
      ],
      "metadata": {
        "colab": {
          "base_uri": "https://localhost:8080/"
        },
        "id": "lfbr1TKrUfsF",
        "outputId": "dc3c53ad-8d57-4697-eeee-95484adb4572"
      },
      "execution_count": 5,
      "outputs": [
        {
          "output_type": "stream",
          "name": "stdout",
          "text": [
            "deque([3, 0, 1, 2, 4])\n",
            "Number of components 1\n",
            "leader 4 has 5 nodes in SCC\n"
          ]
        }
      ]
    },
    {
      "cell_type": "code",
      "source": [
        "g2 = Graph(4)\n",
        "g2.addEdge(0, 1)\n",
        "g2.addEdge(1, 2)\n",
        "g2.addEdge(2, 3)\n",
        "g2.addReverseEdge(0, 1)\n",
        "g2.addReverseEdge(1, 2)\n",
        "g2.addReverseEdge(2, 3)\n",
        "scc = g2.Kosaraju()\n",
        "print (\"Number of components\", len(scc))\n",
        "for i in scc:\n",
        "  print(\"leader {} has {} nodes in SCC\".format(i, scc[i]))"
      ],
      "metadata": {
        "colab": {
          "base_uri": "https://localhost:8080/"
        },
        "id": "VYdHwo4GUkxZ",
        "outputId": "8f890ad2-ffc1-4c35-996c-896d22dac019"
      },
      "execution_count": 6,
      "outputs": [
        {
          "output_type": "stream",
          "name": "stdout",
          "text": [
            "deque([0, 1, 2, 3])\n",
            "Number of components 4\n",
            "leader 3 has [3] nodes in SCC\n",
            "leader 2 has [2] nodes in SCC\n",
            "leader 1 has [1] nodes in SCC\n",
            "leader 0 has [0] nodes in SCC\n"
          ]
        }
      ]
    },
    {
      "cell_type": "code",
      "source": [
        "edges = [(0, 3), (6, 0), (3, 6), (8, 6), (5, 8), (8, 2), (2, 5), (7, 5), (7, 4), (1, 7), (4, 1)]\n",
        "g3 = Graph(9)\n",
        "for u, v in edges:\n",
        "  g3.addEdge(u, v)\n",
        "  g3.addReverseEdge(u, v)\n",
        "scc = g3.Kosaraju()\n",
        "print (\"Number of components\", len(scc))\n",
        "for i in scc:\n",
        "  print(\"leader {} has {} nodes in SCC\".format(i, scc[i]))\n",
        "lenArray = []\n",
        "for i in scc:\n",
        "  lenArray.append(len(scc[i]))\n",
        "lenArray.sort(reverse=True)\n",
        "print(lenArray[:5])"
      ],
      "metadata": {
        "colab": {
          "base_uri": "https://localhost:8080/"
        },
        "id": "KExAIObA7XCX",
        "outputId": "b76e4d14-1791-4692-d582-db098825b13c"
      },
      "execution_count": 7,
      "outputs": [
        {
          "output_type": "stream",
          "name": "stdout",
          "text": [
            "deque([2, 4, 1, 7, 5, 8, 0, 3, 6])\n",
            "Number of components 3\n",
            "leader 6 has [6, 0, 3] nodes in SCC\n",
            "leader 8 has [8, 2, 5] nodes in SCC\n",
            "leader 7 has [7, 4, 1] nodes in SCC\n",
            "[3, 3, 3]\n"
          ]
        }
      ]
    },
    {
      "cell_type": "code",
      "source": [
        "edges = [(1, 2), (1, 4), (4, 2), (3, 2), (3, 4)]\n",
        "g4 = Graph(4)\n",
        "for u, v in edges:\n",
        "  g4.addEdge(u-1, v-1)\n",
        "  g4.addReverseEdge(u-1, v-1)\n",
        "scc = g4.Kosaraju()\n",
        "print (\"Number of components\", len(scc))\n",
        "lenArray = []\n",
        "for i in range(len(scc)):\n",
        "  lenArray.append(len(scc[i]))\n",
        "lenArray.sort(reverse=True)\n",
        "print(lenArray[:5])"
      ],
      "metadata": {
        "colab": {
          "base_uri": "https://localhost:8080/"
        },
        "id": "wBK0OvAY8y-T",
        "outputId": "301762aa-db4b-4132-f259-ac770ffb6ea4"
      },
      "execution_count": 8,
      "outputs": [
        {
          "output_type": "stream",
          "name": "stdout",
          "text": [
            "deque([0, 2, 3, 1])\n",
            "Number of components 4\n",
            "[1, 1, 1, 1]\n"
          ]
        }
      ]
    },
    {
      "cell_type": "code",
      "source": [
        "edges = [(1, 4), (2, 8), (3, 6), (4, 7), (5, 2), (6, 9), (7, 1), (8, 5), (8, 6), (9, 7), (9, 3)]\n",
        "g4 = Graph(9)\n",
        "for u, v in edges:\n",
        "  g4.addEdge(u-1, v-1)\n",
        "  g4.addReverseEdge(u-1, v-1)\n",
        "scc = g4.Kosaraju()\n",
        "print (\"Number of components\", len(scc))\n",
        "lenArray = []\n",
        "for i in scc:\n",
        "  lenArray.append(len(scc[i]))\n",
        "lenArray.sort(reverse=True)\n",
        "print(lenArray[:5])"
      ],
      "metadata": {
        "colab": {
          "base_uri": "https://localhost:8080/"
        },
        "id": "wJ2tuaXT9of5",
        "outputId": "2cdf6c78-e87d-40ab-bf46-0d40dc8c1a2b"
      },
      "execution_count": 9,
      "outputs": [
        {
          "output_type": "stream",
          "name": "stdout",
          "text": [
            "deque([2, 4, 1, 7, 5, 8, 0, 3, 6])\n",
            "Number of components 3\n",
            "[3, 3, 3]\n"
          ]
        }
      ]
    },
    {
      "cell_type": "markdown",
      "source": [
        "## Assignment Problem"
      ],
      "metadata": {
        "id": "u-5-GqNQEZro"
      }
    },
    {
      "cell_type": "code",
      "source": [
        "from google.colab import drive\n",
        "drive.mount('/content/drive')"
      ],
      "metadata": {
        "colab": {
          "base_uri": "https://localhost:8080/"
        },
        "id": "HVlKukTGOgF2",
        "outputId": "bf6fa2da-71b2-48a0-dbef-f0dfec26f1f8"
      },
      "execution_count": 11,
      "outputs": [
        {
          "output_type": "stream",
          "name": "stdout",
          "text": [
            "Drive already mounted at /content/drive; to attempt to forcibly remount, call drive.mount(\"/content/drive\", force_remount=True).\n"
          ]
        }
      ]
    },
    {
      "cell_type": "code",
      "source": [
        "#df = pd.read_csv('https://d3c33hcgiwev3.cloudfront.net/_410e934e6553ac56409b2cb7096a44aa_SCC.txt?Expires=1711929600&Signature=ZueOXJEYWFsOezDHcs-q5p0hT4qcLKGozWOOQEuGt8h10sd-3ZJSsdkbUwPiOdTkK3bbUghPtXBsD5o-6vVDIVcwzztXQhdpfvR7dQoBJbKDkMFPx-h0I9f0HEGnU39NfRSQsu40NLNNORmNElkEd6uJJALRaTydygP16RsDqA0_&Key-Pair-Id=APKAJLTNE6QMUY6HBC5A', header=None)\n",
        "filepath = \"/content/drive/MyDrive/SCC.txt\"\n",
        "df = pd.read_csv(filepath, header=None)\n",
        "EdgesArray = df[0].tolist()\n",
        "print(len(EdgesArray))\n"
      ],
      "metadata": {
        "colab": {
          "base_uri": "https://localhost:8080/"
        },
        "id": "Gx7CYPVY2tWr",
        "outputId": "e04063b8-2829-4082-a3ff-6513c7ed5d5b"
      },
      "execution_count": 16,
      "outputs": [
        {
          "output_type": "stream",
          "name": "stdout",
          "text": [
            "5105043\n"
          ]
        }
      ]
    },
    {
      "cell_type": "code",
      "source": [
        "## As told in the assignment there are 875714 nodes\n",
        "G4 = Graph(875714)\n",
        "for i in range(len(EdgesArray)):\n",
        "  # remove spaces, split on tab\n",
        "  edge = EdgesArray[i].strip().split(' ')\n",
        "  #print(edge)\n",
        "  # convert string to integer and also reduce number by 1 so nodes range from 0-199 instead of 1-200\n",
        "  res = [eval(i)-1 for i in edge]\n",
        "  #print(res)\n",
        "  if res[0] == res[1]:\n",
        "    continue\n",
        "  G4.addEdge(res[0], res[1])\n",
        "  G4.addReverseEdge(res[0], res[1])"
      ],
      "metadata": {
        "id": "QaoTJsL23ESM"
      },
      "execution_count": 17,
      "outputs": []
    },
    {
      "cell_type": "code",
      "source": [
        "## I didn't ultimately use it because even after increasing the recursion limit, I got recursion error\n",
        "# import sys\n",
        "# print(sys.getrecursionlimit())\n",
        "# sys.setrecursionlimit(100000)\n",
        "# print(sys.getrecursionlimit())"
      ],
      "metadata": {
        "id": "cH-EDXLK9VsE"
      },
      "execution_count": null,
      "outputs": []
    },
    {
      "cell_type": "code",
      "source": [
        "SCC = G4.Kosaraju()\n",
        "print (\"Number of components\", len(SCC))\n",
        "lenArray = []\n",
        "for i in SCC:\n",
        "  lenArray.append(len(SCC[i]))\n",
        "lenArray.sort(reverse=True)\n",
        "print(lenArray[:5])"
      ],
      "metadata": {
        "colab": {
          "base_uri": "https://localhost:8080/"
        },
        "id": "G5tlUFJq7hqT",
        "outputId": "4fd851bf-1c69-44ad-bc1d-510c4463e485"
      },
      "execution_count": 18,
      "outputs": [
        {
          "output_type": "stream",
          "name": "stderr",
          "text": [
            "IOPub data rate exceeded.\n",
            "The notebook server will temporarily stop sending output\n",
            "to the client in order to avoid crashing it.\n",
            "To change this limit, set the config variable\n",
            "`--NotebookApp.iopub_data_rate_limit`.\n",
            "\n",
            "Current values:\n",
            "NotebookApp.iopub_data_rate_limit=1000000.0 (bytes/sec)\n",
            "NotebookApp.rate_limit_window=3.0 (secs)\n",
            "\n"
          ]
        },
        {
          "output_type": "stream",
          "name": "stdout",
          "text": [
            "Number of components 371762\n",
            "[434821, 968, 459, 313, 211]\n"
          ]
        }
      ]
    },
    {
      "cell_type": "markdown",
      "source": [
        "My God I got the correct answer after so many days! Success is sweet!"
      ],
      "metadata": {
        "id": "w8-MKXCzNZdr"
      }
    },
    {
      "cell_type": "markdown",
      "source": [
        "Correct Answer was: 434821,968,459,313,211\n"
      ],
      "metadata": {
        "id": "H-RhCrugBfqF"
      }
    }
  ]
}