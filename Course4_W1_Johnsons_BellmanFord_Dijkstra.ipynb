{
  "nbformat": 4,
  "nbformat_minor": 0,
  "metadata": {
    "colab": {
      "provenance": [],
      "authorship_tag": "ABX9TyNJkqCpvujSykImt3MtsOIJ",
      "include_colab_link": true
    },
    "kernelspec": {
      "name": "python3",
      "display_name": "Python 3"
    },
    "language_info": {
      "name": "python"
    }
  },
  "cells": [
    {
      "cell_type": "markdown",
      "metadata": {
        "id": "view-in-github",
        "colab_type": "text"
      },
      "source": [
        "<a href=\"https://colab.research.google.com/github/shivavsrivastava/Algorithms/blob/main/Course4_W1_Johnsons_BellmanFord_Dijkstra.ipynb\" target=\"_parent\"><img src=\"https://colab.research.google.com/assets/colab-badge.svg\" alt=\"Open In Colab\"/></a>"
      ]
    },
    {
      "cell_type": "markdown",
      "source": [
        "# All Pair Shortest Paths\n",
        "\n"
      ],
      "metadata": {
        "id": "8TRYJIbu5szO"
      }
    },
    {
      "cell_type": "code",
      "source": [
        "import numpy as np\n",
        "import random\n",
        "import urllib3\n",
        "import math\n",
        "from collections import defaultdict\n",
        "import time\n",
        "import heapq\n",
        "from heapq import heappush, heappop, heapify\n",
        "import sys\n",
        "from itertools import count\n",
        "\n",
        "import networkx as nx\n",
        "import matplotlib.pyplot as plt"
      ],
      "metadata": {
        "id": "P9NoK--bQ8MS"
      },
      "execution_count": null,
      "outputs": []
    },
    {
      "cell_type": "markdown",
      "source": [
        "## Bellman-Ford Algorithm"
      ],
      "metadata": {
        "id": "QGUhWJjj9DKT"
      }
    },
    {
      "cell_type": "markdown",
      "source": [
        "The Bellman-Ford algorithm solves the single-source shortest-path problem. While slower than Dijkstra's algorithm, it accommodates negative edge lengths and is also better suited for distributed implementations.\n",
        "\n",
        "Runtime O(mn)"
      ],
      "metadata": {
        "id": "Ifs2cuw_9HQy"
      }
    },
    {
      "cell_type": "markdown",
      "source": [
        "Bellman Ford Algorithm using Dynamic Programming with:\n",
        "\n",
        "► Negative edge cost\n",
        "\n",
        "► Space Optimization\n",
        "\n",
        "► Stopping Early\n",
        "\n",
        "► Negative Cycle Detection\n",
        "\n",
        "► Reconstruction Algorithm in case where negative cycle is not detected\n"
      ],
      "metadata": {
        "id": "ZUvpg1sC-0kv"
      }
    },
    {
      "cell_type": "code",
      "source": [
        "def Bellman_Ford_Algorithm_dynamic(graph, A, B, nodes, i_start_vert):\n",
        "    row, col = A.shape\n",
        "    #print(\"rows = {}, columns = {}\".format(row, col))\n",
        "    negative_cycle = False\n",
        "    early_stopped = False\n",
        "    for i in range(1, col+1):\n",
        "        if all(A[0] == A[1]):  # stopping early\n",
        "            early_stopped = True\n",
        "            break\n",
        "        A[0] = A[1]\n",
        "        B[0] = B[1]\n",
        "        for v in range(col):\n",
        "            case_sum_subproblems = []\n",
        "            case_1 = A[0][v]\n",
        "            case_1_b = B[0][v]\n",
        "            for pre in graph.predecessors(nodes[v]):\n",
        "                w = nodes.index(pre)\n",
        "                #print(\"i: {}, iw: {}, w: {}, v: {}, sw: {}, wv: {} \".format(i, w,nodes[w], nodes[v], A[0][w] , graph.edges[nodes[w], nodes[v]]['weight']))\n",
        "                case_sum_subproblems.append([A[0][w] + graph.edges[nodes[w], nodes[v]]['weight'], w])\n",
        "                #print(case_sum_subproblems)\n",
        "            if len(case_sum_subproblems) != 0:\n",
        "                case_2 = min(case_sum_subproblems)\n",
        "                case_2_b = case_2[1]\n",
        "                #print(\"case_1: {} case_2: {}\".format(case_1, case_2))\n",
        "                if case_1 <= case_2[0]:\n",
        "                    A[1][v] = case_1\n",
        "                    B[1][v] = case_1_b\n",
        "                else:\n",
        "                    A[1][v] = case_2[0]\n",
        "                    B[1][v] = case_2_b\n",
        "                #print(A)\n",
        "                #print(B)\n",
        "    if any(A[0] != A[1]) and (early_stopped == False) :  # Negative Cycle Detection\n",
        "        negative_cycle = True\n",
        "    return negative_cycle\n",
        "\n",
        "\n",
        "def reconstruction_algorithm(graph, A, B, nodes, i_start_vert):\n",
        "    print(\"Bellman Ford Algorithm Reconstructing the shortest paths: \")\n",
        "    for v in range(len(nodes)):\n",
        "        path_node = v\n",
        "        path = []\n",
        "        while path_node != i_start_vert:\n",
        "            path.append(nodes[path_node])\n",
        "            path_node = B[1][path_node]\n",
        "        path.append(nodes[i_start_vert])\n",
        "        #print(\"({}, {}) : {}\".format(nodes[i_start_vert], nodes[v], path[::-1]))\n",
        "\n",
        "\n",
        "def Bellman_Ford_Algorithm_optimize(graph, start_vert):\n",
        "    nodes = list(graph.nodes)\n",
        "    #A = np.full((len(nodes)-1, len(nodes)), None)\n",
        "    A = np.full((2, len(nodes)), None)   # space optimization\n",
        "    B = np.full((2, len(nodes)), None)   # Reconstruction Algorithm\n",
        "    i_start_vert = nodes.index(start_vert)\n",
        "    A[1] = float('inf')\n",
        "    A[1][i_start_vert] = 0\n",
        "    B[1][i_start_vert] = i_start_vert\n",
        "    negative_cycle = Bellman_Ford_Algorithm_dynamic(graph, A, B, nodes, i_start_vert)\n",
        "    if negative_cycle == False:\n",
        "        #print(\"A : \\n{}\".format(A))\n",
        "        shortest_paths = A[-1]\n",
        "        print(\"Bellman Ford Algorithm - Shortest path distance:\")\n",
        "        for idx in range(len(shortest_paths)):\n",
        "            print(\"({}, {}): {}\".format(start_vert, nodes[idx], shortest_paths[idx]))\n",
        "\n",
        "        reconstruction_algorithm(graph, A, B, nodes, i_start_vert)\n",
        "        return [list(shortest_paths), nodes]\n",
        "\n",
        "    else:\n",
        "        print(\"Error: Negative Cycle detected in graph. Bellman-Ford Algorithm does not allow negative cycle.\")\n",
        "        return False\n",
        "\n",
        ""
      ],
      "metadata": {
        "id": "AoUuxfi1_e6A"
      },
      "execution_count": null,
      "outputs": []
    },
    {
      "cell_type": "code",
      "source": [],
      "metadata": {
        "id": "lXfisYdLNNQS"
      },
      "execution_count": null,
      "outputs": []
    },
    {
      "cell_type": "code",
      "source": [
        "# Test 1: Negative Edge and Reconstruction algorithm\n",
        "\n",
        "DG = nx.DiGraph()\n",
        "for i,j in zip(['s', 'v', 'w', 'x', 't'],[(0, 5), (5, 10), (10, 10), (7.5, 0), (15, 5)]):\n",
        "    DG.add_node(i, pos=j)\n",
        "DG.nodes.data()\n",
        "DG.add_weighted_edges_from([('s', 'v', 0), ('v', 'w', 2), ('w', 't', 2), ('t', 'w', 2), ('s', 'x', 4), ('v', 'x', -3), ('x', 't', -5)])\n",
        "pos = nx.get_node_attributes(DG, 'pos')\n",
        "weights = nx.get_edge_attributes(DG, 'weight')\n",
        "nx.draw_networkx_edge_labels(DG, pos, edge_labels = weights)\n",
        "nx.draw_networkx_labels(DG,pos=pos)\n",
        "nx.draw(DG, pos, with_labels = True)\n",
        "start_vert = 's'\n",
        "Bellman_Ford_Algorithm_optimize(DG, start_vert)"
      ],
      "metadata": {
        "id": "T5AcgBe-Cl0E"
      },
      "execution_count": null,
      "outputs": []
    },
    {
      "cell_type": "code",
      "source": [
        "## Test2: Negative Cycle\n",
        "DG = nx.DiGraph()\n",
        "for i,j in zip(['s', 'v', 'w', 'x', 't'],[(0, 5), (5, 10), (10, 10), (7.5, 0), (15, 5)]):\n",
        "    DG.add_node(i, pos=j)\n",
        "DG.nodes.data()\n",
        "DG.add_weighted_edges_from([('s', 'v', 0), ('v', 'w', 2), ('w', 't', 2), ('t', 'w', 2), ('s', 'x', -4), ('x', 's', -4), ('v', 'x', -3), ('x', 't', -5)])\n",
        "pos = nx.get_node_attributes(DG, 'pos')\n",
        "weights = nx.get_edge_attributes(DG, 'weight')\n",
        "nx.draw_networkx_edge_labels(DG, pos, edge_labels = weights)\n",
        "nx.draw_networkx_labels(DG,pos=pos)\n",
        "nx.draw(DG, pos, with_labels = True)\n",
        "start_vert = 's'\n",
        "Bellman_Ford_Algorithm_optimize(DG, start_vert)"
      ],
      "metadata": {
        "id": "jZPFVwoDDoVe"
      },
      "execution_count": null,
      "outputs": []
    },
    {
      "cell_type": "code",
      "source": [
        "def dijkstra_heap(DG, source):\n",
        "    #Heap implementation which does the following\n",
        "    #\n",
        "    # 1. For vertices in X, find all edges originating from them to all vertices not in X\n",
        "    # 2. Keep track of minimum value of len(w) + lwv\n",
        "    # 3. Return w, v and lwv\n",
        "    X = [source]\n",
        "    minHeap = []\n",
        "    heapq.heappush(minHeap, [0, source])\n",
        "    all_nodes = list(DG.nodes)\n",
        "    for node in all_nodes:\n",
        "        DG.nodes[node]['shortest_dist'] = float('inf')\n",
        "    while len(minHeap) != 0:\n",
        "        w = heapq.heappop(minHeap)\n",
        "        X.append(w[1])\n",
        "        DG.nodes[w[1]]['shortest_dist'] = w[0]\n",
        "        for edge in list(DG.edges):\n",
        "            if (edge[0] == w[1]) and (edge[1] not in X):  # node that has just been popped should be the tail\n",
        "                dji_greedy = w[0] + DG.edges[edge[0], edge[1]]['weight'] #djikstra's greedy criterion\n",
        "                doublenp = np.array(minHeap)\n",
        "                singlenp = []\n",
        "                if len(doublenp) == 0:\n",
        "                    heapq.heappush(minHeap, [dji_greedy, edge[1]])\n",
        "                    continue\n",
        "                else:\n",
        "                    singlenp = doublenp[:,1]\n",
        "                if edge[1] not in singlenp:\n",
        "                    heapq.heappush(minHeap, [dji_greedy, edge[1]])\n",
        "                else:\n",
        "                    dest_idx = np.where(singlenp == edge[1])\n",
        "                    if dji_greedy < int(doublenp[dest_idx][0][0]):\n",
        "                        minHeap[dest_idx[0][0]] = minHeap[0]\n",
        "                        heapq.heapify(minHeap)\n",
        "                        heapq.heappop(minHeap)\n",
        "                        heapq.heappush(minHeap, [dji_greedy, edge[1]])\n",
        "    shortest_path_dict = {}\n",
        "    for node in all_nodes:\n",
        "        shortest_path_dict[node] = DG.nodes[node]['shortest_dist']\n",
        "    return shortest_path_dict"
      ],
      "metadata": {
        "id": "K4fdVfGUErCY"
      },
      "execution_count": null,
      "outputs": []
    },
    {
      "cell_type": "code",
      "source": [
        "def dijkstra_heap2(DG, source):\n",
        "    #Heap implementation which does the following\n",
        "    #\n",
        "    # 1. For vertices in X, find all edges originating from them to all vertices not in X\n",
        "    # 2. Keep track of minimum value of len(w) + lwv\n",
        "    # 3. Return w, v and lwv\n",
        "    X = [source]\n",
        "    minHeap = []\n",
        "    heapq.heappush(minHeap, [0, source])\n",
        "    all_nodes = list(DG.nodes)\n",
        "    for node in all_nodes:\n",
        "        DG.nodes[node]['shortest_dist'] = float('inf')\n",
        "    while len(minHeap) != 0:\n",
        "        w = heapq.heappop(minHeap)\n",
        "        # If the node already in X, then ignore\n",
        "        if w[1] in X and w[1]!=source:\n",
        "          continue\n",
        "        X.append(w[1])\n",
        "        DG.nodes[w[1]]['shortest_dist'] = w[0]\n",
        "        for edge in list(DG.edges):\n",
        "            if (edge[0] == w[1]) and (edge[1] not in X):  # node that has just been popped should be the tail\n",
        "                dji_greedy = w[0] + DG.edges[edge[0], edge[1]]['weight'] #djikstra's greedy criterion\n",
        "                heapq.heappush(minHeap, [dji_greedy, edge[1]])\n",
        "    shortest_path_dict = {}\n",
        "    for node in all_nodes:\n",
        "        shortest_path_dict[node] = DG.nodes[node]['shortest_dist']\n",
        "    return shortest_path_dict"
      ],
      "metadata": {
        "id": "37uSGQDv0G5h"
      },
      "execution_count": null,
      "outputs": []
    },
    {
      "cell_type": "code",
      "source": [
        "def Johnsons_Algorithm(graph):\n",
        "    nodes = list(graph.nodes)\n",
        "    graph_prime = graph.copy(as_view=False)\n",
        "    graph_prime.add_node('Johnsons')\n",
        "    j_edges_add = []\n",
        "    for node in nodes:\n",
        "        j_edges_add.append(('Johnsons', node, 0))\n",
        "    graph_prime.add_weighted_edges_from(j_edges_add)\n",
        "    j_start_vert = 'Johnsons'\n",
        "    bellman_Pv = Bellman_Ford_Algorithm_optimize(graph_prime, j_start_vert)\n",
        "    if bellman_Pv == False:\n",
        "        return False\n",
        "    graph_prime_dij = graph.copy(as_view=False)\n",
        "    for e in graph_prime_dij.edges:\n",
        "        Pu = bellman_Pv[0][bellman_Pv[1].index(e[0])]\n",
        "        Pv = bellman_Pv[0][bellman_Pv[1].index(e[1])]\n",
        "        graph_prime_dij[e[0]][e[1]]['weight'] = graph[e[0]][e[1]]['weight'] + Pu - Pv\n",
        "    print(\"\\nRunning Dijkstra on all paths\")\n",
        "    apsp = {}\n",
        "    for node in nodes:\n",
        "        shortest_dict = dijkstra_heap2(graph_prime_dij, node)\n",
        "        apsp[node] = shortest_dict\n",
        "        #print(\"Dijkstra {} : {}\".format(node, shortest_dict))\n",
        "    print(\"\\nJohnson\\'s Algorithm : Shortest path format head : [tail: shortest path values] : \\n\")\n",
        "    shortest_shortest_apsp = float('inf')\n",
        "    for source, dest in apsp.items():\n",
        "        for d in dest:\n",
        "            Pu = bellman_Pv[0][bellman_Pv[1].index(source)]\n",
        "            Pv = bellman_Pv[0][bellman_Pv[1].index(d)]\n",
        "            dest[d] -= (Pu - Pv)\n",
        "            if shortest_shortest_apsp > dest[d]:\n",
        "                shortest_shortest_apsp = dest[d]\n",
        "        print(\"{}  :  {}\".format(source, dest))\n",
        "    return shortest_shortest_apsp\n",
        ""
      ],
      "metadata": {
        "id": "6tQcaAkEFVVF"
      },
      "execution_count": null,
      "outputs": []
    },
    {
      "cell_type": "code",
      "source": [
        "# Test 3: Bellman-Ford and Johnsons\n",
        "DG = nx.DiGraph()\n",
        "for i,j in zip(['s', 'v', 'w', 'x', 't'],[(0, 5), (5, 10), (10, 10), (7.5, 0), (15, 5)]):\n",
        "    DG.add_node(i, pos=j)\n",
        "DG.nodes.data()\n",
        "DG.add_weighted_edges_from([('s', 'v', 0), ('v', 'w', 2), ('w', 't', 2), ('t', 'w', 2), ('s', 'x', 4), ('v', 'x', -3), ('x', 't', -5)])\n",
        "pos = nx.get_node_attributes(DG, 'pos')\n",
        "weights = nx.get_edge_attributes(DG, 'weight')\n",
        "nx.draw_networkx_edge_labels(DG, pos, edge_labels = weights)\n",
        "nx.draw_networkx_labels(DG,pos=pos)\n",
        "nx.draw(DG, pos, with_labels = True)\n",
        "Johnsons_Algorithm(DG)"
      ],
      "metadata": {
        "id": "icUniNfzFzlM"
      },
      "execution_count": null,
      "outputs": []
    },
    {
      "cell_type": "markdown",
      "source": [
        "## Programming Assignment\n",
        "\n"
      ],
      "metadata": {
        "id": "f_1AoSn0FFho"
      }
    },
    {
      "cell_type": "markdown",
      "source": [
        "In this assignment you will implement one or more algorithms for the all-pairs shortest-path problem.  Here are data files describing three graphs:\n",
        "\n",
        "**g1.txt**\n",
        "\n",
        "**g2.txt**\n",
        "\n",
        "**g3.txt**\n",
        "\n",
        "\n",
        "\n",
        "The first line indicates the number of vertices and edges, respectively.  Each subsequent line describes an edge (the first two numbers are its tail and head, respectively) and its length (the third number).  NOTE: some of the edge lengths are negative.  NOTE: These graphs may or may not have negative-cost cycles.\n",
        "\n",
        "Your task is to compute the \"shortest shortest path\".  Precisely, you must first identify which, if any, of the three graphs have no negative cycles.  For each such graph, you should compute all-pairs shortest paths and remember the smallest one (i.e., compute\n",
        "min\n",
        "⁡\n",
        "𝑢\n",
        ",\n",
        "𝑣\n",
        "∈\n",
        "𝑉\n",
        "𝑑\n",
        "(\n",
        "𝑢\n",
        ",\n",
        "𝑣\n",
        ")\n",
        "min\n",
        "u,v∈V\n",
        "​\n",
        " d(u,v), where\n",
        "𝑑\n",
        "(\n",
        "𝑢\n",
        ",\n",
        "𝑣\n",
        ")\n",
        "d(u,v) denotes the shortest-path distance from\n",
        "𝑢\n",
        "u to\n",
        "𝑣\n",
        "v).\n",
        "\n",
        "If each of the three graphs has a negative-cost cycle, then enter \"NULL\" in the box below.  If exactly one graph has no negative-cost cycles, then enter the length of its shortest shortest path in the box below.  If two or more of the graphs have no negative-cost cycles, then enter the smallest of the lengths of their shortest shortest paths in the box below."
      ],
      "metadata": {
        "id": "0pMBaPAv-6l9"
      }
    },
    {
      "cell_type": "code",
      "source": [
        "def testcase_Johnson_Algorithm(url):\n",
        "    test_graph = nx.DiGraph()\n",
        "    http = urllib3.PoolManager()\n",
        "    r1 = http.request('GET', url)\n",
        "    IntegerMatrixStringJoin = r1.data.decode('utf8').split('\\n')\n",
        "    IntegerMatrixStringJoin.remove('')\n",
        "    IntegerMatrixStringJoin.remove(IntegerMatrixStringJoin[0])\n",
        "    edges = []\n",
        "    for i in IntegerMatrixStringJoin:\n",
        "        node_edges = i.split(' ')\n",
        "        source = int(node_edges[0])\n",
        "        dest = int(node_edges[1])\n",
        "        length = int(node_edges[2])\n",
        "        edges.append((source, dest, length))\n",
        "    test_graph.add_weighted_edges_from(edges)\n",
        "    print(\"Graph created\")\n",
        "    output = Johnsons_Algorithm(test_graph)\n",
        "    return output\n"
      ],
      "metadata": {
        "id": "izfxR2GKvhT_"
      },
      "execution_count": null,
      "outputs": []
    },
    {
      "cell_type": "code",
      "source": [
        "G1_shortest_path = testcase_Johnson_Algorithm(\"https://d3c33hcgiwev3.cloudfront.net/_6ff856efca965e8774eb18584754fd65_g1.txt?Expires=1716163200&Signature=jYFeKGlFQU0C97jT0jsDCs-7ARgln-gGfBq1Fh6HRfhqJfh0XmulAHOsk6~d3j0yJt6sb6wC-7CpwFOtFKIdmncZNtuY8YYWt~U1gGsUpPHHDNRNLL5fxP4zar5eHnxht~zZ9gF~iBKEWKC2gknHvR26u0g5ZpBx9kzrh9~kUZA_&Key-Pair-Id=APKAJLTNE6QMUY6HBC5A\")\n",
        "print(G1_shortest_path)"
      ],
      "metadata": {
        "id": "lzFnBZM2LD7e"
      },
      "execution_count": null,
      "outputs": []
    },
    {
      "cell_type": "markdown",
      "source": [
        "Ans: Negative cycle detected!\n",
        "\n",
        "The Johnson Algorithm took a long time : 7 minutes"
      ],
      "metadata": {
        "id": "-vleqo-yNelq"
      }
    },
    {
      "cell_type": "code",
      "source": [
        "G2_shortest_path = testcase_Johnson_Algorithm(\"https://d3c33hcgiwev3.cloudfront.net/_6ff856efca965e8774eb18584754fd65_g2.txt?Expires=1716163200&Signature=jYGtQy-VcqMic6OctmbIRbaGHAzTDYCvbsEbqgBq8U7yVUF5s-wfCrUY0-KNxGlDEqrwAEX92ypDNcm~gvHOm60dssAXAvocr1f31u8y0osDYEtJ23BfURvITxA5whOCjTa3JV61jQHdpHIPdpL326YCMkkUDfbO3Ji49zyICSw_&Key-Pair-Id=APKAJLTNE6QMUY6HBC5A\")\n",
        "print(G2_shortest_path)"
      ],
      "metadata": {
        "id": "ko2rZCuRNPsR"
      },
      "execution_count": null,
      "outputs": []
    },
    {
      "cell_type": "markdown",
      "source": [
        "Ans: Negative cycle detected!\n",
        "\n",
        "The Johnson Algorithm took a long time : 7 minutes 30 seconds"
      ],
      "metadata": {
        "id": "rSvcloNHPO3S"
      }
    },
    {
      "cell_type": "code",
      "source": [
        "G3_shortest_path = testcase_Johnson_Algorithm(\"https://d3c33hcgiwev3.cloudfront.net/_6ff856efca965e8774eb18584754fd65_g3.txt?Expires=1716163200&Signature=g2g2unVy85a54I6fcVTksw5SUcI~gHJ2p6MEWcoelfYC6nCLtP5~CffHn4pq5UPpXNE6Jlc1aROP7lYiQA3dwOkSdS24PJ1Yj5WUnczwEvyu4BPcnyNYbAd8MbZcIvqa7hVUgPQ7BFKaQXW~IYvz46Y37JkJVxIdSVyYdBpWXcY_&Key-Pair-Id=APKAJLTNE6QMUY6HBC5A\")\n",
        "print(G3_shortest_path)"
      ],
      "metadata": {
        "id": "P3C27gkvNv4P"
      },
      "execution_count": null,
      "outputs": []
    },
    {
      "cell_type": "markdown",
      "source": [
        "Ans: -19\n",
        "\n",
        "algorithm took 1 hr 30 sec"
      ],
      "metadata": {
        "id": "rTV_D3MOwbWO"
      }
    }
  ]
}