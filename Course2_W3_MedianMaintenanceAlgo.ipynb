{
  "nbformat": 4,
  "nbformat_minor": 0,
  "metadata": {
    "colab": {
      "provenance": [],
      "authorship_tag": "ABX9TyOWBg89YeBVTKQJfoQH5n/B",
      "include_colab_link": true
    },
    "kernelspec": {
      "name": "python3",
      "display_name": "Python 3"
    },
    "language_info": {
      "name": "python"
    }
  },
  "cells": [
    {
      "cell_type": "markdown",
      "metadata": {
        "id": "view-in-github",
        "colab_type": "text"
      },
      "source": [
        "<a href=\"https://colab.research.google.com/github/shivavsrivastava/Algorithms/blob/main/Course2_W3_MedianMaintenanceAlgo.ipynb\" target=\"_parent\"><img src=\"https://colab.research.google.com/assets/colab-badge.svg\" alt=\"Open In Colab\"/></a>"
      ]
    },
    {
      "cell_type": "markdown",
      "source": [
        "# Median Maintenance Algorithm\n"
      ],
      "metadata": {
        "id": "8TRYJIbu5szO"
      }
    },
    {
      "cell_type": "code",
      "source": [
        "import sys\n",
        "import numpy as np\n",
        "import heapq\n",
        "import time\n",
        "print(sys.version)"
      ],
      "metadata": {
        "id": "P9NoK--bQ8MS"
      },
      "execution_count": null,
      "outputs": []
    },
    {
      "cell_type": "markdown",
      "source": [
        "## Heap based implementation\n",
        "Maintain 2 heaps - a max heap and a min heap. Keep balancing the heaps so that they roughly have the same size"
      ],
      "metadata": {
        "id": "f_1AoSn0FFho"
      }
    },
    {
      "cell_type": "code",
      "source": [
        "class MedianMaintenance:\n",
        "  def __init__(self):\n",
        "    self.maxHeap = []\n",
        "    self.minHeap = []\n",
        "    self.size = 0\n",
        "\n",
        "  def __repr__(self):\n",
        "    return str([-1*e for e in list(self.maxHeap)[::-1]] + list(self.minHeap))\n",
        "\n",
        "  def addElement(self, element):\n",
        "    # Add the element into a respective heap\n",
        "    # MaxHeap - has elements first turned a negative number and then added\n",
        "    # MinHeap - has elements added\n",
        "    # _______________        _______________\n",
        "    #  MaxHeap      |        | MinHeap\n",
        "    # ______________|        |______________\n",
        "\n",
        "    if(len(self.minHeap)==0 or element > self.minHeap[0]):\n",
        "      heapq.heappush(self.minHeap, element)\n",
        "    else:\n",
        "      heapq.heappush(self.maxHeap, -element)\n",
        "\n",
        "    self.maintainHeaps()\n",
        "\n",
        "\n",
        "  def getMedian(self):\n",
        "    return -self.maxHeap[0]\n",
        "\n",
        "  def maintainHeaps(self):\n",
        "    # try to keep the size difference between 2 heaps to no greater than 1\n",
        "    while len(self.minHeap)>len(self.maxHeap):\n",
        "      heapq.heappush(self.maxHeap, -heapq.heappop(self.minHeap))\n",
        "      #print(\"MinHeap became too big, pushing elements to MaxHeap\")\n",
        "\n",
        "    while len(self.maxHeap) > len(self.minHeap) + 1:\n",
        "      heapq.heappush(self.minHeap, -heapq.heappop(self.maxHeap))\n",
        "      #print(\"MaxHeap became too big, pushing elements to MinHeap\")\n",
        "\n",
        "    # At this point maxHeap contains atmost 1 more element than minHeap\n",
        "    # Check if maxHeap's max element is smaller than minHeaps smallest, then they should be interchanged\n",
        "    if len(self.maxHeap)!=0 and len(self.minHeap)!=0 and (-self.maxHeap[0] > self.minHeap[0]) :\n",
        "      self.maxHeap[0], self.minHeap[0] = -self.minHeap[0], -self.maxHeap[0]\n",
        "      print(\"Corner case where elements need to be swapped\")\n",
        "\n"
      ],
      "metadata": {
        "id": "igXU1CY76Fgw"
      },
      "execution_count": null,
      "outputs": []
    },
    {
      "cell_type": "code",
      "source": [
        "class MedianMaintenanceAVLTree:\n",
        "  def __init__(self):\n",
        "    self.maxHeap = []\n",
        "    self.minHeap = []\n",
        "    self.size = 0\n",
        "\n",
        "  def __repr__(self):\n",
        "    return str([-1*e for e in list(self.maxHeap)[::-1]] + list(self.minHeap))\n",
        "\n",
        "  def addElement(self, element):\n",
        "    # Add the element into a respective heap\n",
        "    # MaxHeap - has elements first turned a negative number and then added\n",
        "    # MinHeap - has elements added\n",
        "    # _______________        _______________\n",
        "    #  MaxHeap      |        | MinHeap\n",
        "    # ______________|        |______________\n",
        "\n",
        "    if(len(self.minHeap)==0 or element > self.minHeap[0]):\n",
        "      heapq.heappush(self.minHeap, element)\n",
        "    else:\n",
        "      heapq.heappush(self.maxHeap, -element)\n",
        "\n",
        "    self.maintainHeaps()\n",
        "\n",
        "\n",
        "  def getMedian(self):\n",
        "    return -self.maxHeap[0]\n",
        "\n",
        "  def maintainHeaps(self):\n",
        "    # try to keep the size difference between 2 heaps to no greater than 1\n",
        "    while len(self.minHeap)>len(self.maxHeap):\n",
        "      heapq.heappush(self.maxHeap, -heapq.heappop(self.minHeap))\n",
        "      #print(\"MinHeap became too big, pushing elements to MaxHeap\")\n",
        "\n",
        "    while len(self.maxHeap) > len(self.minHeap) + 1:\n",
        "      heapq.heappush(self.minHeap, -heapq.heappop(self.maxHeap))\n",
        "      #print(\"MaxHeap became too big, pushing elements to MinHeap\")\n",
        "\n",
        "    # At this point maxHeap contains atmost 1 more element than minHeap\n",
        "    # Check if maxHeap's max element is smaller than minHeaps smallest, then they should be interchanged\n",
        "    if len(self.maxHeap)!=0 and len(self.minHeap)!=0 and (-self.maxHeap[0] > self.minHeap[0]) :\n",
        "      self.maxHeap[0], self.minHeap[0] = -self.minHeap[0], -self.maxHeap[0]\n",
        "      print(\"Corner case where elements need to be swapped\")\n",
        "\n"
      ],
      "metadata": {
        "id": "DD07NfZb27VB"
      },
      "execution_count": null,
      "outputs": []
    },
    {
      "cell_type": "markdown",
      "source": [
        "#### Test the MedianMaintenance\n",
        "\n"
      ],
      "metadata": {
        "id": "vbMgv9EwFcuN"
      }
    },
    {
      "cell_type": "code",
      "source": [
        "li = [3, 8, 2, 5, 1, 4, 7, 6]\n",
        "medianMaintenance = MedianMaintenance()\n",
        "for element in li:\n",
        "  medianMaintenance.addElement(element)\n",
        "  print(\"Heap {} has median {}\".format(medianMaintenance, medianMaintenance.getMedian()))"
      ],
      "metadata": {
        "id": "2YGFPiquVSjH"
      },
      "execution_count": null,
      "outputs": []
    },
    {
      "cell_type": "code",
      "source": [
        "li = [9, 10, 6, 2, 7, 1, 5, 8, 3, 4, 15, 17, 13]\n",
        "medianMaintenance = MedianMaintenance()\n",
        "for element in li:\n",
        "  medianMaintenance.addElement(element)\n",
        "  print(\"Heap {} has median {}\".format(medianMaintenance, medianMaintenance.getMedian()))"
      ],
      "metadata": {
        "id": "Q6qYdibmVpDr"
      },
      "execution_count": null,
      "outputs": []
    },
    {
      "cell_type": "markdown",
      "source": [
        "## ASSIGNMENT\n",
        "Download the following text file:\n",
        "**Median.txt**\n",
        "\n",
        "The goal of this problem is to implement the \"Median Maintenance\" algorithm (covered in the Week 3 lecture on heap applications).  The text file contains a list of the integers from 1 to 10000 in unsorted order; you should treat this as a stream of numbers, arriving one by one. If stream length is odd, then median = (k+1)/2\n",
        "else\n",
        "median = k/2\n",
        "\n",
        "In the box below you should type the sum of these 10000 medians, modulo 10000 (i.e., only the last 4 digits).\n",
        "\n",
        "OPTIONAL EXERCISE: Compare the performance achieved by heap-based and search-tree-based implementations of the algorithm.\n",
        "\n"
      ],
      "metadata": {
        "id": "9rQyPzwTkhlh"
      }
    },
    {
      "cell_type": "code",
      "source": [
        "import pandas as pd\n",
        "df = pd.read_table('https://d3c33hcgiwev3.cloudfront.net/_6ec67df2804ff4b58ab21c12edcb21f8_Median.txt?Expires=1712361600&Signature=jq5Td7uUCjy~YxJ1uD~pbYlobfTkwEfr7pD-JVFo4DJUdsorV1gHg6TK-Zdw0zQ3EdEMIlkjz0SgBorLEQV1-mlbI8mxZMR9mHsEz93vQU6v0-q26e0AK8zjkoPU-jS~cuabzzOvinlwQjPbmpWUkokfzOYjylMuWAY4ZO6aozs_&Key-Pair-Id=APKAJLTNE6QMUY6HBC5A', header=None)"
      ],
      "metadata": {
        "id": "FK0IzSp7lWXz"
      },
      "execution_count": null,
      "outputs": []
    },
    {
      "cell_type": "code",
      "source": [
        "df.describe()"
      ],
      "metadata": {
        "id": "kff3E1SsWXXG"
      },
      "execution_count": null,
      "outputs": []
    },
    {
      "cell_type": "code",
      "source": [
        "array = df[0].tolist()"
      ],
      "metadata": {
        "id": "6IBeIlYPm4mP"
      },
      "execution_count": null,
      "outputs": []
    },
    {
      "cell_type": "code",
      "source": [
        "t1 = time.time()\n",
        "medianMaintenance = MedianMaintenance()\n",
        "medTotal = 0\n",
        "for element in array:\n",
        "  medianMaintenance.addElement(element)\n",
        "  #print(\"Heap {} has median {}\".format(medianMaintenance, medianMaintenance.getMedian()))\n",
        "  medTotal += medianMaintenance.getMedian()\n",
        "\n",
        "t2=time.time()\n",
        "print(\"Total median is {} and it took {} seconds using Heap\".format(medTotal%10000, (t2-t1)))\n"
      ],
      "metadata": {
        "id": "6THhlZd_W45t"
      },
      "execution_count": null,
      "outputs": []
    },
    {
      "cell_type": "markdown",
      "source": [
        "Answer was 1213"
      ],
      "metadata": {
        "id": "KM2vPpxl0p4C"
      }
    },
    {
      "cell_type": "markdown",
      "source": [
        "## AVL Tree\n",
        "picked up from: https://gist.github.com/girish3/a8e3931154af4da89995"
      ],
      "metadata": {
        "id": "HnuC0L-ngAaU"
      }
    },
    {
      "cell_type": "code",
      "source": [
        "#import random, math\n",
        "outputdebug = False\n",
        "\n",
        "def debug(msg):\n",
        "  if outputdebug:\n",
        "    print(msg)\n",
        "\n",
        "class Node():\n",
        "  def __init__(self, key):\n",
        "    self.key = key\n",
        "    self.left = None\n",
        "    self.right = None\n",
        "\n",
        "\n",
        "\n",
        "\n",
        "class AVLTree():\n",
        "  def __init__(self, *args):\n",
        "    self.node = None\n",
        "    self.height = -1\n",
        "    self.balance = 0;\n",
        "\n",
        "    if len(args) == 1:\n",
        "      for i in args[0]:\n",
        "        self.insert(i)\n",
        "\n",
        "  def height(self):\n",
        "    if self.node:\n",
        "      return self.node.height\n",
        "    else:\n",
        "      return 0\n",
        "\n",
        "  def is_leaf(self):\n",
        "    return (self.height == 0)\n",
        "\n",
        "  def insert(self, key):\n",
        "    tree = self.node\n",
        "    newnode = Node(key)\n",
        "    if tree == None:\n",
        "      self.node = newnode\n",
        "      self.node.left = AVLTree()\n",
        "      self.node.right = AVLTree()\n",
        "      debug(\"Inserted key [\" + str(key) + \"]\")\n",
        "    elif key < tree.key:\n",
        "      self.node.left.insert(key)\n",
        "    elif key > tree.key:\n",
        "      self.node.right.insert(key)\n",
        "    else:\n",
        "      debug(\"Key [\" + str(key) + \"] already in tree.\")\n",
        "    self.rebalance()\n",
        "\n",
        "  def rebalance(self):\n",
        "    '''\n",
        "    Rebalance a particular (sub)tree\n",
        "    '''\n",
        "    # key inserted. Let's check if we're balanced\n",
        "    self.update_heights(False)\n",
        "    self.update_balances(False)\n",
        "    while self.balance < -1 or self.balance > 1:\n",
        "      if self.balance > 1:\n",
        "        if self.node.left.balance < 0:\n",
        "          self.node.left.lrotate() # we're in case II\n",
        "          self.update_heights()\n",
        "          self.update_balances()\n",
        "        self.rrotate()\n",
        "        self.update_heights()\n",
        "        self.update_balances()\n",
        "\n",
        "      if self.balance < -1:\n",
        "        if self.node.right.balance > 0:\n",
        "          self.node.right.rrotate() # we're in case III\n",
        "          self.update_heights()\n",
        "          self.update_balances()\n",
        "        self.lrotate()\n",
        "        self.update_heights()\n",
        "        self.update_balances()\n",
        "\n",
        "\n",
        "  def rrotate(self):\n",
        "    # Rotate left pivoting on self\n",
        "    debug ('Rotating ' + str(self.node.key) + ' right')\n",
        "    A = self.node\n",
        "    B = self.node.left.node\n",
        "    T = B.right.node\n",
        "    self.node = B\n",
        "    B.right.node = A\n",
        "    A.left.node = T\n",
        "\n",
        "\n",
        "  def lrotate(self):\n",
        "    # Rotate left pivoting on self\n",
        "    debug ('Rotating ' + str(self.node.key) + ' left')\n",
        "    A = self.node\n",
        "    B = self.node.right.node\n",
        "    T = B.left.node\n",
        "    self.node = B\n",
        "    B.left.node = A\n",
        "    A.right.node = T\n",
        "\n",
        "\n",
        "  def update_heights(self, recurse=True):\n",
        "    if not self.node == None:\n",
        "      if recurse:\n",
        "        if self.node.left != None:\n",
        "          self.node.left.update_heights()\n",
        "        if self.node.right != None:\n",
        "          self.node.right.update_heights()\n",
        "\n",
        "      self.height = max(self.node.left.height,\n",
        "                        self.node.right.height) + 1\n",
        "    else:\n",
        "      self.height = -1\n",
        "\n",
        "  def update_balances(self, recurse=True):\n",
        "    if not self.node == None:\n",
        "      if recurse:\n",
        "        if self.node.left != None:\n",
        "          self.node.left.update_balances()\n",
        "        if self.node.right != None:\n",
        "          self.node.right.update_balances()\n",
        "\n",
        "      self.balance = self.node.left.height - self.node.right.height\n",
        "    else:\n",
        "      self.balance = 0\n",
        "\n",
        "  def delete(self, key):\n",
        "    # debug(\"Trying to delete at node: \" + str(self.node.key))\n",
        "    if self.node != None:\n",
        "      if self.node.key == key:\n",
        "        debug(\"Deleting ... \" + str(key))\n",
        "        if self.node.left.node == None and self.node.right.node == None:\n",
        "          self.node = None # leaves can be killed at will\n",
        "        # if only one subtree, take that\n",
        "        elif self.node.left.node == None:\n",
        "          self.node = self.node.right.node\n",
        "        elif self.node.right.node == None:\n",
        "          self.node = self.node.left.node\n",
        "        # worst-case: both children present. Find logical successor\n",
        "        else:\n",
        "          replacement = self.logical_successor(self.node)\n",
        "          if replacement != None: # sanity check\n",
        "            debug(\"Found replacement for \" + str(key) + \" -> \" + str(replacement.key))\n",
        "            self.node.key = replacement.key\n",
        "            # replaced. Now delete the key from right child\n",
        "            self.node.right.delete(replacement.key)\n",
        "        self.rebalance()\n",
        "        return\n",
        "      elif key < self.node.key:\n",
        "        self.node.left.delete(key)\n",
        "      elif key > self.node.key:\n",
        "        self.node.right.delete(key)\n",
        "      self.rebalance()\n",
        "    else:\n",
        "      return\n",
        "\n",
        "  def logical_predecessor(self, node):\n",
        "    '''\n",
        "    Find the biggest valued node in LEFT child\n",
        "    '''\n",
        "    node = node.left.node\n",
        "    if node != None:\n",
        "      while node.right != None:\n",
        "        if node.right.node == None:\n",
        "          return node\n",
        "        else:\n",
        "          node = node.right.node\n",
        "    return node\n",
        "\n",
        "  def logical_successor(self, node):\n",
        "    '''\n",
        "    Find the smallese valued node in RIGHT child\n",
        "    '''\n",
        "    node = node.right.node\n",
        "    if node != None: # just a sanity check\n",
        "      while node.left != None:\n",
        "        debug(\"LS: traversing: \" + str(node.key))\n",
        "        if node.left.node == None:\n",
        "          return node\n",
        "        else:\n",
        "          node = node.left.node\n",
        "    return node\n",
        "\n",
        "  def check_balanced(self):\n",
        "    if self == None or self.node == None:\n",
        "      return True\n",
        "\n",
        "    # We always need to make sure we are balanced\n",
        "    self.update_heights()\n",
        "    self.update_balances()\n",
        "    return ((abs(self.balance) < 2) and self.node.left.check_balanced() and self.node.right.check_balanced())\n",
        "\n",
        "  def inorder_traverse(self):\n",
        "    if self.node == None:\n",
        "      return []\n",
        "    inlist = []\n",
        "    l = self.node.left.inorder_traverse()\n",
        "    for i in l:\n",
        "      inlist.append(i)\n",
        "    inlist.append(self.node.key)\n",
        "    r = self.node.right.inorder_traverse()\n",
        "    for i in r:\n",
        "      inlist.append(i)\n",
        "    return inlist\n",
        "\n",
        "  def display(self, level=0, pref=''):\n",
        "    '''\n",
        "    Display the whole tree. Uses recursive def.\n",
        "    TODO: create a better display using breadth-first search\n",
        "    '''\n",
        "    self.update_heights()  # Must update heights before balances\n",
        "    self.update_balances()\n",
        "    if(self.node != None):\n",
        "      #print ('-' * level * 2, pref, self.node.key, \"[\" + str(self.height) + \":\" + str(self.balance) + \"]\", 'L' if self.is_leaf() else ' ')\n",
        "      if self.node.left != None:\n",
        "        #self.node.left.display(level + 1, '<')\n",
        "        self.node.left.display()\n",
        "      print(str(self.node.key))\n",
        "      if self.node.left != None:\n",
        "        #self.node.right.display(level + 1, '>')\n",
        "        self.node.right.display()\n",
        "\n",
        "\n",
        "\n",
        "\n",
        "# Usage example\n",
        "if __name__ == \"__main__\":\n",
        "  a = AVLTree()\n",
        "  print (\"----- Inserting -------\")\n",
        "  #inlist = [5, 2, 12, -4, 3, 21, 19, 25]\n",
        "  inlist = [7, 5, 2, 6, 3, 4, 1, 8, 9, 0]\n",
        "  for i in inlist:\n",
        "    a.insert(i)\n",
        "\n",
        "  a.display()\n",
        "\n",
        "  print (\"----- Deleting -------\")\n",
        "  a.delete(3)\n",
        "  a.delete(4)\n",
        "  # a.delete(5)\n",
        "  a.display()\n",
        "\n",
        "  print (\"\\n\")\n",
        "  print (\"Input            :\", inlist )\n",
        "  print (\"deleting ...       \", 3)\n",
        "  print (\"deleting ...       \", 4)\n",
        "  print (\"Inorder traversal:\", a.inorder_traverse())"
      ],
      "metadata": {
        "id": "uAzJyRMEf9nF"
      },
      "execution_count": null,
      "outputs": []
    },
    {
      "cell_type": "code",
      "source": [
        "t1 = time.time()\n",
        "B = AVLTree()\n",
        "medTotal = 0\n",
        "for element in array:\n",
        "  B.insert(element)\n",
        "  listB = B.inorder_traverse()\n",
        "  if(len(listB)%2 == 0): # even\n",
        "    median = listB[(len(listB)//2)-1]\n",
        "  else:\n",
        "    median = listB[((len(listB)+1)//2)-1]\n",
        "  medTotal += median\n",
        "t2 = time.time()\n",
        "print(\"Total median is {} and it took {} seconds using AVL\".format(medTotal%10000, (t2-t1)))\n"
      ],
      "metadata": {
        "id": "lQTBw0tYxeQt"
      },
      "execution_count": null,
      "outputs": []
    },
    {
      "cell_type": "markdown",
      "source": [
        "AVL Tree did not work out"
      ],
      "metadata": {
        "id": "q_D7oIw303Vb"
      }
    }
  ]
}