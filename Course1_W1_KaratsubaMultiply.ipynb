{
  "nbformat": 4,
  "nbformat_minor": 0,
  "metadata": {
    "colab": {
      "provenance": [],
      "authorship_tag": "ABX9TyN6Ic8yoAQnLxUwdRxozGGr",
      "include_colab_link": true
    },
    "kernelspec": {
      "name": "python3",
      "display_name": "Python 3"
    },
    "language_info": {
      "name": "python"
    }
  },
  "cells": [
    {
      "cell_type": "markdown",
      "metadata": {
        "id": "view-in-github",
        "colab_type": "text"
      },
      "source": [
        "<a href=\"https://colab.research.google.com/github/shivavsrivastava/Algorithms/blob/main/Course1_W1_KaratsubaMultiply.ipynb\" target=\"_parent\"><img src=\"https://colab.research.google.com/assets/colab-badge.svg\" alt=\"Open In Colab\"/></a>"
      ]
    },
    {
      "cell_type": "code",
      "execution_count": null,
      "metadata": {
        "colab": {
          "base_uri": "https://localhost:8080/"
        },
        "id": "yk3joNKJw3Ou",
        "outputId": "6d3c1377-7e70-4e06-c855-68a77269d9e5"
      },
      "outputs": [
        {
          "output_type": "stream",
          "name": "stdout",
          "text": [
            "Mounted at /content/drive\n"
          ]
        }
      ],
      "source": [
        "from google.colab import drive\n",
        "drive.mount('/content/drive')"
      ]
    },
    {
      "cell_type": "code",
      "source": [
        "!git clone https://github.com/ArkaEnergyAI/ArkaAIProject.git"
      ],
      "metadata": {
        "colab": {
          "base_uri": "https://localhost:8080/"
        },
        "id": "KD4mZJgZxD9H",
        "outputId": "bfcd2414-3753-4c80-94d7-974c0cfb7d8d"
      },
      "execution_count": null,
      "outputs": [
        {
          "output_type": "stream",
          "name": "stdout",
          "text": [
            "Cloning into 'ArkaAIProject'...\n",
            "remote: Enumerating objects: 30, done.\u001b[K\n",
            "remote: Counting objects: 100% (30/30), done.\u001b[K\n",
            "remote: Compressing objects: 100% (28/28), done.\u001b[K\n",
            "remote: Total 30 (delta 4), reused 17 (delta 1), pack-reused 0\u001b[K\n",
            "Receiving objects: 100% (30/30), 12.51 MiB | 13.88 MiB/s, done.\n",
            "Resolving deltas: 100% (4/4), done.\n"
          ]
        }
      ]
    },
    {
      "cell_type": "code",
      "source": [
        "%cd ArkaAIProject/inference/"
      ],
      "metadata": {
        "id": "NYd_Zl2zzxze",
        "outputId": "6fc9213c-0f12-4469-bf3e-2b612ffceca6",
        "colab": {
          "base_uri": "https://localhost:8080/"
        }
      },
      "execution_count": null,
      "outputs": [
        {
          "output_type": "stream",
          "name": "stdout",
          "text": [
            "/content/ArkaAIProject/inference\n"
          ]
        }
      ]
    },
    {
      "cell_type": "code",
      "source": [],
      "metadata": {
        "id": "Vsd2AW7NpGMu"
      },
      "execution_count": null,
      "outputs": []
    },
    {
      "cell_type": "code",
      "source": [
        "def karatsubaMultiply(x,y):\n",
        "\t# Defining base case for recursive calls\n",
        "\tif len(str(x)) == 1 or len(str(y)) == 1:\n",
        "\t\treturn x * y\n",
        "\telse:\n",
        "\t\tn = max(len(str(x)),len(str(y)))\n",
        "\t\tn_by_2 = n // 2\n",
        "\n",
        "\t\t# Step1: Rewriting x and y in terms of a,b,c,d\n",
        "\t\ta = x // 10**(n_by_2)\n",
        "\t\tb = x % 10**(n_by_2)\n",
        "\t\tc = y // 10**(n_by_2)\n",
        "\t\td = y % 10**(n_by_2)\n",
        "\n",
        "\t\t# Step2: Computing ac\n",
        "\t\tac = karatsubaMultiply(a,c)\n",
        "\n",
        "\t\t# Step3: Computing bd\n",
        "\t\tbd = karatsubaMultiply(b,d)\n",
        "\n",
        "\t\t# Step4: Computing ad+bc\n",
        "\t\tad_bc = karatsubaMultiply(a+b,c+d) - ac - bd\n",
        "\n",
        "\t\t# Step5: Calculating finalValue\n",
        "\t\tfinalAns = ac * 10**(2*n_by_2) + ad_bc * 10**(n_by_2) + bd\n",
        "\n",
        "\t\treturn finalAns\n",
        "\n",
        "x = 3141592653589793238462643383279502884197169399375105820974944592\n",
        "y = 2718281828459045235360287471352662497757247093699959574966967627\n",
        "print(karatsubaMultiply(x,y))\n",
        "# 8539734222673567065463550869546574495034888535765114961879601127067743044893204848617875072216249073013374895871952806582723184\n",
        "\n"
      ],
      "metadata": {
        "colab": {
          "base_uri": "https://localhost:8080/"
        },
        "id": "c_Jo4L-ErQuU",
        "outputId": "10441aed-e588-4c07-ef1a-a162c5a71f5c"
      },
      "execution_count": 5,
      "outputs": [
        {
          "output_type": "stream",
          "name": "stdout",
          "text": [
            "8539734222673567065463550869546574495034888535765114961879601127067743044893204848617875072216249073013374895871952806582723184\n"
          ]
        }
      ]
    }
  ]
}