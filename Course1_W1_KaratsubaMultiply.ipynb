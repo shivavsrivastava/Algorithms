{
  "nbformat": 4,
  "nbformat_minor": 0,
  "metadata": {
    "colab": {
      "provenance": [],
      "authorship_tag": "ABX9TyN6Ic8yoAQnLxUwdRxozGGr",
      "include_colab_link": true
    },
    "kernelspec": {
      "name": "python3",
      "display_name": "Python 3"
    },
    "language_info": {
      "name": "python"
    }
  },
  "cells": [
    {
      "cell_type": "markdown",
      "metadata": {
        "id": "view-in-github",
        "colab_type": "text"
      },
      "source": [
        "<a href=\"https://colab.research.google.com/github/shivavsrivastava/Algorithms/blob/main/Course1_W1_KaratsubaMultiply.ipynb\" target=\"_parent\"><img src=\"https://colab.research.google.com/assets/colab-badge.svg\" alt=\"Open In Colab\"/></a>"
      ]
    },
    {
      "cell_type": "code",
      "source": [],
      "metadata": {
        "id": "Vsd2AW7NpGMu"
      },
      "execution_count": null,
      "outputs": []
    },
    {
      "cell_type": "code",
      "source": [
        "def karatsubaMultiply(x,y):\n",
        "\t# Defining base case for recursive calls\n",
        "\tif len(str(x)) == 1 or len(str(y)) == 1:\n",
        "\t\treturn x * y\n",
        "\telse:\n",
        "\t\tn = max(len(str(x)),len(str(y)))\n",
        "\t\tn_by_2 = n // 2\n",
        "\n",
        "\t\t# Step1: Rewriting x and y in terms of a,b,c,d\n",
        "\t\ta = x // 10**(n_by_2)\n",
        "\t\tb = x % 10**(n_by_2)\n",
        "\t\tc = y // 10**(n_by_2)\n",
        "\t\td = y % 10**(n_by_2)\n",
        "\n",
        "\t\t# Step2: Computing ac\n",
        "\t\tac = karatsubaMultiply(a,c)\n",
        "\n",
        "\t\t# Step3: Computing bd\n",
        "\t\tbd = karatsubaMultiply(b,d)\n",
        "\n",
        "\t\t# Step4: Computing ad+bc\n",
        "\t\tad_bc = karatsubaMultiply(a+b,c+d) - ac - bd\n",
        "\n",
        "\t\t# Step5: Calculating finalValue\n",
        "\t\tfinalAns = ac * 10**(2*n_by_2) + ad_bc * 10**(n_by_2) + bd\n",
        "\n",
        "\t\treturn finalAns\n",
        "\n",
        "x = 3141592653589793238462643383279502884197169399375105820974944592\n",
        "y = 2718281828459045235360287471352662497757247093699959574966967627\n",
        "print(karatsubaMultiply(x,y))\n",
        "# 8539734222673567065463550869546574495034888535765114961879601127067743044893204848617875072216249073013374895871952806582723184\n",
        "\n"
      ],
      "metadata": {
        "colab": {
          "base_uri": "https://localhost:8080/"
        },
        "id": "c_Jo4L-ErQuU",
        "outputId": "10441aed-e588-4c07-ef1a-a162c5a71f5c"
      },
      "execution_count": 5,
      "outputs": [
        {
          "output_type": "stream",
          "name": "stdout",
          "text": [
            "8539734222673567065463550869546574495034888535765114961879601127067743044893204848617875072216249073013374895871952806582723184\n"
          ]
        }
      ]
    }
  ]
}
