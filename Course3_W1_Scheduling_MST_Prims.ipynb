{
  "nbformat": 4,
  "nbformat_minor": 0,
  "metadata": {
    "colab": {
      "provenance": [],
      "authorship_tag": "ABX9TyOBAlnTtnkBXG2K1v31mgGm",
      "include_colab_link": true
    },
    "kernelspec": {
      "name": "python3",
      "display_name": "Python 3"
    },
    "language_info": {
      "name": "python"
    }
  },
  "cells": [
    {
      "cell_type": "markdown",
      "metadata": {
        "id": "view-in-github",
        "colab_type": "text"
      },
      "source": [
        "<a href=\"https://colab.research.google.com/github/shivavsrivastava/Algorithms/blob/main/Course3_W1_Scheduling_MST_Prims.ipynb\" target=\"_parent\"><img src=\"https://colab.research.google.com/assets/colab-badge.svg\" alt=\"Open In Colab\"/></a>"
      ]
    },
    {
      "cell_type": "markdown",
      "source": [
        "# Scheduling Problems & Prim's MST\n"
      ],
      "metadata": {
        "id": "8TRYJIbu5szO"
      }
    },
    {
      "cell_type": "code",
      "source": [
        "import numpy as np\n",
        "import random\n",
        "import urllib3\n",
        "import math\n",
        "from collections import defaultdict\n",
        "import time\n",
        "import heapq\n",
        "from heapq import heappush, heappop, heapify\n",
        "import pandas as pd\n",
        "import sys\n",
        "from itertools import count"
      ],
      "metadata": {
        "id": "P9NoK--bQ8MS"
      },
      "execution_count": null,
      "outputs": []
    },
    {
      "cell_type": "markdown",
      "source": [
        "## Programming Assignment: Part 1\n"
      ],
      "metadata": {
        "id": "f_1AoSn0FFho"
      }
    },
    {
      "cell_type": "markdown",
      "source": [
        "This file describes a set of jobs with positive and integral weights and lengths.  It has the format\n",
        "\n",
        "[number_of_jobs]\n",
        "\n",
        "[job_1_weight] [job_1_length]\n",
        "\n",
        "[job_2_weight] [job_2_length]\n",
        "\n",
        "...\n",
        "\n",
        "For example, the third line of the file is \"74 59\", indicating that the second job has weight 74 and length 59.\n",
        "\n",
        "You should NOT assume that edge weights or lengths are distinct.\n",
        "\n",
        "Your task in this problem is to run the greedy algorithm that schedules jobs in decreasing order of the difference (weight - length).  Recall from lecture that this algorithm is not always optimal.  IMPORTANT: if two jobs have equal difference (weight - length), you should schedule the job with higher weight first.  Beware: if you break ties in a different way, you are likely to get the wrong answer.  You should report the sum of weighted completion times of the resulting schedule --- a positive integer --- in the box below.\n",
        "\n",
        "ADVICE: If you get the wrong answer, try out some small test cases to debug your algorithm (and post your test cases to the discussion forum)."
      ],
      "metadata": {
        "id": "0pMBaPAv-6l9"
      }
    },
    {
      "cell_type": "code",
      "source": [
        "df_jobs = pd.read_table('https://d3c33hcgiwev3.cloudfront.net/_642c2ce8f3abe387bdff636d708cdb26_jobs.txt?Expires=1713657600&Signature=FDXI5Ue-ZifNu0aGgxlGBwmlg7ZieAG78k7A8lOW1OOGoQK~04tMQpyT8PcHUcW6aRUZ~axNZo0cHJ1ZVjQB2j~2MZnx9Yqay3te4FMZM0c32xke53JYA00dt29F-WMW0zIo1FuQavI-MT8QKKj2wYalIEr-z9aztpa6RIvAuas_&Key-Pair-Id=APKAJLTNE6QMUY6HBC5A',header=None)"
      ],
      "metadata": {
        "id": "e3dc7iBh2K7D"
      },
      "execution_count": null,
      "outputs": []
    },
    {
      "cell_type": "code",
      "source": [
        "num_jobs = df_jobs[0].iloc[0]\n",
        "print(num_jobs)\n"
      ],
      "metadata": {
        "id": "TCC67Htd2eCn"
      },
      "execution_count": null,
      "outputs": []
    },
    {
      "cell_type": "code",
      "source": [
        "df_jobs = df_jobs.drop(df_jobs.index[0])\n",
        "df_jobs.head()"
      ],
      "metadata": {
        "id": "2yf_m6CE4EQD"
      },
      "execution_count": null,
      "outputs": []
    },
    {
      "cell_type": "code",
      "source": [
        "jobsArray = df_jobs[0].to_list()\n",
        "jobsArray[:5]"
      ],
      "metadata": {
        "id": "7CJar3_k51TM"
      },
      "execution_count": null,
      "outputs": []
    },
    {
      "cell_type": "code",
      "source": [
        "jobsDict = defaultdict(list)\n",
        "for i in range(int(num_jobs)):\n",
        "  job = jobsArray[i].strip().split()\n",
        "  #print(job)\n",
        "  # convert string to integer\n",
        "  res = [eval(x) for x in job]\n",
        "  #print(res)\n",
        "  jobsDict[i].append(res[0])\n",
        "  jobsDict[i].append(res[1])\n",
        "  jobsDict[i].append(res[0] - res[1])\n",
        "print(jobsDict)"
      ],
      "metadata": {
        "id": "u2z5m0y74rvV"
      },
      "execution_count": null,
      "outputs": []
    },
    {
      "cell_type": "code",
      "source": [
        "## I know that my dictionary has a list of values\n",
        "def reverse_sort_dict_by_value(dict1):\n",
        "    \"\"\"Sorts a dictionary by value in descending order, breaking ties by one of the values in the list.\"\"\"\n",
        "\n",
        "    # Create a list of tuples, where each tuple contains a key-value pair.\n",
        "    items = list(dict1.items())\n",
        "    print(\"Unsorted dictionary\")\n",
        "    print(items)\n",
        "\n",
        "    # Sort the list of tuples by value in descending order and on a tie look at weights\n",
        "    items.sort(key=lambda x: (x[1][2],x[1][0]) , reverse=True)\n",
        "    print(\"Sorted dictionary\")\n",
        "    print(items)\n",
        "\n",
        "    return items"
      ],
      "metadata": {
        "id": "p6dn4Svfhkx0"
      },
      "execution_count": null,
      "outputs": []
    },
    {
      "cell_type": "code",
      "source": [
        "#reverse_sort_dict_by_value(jobsDict)"
      ],
      "metadata": {
        "id": "KKRw9wrSk76T"
      },
      "execution_count": null,
      "outputs": []
    },
    {
      "cell_type": "markdown",
      "source": [
        "#### Sorted dictionary is ready, now get the total completion time"
      ],
      "metadata": {
        "id": "j3pmxGlss209"
      }
    },
    {
      "cell_type": "code",
      "source": [
        "total_completion_time = 0\n",
        "completion_time_so_far = 0\n",
        "for item in reverse_sort_dict_by_value(jobsDict):\n",
        "  completion_time_so_far += item[1][1]\n",
        "  total_completion_time += (completion_time_so_far*item[1][0])\n",
        "print(total_completion_time)"
      ],
      "metadata": {
        "id": "fdefg6p34ZU4"
      },
      "execution_count": null,
      "outputs": []
    },
    {
      "cell_type": "markdown",
      "source": [
        "Answer is: 69119377652"
      ],
      "metadata": {
        "id": "9ST7YXtHtG5f"
      }
    },
    {
      "cell_type": "markdown",
      "source": [
        "## Programming Assignment: 2"
      ],
      "metadata": {
        "id": "Vdv5Kpjc0c5I"
      }
    },
    {
      "cell_type": "markdown",
      "source": [
        "For this problem, use the same data set as in the previous problem.\n",
        "\n",
        "Your task now is to run the greedy algorithm that schedules jobs (optimally) in decreasing order of the ratio (weight/length).  In this algorithm, it does not matter how you break ties.  You should report the sum of weighted completion times of the resulting schedule --- a positive integer --- in the box below."
      ],
      "metadata": {
        "id": "CN0jgBGj04sE"
      }
    },
    {
      "cell_type": "code",
      "source": [
        "jobsDict2 = defaultdict(list)\n",
        "for i in range(int(num_jobs)):\n",
        "  job = jobsArray[i].strip().split()\n",
        "  #print(job)\n",
        "  # convert string to integer\n",
        "  res = [eval(x) for x in job]\n",
        "  #print(res)\n",
        "  jobsDict2[i].append(res[0])\n",
        "  jobsDict2[i].append(res[1])\n",
        "  jobsDict2[i].append(res[0] / res[1])\n",
        "print(jobsDict2)"
      ],
      "metadata": {
        "id": "MovnmEaEqzmu"
      },
      "execution_count": null,
      "outputs": []
    },
    {
      "cell_type": "code",
      "source": [
        "## I know that my dictionary has a list of values\n",
        "def reverse_sort_dict_by_value(dict2):\n",
        "    \"\"\"Sorts a dictionary by value in descending order, breaking ties by one of the values in the list.\"\"\"\n",
        "\n",
        "    # Create a list of tuples, where each tuple contains a key-value pair.\n",
        "    items = list(dict2.items())\n",
        "    print(\"Unsorted dictionary\")\n",
        "    print(items)\n",
        "\n",
        "    # Sort the list of tuples by value in descending order.\n",
        "    items.sort(key=lambda x: x[1][2] , reverse=True)\n",
        "    print(\"Sorted dictionary\")\n",
        "    print(items)\n",
        "\n",
        "    return items"
      ],
      "metadata": {
        "id": "WOjCebbA1gQy"
      },
      "execution_count": null,
      "outputs": []
    },
    {
      "cell_type": "code",
      "source": [
        "# Applying jobsDict2\n",
        "total_completion_time = 0\n",
        "completion_time_so_far = 0\n",
        "for item in reverse_sort_dict_by_value(jobsDict2):\n",
        "  completion_time_so_far += item[1][1]\n",
        "  total_completion_time += (completion_time_so_far*item[1][0])\n",
        "print(total_completion_time)"
      ],
      "metadata": {
        "id": "cXMqw43l2LiI"
      },
      "execution_count": null,
      "outputs": []
    },
    {
      "cell_type": "markdown",
      "source": [
        "Answer to part 2: 67311454237"
      ],
      "metadata": {
        "id": "J7qXdR9t3nFI"
      }
    },
    {
      "cell_type": "markdown",
      "source": [
        "# Programming Assignment : Part 3"
      ],
      "metadata": {
        "id": "2qz5nRI6rr9M"
      }
    },
    {
      "cell_type": "markdown",
      "source": [
        "In this programming problem you'll code up Prim's minimum spanning tree algorithm.\n",
        "\n",
        "Download the text file below - edges.txt\n",
        "\n",
        "This file describes an undirected graph with integer edge costs.  It has the format\n",
        "\n",
        "[number_of_nodes] [number_of_edges]\n",
        "\n",
        "[one_node_of_edge_1] [other_node_of_edge_1] [edge_1_cost]\n",
        "\n",
        "[one_node_of_edge_2] [other_node_of_edge_2] [edge_2_cost]\n",
        "\n",
        "...\n",
        "\n",
        "For example, the third line of the file is \"2 3 -8874\", indicating that there is an edge connecting vertex #2 and vertex #3 that has cost -8874.\n",
        "\n",
        "You should NOT assume that edge costs are positive, nor should you assume that they are distinct.\n",
        "\n",
        "Your task is to run Prim's minimum spanning tree algorithm on this graph.  You should report the overall cost of a minimum spanning tree --- an integer, which may or may not be negative --- in the box below.\n",
        "\n",
        "IMPLEMENTATION NOTES: This graph is small enough that the straightforward O(mn) time implementation of Prim's algorithm should work fine. OPTIONAL: For those of you seeking an additional challenge, try implementing a heap-based version. The simpler approach, which should already give you a healthy speed-up, is to maintain relevant edges in a heap (with keys = edge costs).  The superior approach stores the unprocessed vertices in the heap, as described in lecture.  Note this requires a heap that supports deletions, and you'll probably need to maintain some kind of mapping between vertices and their positions in the heap."
      ],
      "metadata": {
        "id": "3CnFpuL05bqd"
      }
    },
    {
      "cell_type": "code",
      "source": [
        "df_prims = pd.read_table('https://d3c33hcgiwev3.cloudfront.net/_d4f3531eac1d289525141e95a2fea52f_edges.txt?Expires=1713744000&Signature=HlWEoAFTbqzHDA-jsxiaB31QLF9hCBiQcVVQ5MWksHTZpu1ON-SDod1Oi5oCDCXX2Q9fSo67j6KdgEn9TtgYB7HeehtiosEGdRUnOMSS-Jx1KNzBTC8JkDC-xwecyymyUoEe1z1fCI1ULXDeRexwK4kP0Rjityey0QUgPRgdNQw_&Key-Pair-Id=APKAJLTNE6QMUY6HBC5A', header=None)\n",
        "df_prims.head()"
      ],
      "metadata": {
        "id": "vKTR6khj6_JW"
      },
      "execution_count": null,
      "outputs": []
    },
    {
      "cell_type": "code",
      "source": [
        "first_row = df_prims[0].iloc[0]\n",
        "num_nodes, num_edges = [eval(x) for x in first_row.strip().split(' ')]\n",
        "print(num_nodes, num_edges)"
      ],
      "metadata": {
        "id": "2W018v1R7Zeu"
      },
      "execution_count": null,
      "outputs": []
    },
    {
      "cell_type": "code",
      "source": [
        "df_prims = df_prims.drop(df_prims.index[0])\n",
        "df_prims.head()"
      ],
      "metadata": {
        "id": "YJvDHbdu_fx6"
      },
      "execution_count": null,
      "outputs": []
    },
    {
      "cell_type": "markdown",
      "source": [
        "## MST Graph Class"
      ],
      "metadata": {
        "id": "0h2bL1sUAiAU"
      }
    },
    {
      "cell_type": "code",
      "source": [
        "class Graph():\n",
        "\n",
        "  def __init__(self, V):\n",
        "    self.V = V\n",
        "    self.graph = defaultdict(list)\n",
        "\n",
        "  # Adds an edge to an undirected graph\n",
        "  def addEdge(self, src, dest, weight):\n",
        "    # Add an edge from src to dest.  A new node is\n",
        "    # added to the adjacency list of src. The node\n",
        "    # is added at the beginning. The first element of\n",
        "    # the node has the destination and the second\n",
        "    # elements has the weight\n",
        "    newNode = [dest, weight]\n",
        "    self.graph[src].insert(0, newNode)\n",
        "\n",
        "    # Since graph is undirected, add an edge from\n",
        "    # dest to src also\n",
        "    newNode = [src, weight]\n",
        "    self.graph[dest].insert(0, newNode)\n",
        "\n",
        "  # The main function that prints the Minimum\n",
        "  # Spanning Tree(MST) using the Prim's Algorithm.\n",
        "  # It is a O(mLogn) function\n",
        "  # The function calculates the cost of minimum spanning tree\n",
        "  def primsMST(self):\n",
        "    # Pick an arbitrary starting point\n",
        "    start = next(iter(self.graph))\n",
        "    explored, treeCost = set(), 0\n",
        "    tiebreak = count().__next__ # Factory for tie-breaking values\n",
        "    unexplored = [(0, tiebreak(), start)]\n",
        "\n",
        "    while unexplored:\n",
        "        cost, _, winner = heappop(unexplored)\n",
        "        # If the node is already explored, just pop it and ignore it\n",
        "        if winner in explored:\n",
        "            continue\n",
        "\n",
        "        explored.add(winner)\n",
        "        treeCost += cost\n",
        "\n",
        "        #adding the new crossing edges to heap\n",
        "        for neighbor, cost in self.graph[winner]:\n",
        "            if neighbor not in explored:\n",
        "                heappush(unexplored, (cost, tiebreak(), neighbor))\n",
        "\n",
        "    return treeCost"
      ],
      "metadata": {
        "id": "uTgD3FPPlNIs"
      },
      "execution_count": null,
      "outputs": []
    },
    {
      "cell_type": "code",
      "source": [
        "EdgesArray = df_prims[0].to_list()\n",
        "print(EdgesArray)"
      ],
      "metadata": {
        "id": "3tr4OUecrapo"
      },
      "execution_count": null,
      "outputs": []
    },
    {
      "cell_type": "code",
      "source": [
        "graph = Graph(num_nodes)\n",
        "for edge in EdgesArray:\n",
        "  src, dest, weight = [eval(x) for x in edge.strip().split(' ')]\n",
        "  graph.addEdge(src, dest, weight)"
      ],
      "metadata": {
        "id": "4cc_Yne9sh_h"
      },
      "execution_count": null,
      "outputs": []
    },
    {
      "cell_type": "code",
      "source": [
        "print(graph.primsMST())"
      ],
      "metadata": {
        "id": "Z93lRa-xszak"
      },
      "execution_count": null,
      "outputs": []
    },
    {
      "cell_type": "markdown",
      "source": [
        "Answer for MST is -3612829"
      ],
      "metadata": {
        "id": "cyPQ_7mxywNa"
      }
    },
    {
      "cell_type": "markdown",
      "source": [
        "### Tests"
      ],
      "metadata": {
        "id": "x8gY6PQrtyMQ"
      }
    },
    {
      "cell_type": "code",
      "source": [
        "g2 = Graph(4)\n",
        "g2.addEdge(1, 2, 1)\n",
        "g2.addEdge(2, 4, 2)\n",
        "g2.addEdge(3, 1, 4)\n",
        "g2.addEdge(4, 3, 5)\n",
        "g2.addEdge(4, 1, 3)\n",
        "print(g2.primsMST())"
      ],
      "metadata": {
        "id": "iAi-0fERtxeg"
      },
      "execution_count": null,
      "outputs": []
    },
    {
      "cell_type": "code",
      "source": [
        "g3 = Graph(8)\n",
        "g3.addEdge(8, 1, 4)\n",
        "g3.addEdge(1, 2, 1)\n",
        "g3.addEdge(1, 8, 8)\n",
        "g3.addEdge(2, 8, 2)\n",
        "g3.addEdge(8, 3, 6)\n",
        "g3.addEdge(2, 3, 9)\n",
        "g3.addEdge(8, 4, 9)\n",
        "g3.addEdge(4, 3, 4)\n",
        "g3.addEdge(8, 7, 2)\n",
        "g3.addEdge(4, 7, 1)\n",
        "g3.addEdge(4, 5, 2)\n",
        "g3.addEdge(3, 5, 5)\n",
        "g3.addEdge(7, 5, 7)\n",
        "g3.addEdge(5, 6, 3)\n",
        "g3.addEdge(7, 6, 10)\n",
        "\n",
        "print(g3.primsMST())"
      ],
      "metadata": {
        "id": "5dSo7-QVw4u7"
      },
      "execution_count": null,
      "outputs": []
    },
    {
      "cell_type": "code",
      "source": [
        "g4 = Graph(6)\n",
        "g4.addEdge(1, 2, 6)\n",
        "g4.addEdge(1, 4, 5)\n",
        "g4.addEdge(1, 5, 4)\n",
        "g4.addEdge(2, 4, 1)\n",
        "g4.addEdge(2, 5, 2)\n",
        "g4.addEdge(2, 3, 5)\n",
        "g4.addEdge(2, 6, 3)\n",
        "g4.addEdge(3, 6, 4)\n",
        "g4.addEdge(4, 5, 2)\n",
        "g4.addEdge(5, 6, 4)\n",
        "\n",
        "print(g4.primsMST())"
      ],
      "metadata": {
        "id": "wDk2LaAsx3F2"
      },
      "execution_count": null,
      "outputs": []
    }
  ]
}