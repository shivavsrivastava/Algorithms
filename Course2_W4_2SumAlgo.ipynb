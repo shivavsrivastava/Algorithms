{
  "nbformat": 4,
  "nbformat_minor": 0,
  "metadata": {
    "colab": {
      "provenance": [],
      "authorship_tag": "ABX9TyNc4svEg8JKRXHFNxB8FWPi",
      "include_colab_link": true
    },
    "kernelspec": {
      "name": "python3",
      "display_name": "Python 3"
    },
    "language_info": {
      "name": "python"
    }
  },
  "cells": [
    {
      "cell_type": "markdown",
      "metadata": {
        "id": "view-in-github",
        "colab_type": "text"
      },
      "source": [
        "<a href=\"https://colab.research.google.com/github/shivavsrivastava/Algorithms/blob/main/Course2_W4_2SumAlgo.ipynb\" target=\"_parent\"><img src=\"https://colab.research.google.com/assets/colab-badge.svg\" alt=\"Open In Colab\"/></a>"
      ]
    },
    {
      "cell_type": "markdown",
      "source": [
        "# Course 2, Programming Assignment 4: 2Sum Algorithm\n"
      ],
      "metadata": {
        "id": "8TRYJIbu5szO"
      }
    },
    {
      "cell_type": "markdown",
      "source": [
        "The goal of this problem is to implement a variant of the 2-SUM algorithm covered in this week's lectures.\n",
        "\n",
        "The file contains 1 million integers, both positive and negative (there might be some repetitions!).This is your array of integers, with the i-th row of the file specifying the i-th entry of the array.\n",
        "\n",
        "Your task is to compute the number of target values **t** in the interval **[-10000,10000]** (inclusive) such that there are distinct numbers **x, y** in the input file that satisfy **x + y = t** (NOTE: ensuring distinctness requires a one-line addition to the algorithm from lecture)\n",
        "\n",
        "\n"
      ],
      "metadata": {
        "id": "PCgw4tFplbvx"
      }
    },
    {
      "cell_type": "code",
      "source": [
        "import sys\n",
        "import numpy as np\n",
        "import time\n",
        "import math\n",
        "print(sys.version)"
      ],
      "metadata": {
        "id": "P9NoK--bQ8MS",
        "colab": {
          "base_uri": "https://localhost:8080/"
        },
        "outputId": "43b44a3e-8f70-4a04-f0c6-c8d02e9adb63"
      },
      "execution_count": 1,
      "outputs": [
        {
          "output_type": "stream",
          "name": "stdout",
          "text": [
            "3.10.12 (main, Nov 20 2023, 15:14:05) [GCC 11.4.0]\n"
          ]
        }
      ]
    },
    {
      "cell_type": "markdown",
      "source": [
        "## 2 pointer sum function\n",
        "Maintain 2 pointers in a sorted array and count the number of times sum is with the prescribed range."
      ],
      "metadata": {
        "id": "f_1AoSn0FFho"
      }
    },
    {
      "cell_type": "code",
      "source": [
        "def twoPointerSum(array, targetInterval, sumSet):\n",
        "  n = len(array)\n",
        "  p1 = 0\n",
        "  p2 = n-1\n",
        "  count = 0\n",
        "  while p1 < p2:\n",
        "    sum = array[p1] + array[p2]\n",
        "    #print(\"p1={}, p2={}, sum={}\".format(p1, p2, sum))\n",
        "    if sum < targetInterval[0]:\n",
        "      p1 += 1\n",
        "    elif sum > targetInterval[1]:\n",
        "      p2 -= 1\n",
        "    else:\n",
        "      p3 = p2\n",
        "      while p3 > p1:\n",
        "        sum = array[p1] + array[p3]\n",
        "        #print(\"Inside the loop to count: p1={}, p3={}, sum={}\".format(array[p1], array[p3], sum))\n",
        "        # check the target range\n",
        "        p3 -= 1\n",
        "        if sum>= targetInterval[0] and sum <= targetInterval[1]:\n",
        "          if sum not in sumSet:\n",
        "            sumSet.add(sum)\n",
        "            count += 1\n",
        "        else:\n",
        "          break\n",
        "      p1 += 1\n",
        "  #print(sumSet)\n",
        "  return count\n",
        "\n",
        "\n"
      ],
      "metadata": {
        "id": "igXU1CY76Fgw"
      },
      "execution_count": 2,
      "outputs": []
    },
    {
      "cell_type": "markdown",
      "source": [
        "Note: Be careful the sum has to be with distinct x and y and also the sum once achieved should not be repeated"
      ],
      "metadata": {
        "id": "i8CJJdGu5FrQ"
      }
    },
    {
      "cell_type": "markdown",
      "source": [
        "### Test the 2Sum function"
      ],
      "metadata": {
        "id": "p3gMHJiBp6dR"
      }
    },
    {
      "cell_type": "code",
      "source": [
        "## Test 1: expected output 8\n",
        "li = [-3, -1, 1, 2, 9, 11, 7, 6, 2]\n",
        "t = [3, 10]\n",
        "inlist = list(set(li))\n",
        "inlist.sort()\n",
        "print(inlist)\n",
        "sumSet = set()\n",
        "print(twoPointerSum(inlist, t, sumSet))\n"
      ],
      "metadata": {
        "id": "2YGFPiquVSjH",
        "colab": {
          "base_uri": "https://localhost:8080/"
        },
        "outputId": "f6af1dde-8b69-49c8-f0ab-e20965e1f21e"
      },
      "execution_count": 3,
      "outputs": [
        {
          "output_type": "stream",
          "name": "stdout",
          "text": [
            "[-3, -1, 1, 2, 6, 7, 9, 11]\n",
            "8\n"
          ]
        }
      ]
    },
    {
      "cell_type": "code",
      "source": [
        "## Test 2: expected output 2\n",
        "li = [-2, 4, 0, 0]\n",
        "t = [0, 4]\n",
        "inlist = list(set(li))\n",
        "inlist.sort()\n",
        "print(inlist)\n",
        "sumSet = set()\n",
        "print(twoPointerSum(inlist, t, sumSet))"
      ],
      "metadata": {
        "id": "Q6qYdibmVpDr",
        "colab": {
          "base_uri": "https://localhost:8080/"
        },
        "outputId": "fe61becb-a475-43ee-b703-96a80bebd8fd"
      },
      "execution_count": 4,
      "outputs": [
        {
          "output_type": "stream",
          "name": "stdout",
          "text": [
            "[-2, 0, 4]\n",
            "2\n"
          ]
        }
      ]
    },
    {
      "cell_type": "markdown",
      "source": [
        "## ASSIGNMENT\n",
        "Download the following text file:\n",
        "**algo1-programming_prob-2sum.txt**\n",
        "\n",
        "\n",
        "\n"
      ],
      "metadata": {
        "id": "9rQyPzwTkhlh"
      }
    },
    {
      "cell_type": "code",
      "source": [
        "import pandas as pd\n",
        "df = pd.read_table('https://d3c33hcgiwev3.cloudfront.net/_6ec67df2804ff4b58ab21c12edcb21f8_algo1-programming_prob-2sum.txt?Expires=1712793600&Signature=e4DuKgJo6ZAe-htjT-NS3tvT-JBnQH6vJtkcMY4UONPrNchfK7HzFi~kQiuLTCPNCTHY5w8-dcWg-Dmy9dmruVeArtbjGfOBiTC0~e4RKkb0zTczI31S4B-jtuekx1qgDYrU-I601dQ5HL7OPIQXA-Hkon7ISvhb3nn-fK1Yd2g_&Key-Pair-Id=APKAJLTNE6QMUY6HBC5A', header=None)"
      ],
      "metadata": {
        "id": "FK0IzSp7lWXz"
      },
      "execution_count": 5,
      "outputs": []
    },
    {
      "cell_type": "code",
      "source": [
        "df.describe()"
      ],
      "metadata": {
        "id": "kff3E1SsWXXG",
        "colab": {
          "base_uri": "https://localhost:8080/",
          "height": 300
        },
        "outputId": "33ebf3d3-8d72-4315-8c1f-6431bdff58d2"
      },
      "execution_count": 6,
      "outputs": [
        {
          "output_type": "execute_result",
          "data": {
            "text/plain": [
              "                  0\n",
              "count  1.000000e+06\n",
              "mean   1.322010e+06\n",
              "std    5.772394e+10\n",
              "min   -9.999989e+10\n",
              "25%   -4.999128e+10\n",
              "50%    2.866098e+06\n",
              "75%    4.998365e+10\n",
              "max    9.999966e+10"
            ],
            "text/html": [
              "\n",
              "  <div id=\"df-b151a95e-12fc-446c-8057-59198a1b8598\" class=\"colab-df-container\">\n",
              "    <div>\n",
              "<style scoped>\n",
              "    .dataframe tbody tr th:only-of-type {\n",
              "        vertical-align: middle;\n",
              "    }\n",
              "\n",
              "    .dataframe tbody tr th {\n",
              "        vertical-align: top;\n",
              "    }\n",
              "\n",
              "    .dataframe thead th {\n",
              "        text-align: right;\n",
              "    }\n",
              "</style>\n",
              "<table border=\"1\" class=\"dataframe\">\n",
              "  <thead>\n",
              "    <tr style=\"text-align: right;\">\n",
              "      <th></th>\n",
              "      <th>0</th>\n",
              "    </tr>\n",
              "  </thead>\n",
              "  <tbody>\n",
              "    <tr>\n",
              "      <th>count</th>\n",
              "      <td>1.000000e+06</td>\n",
              "    </tr>\n",
              "    <tr>\n",
              "      <th>mean</th>\n",
              "      <td>1.322010e+06</td>\n",
              "    </tr>\n",
              "    <tr>\n",
              "      <th>std</th>\n",
              "      <td>5.772394e+10</td>\n",
              "    </tr>\n",
              "    <tr>\n",
              "      <th>min</th>\n",
              "      <td>-9.999989e+10</td>\n",
              "    </tr>\n",
              "    <tr>\n",
              "      <th>25%</th>\n",
              "      <td>-4.999128e+10</td>\n",
              "    </tr>\n",
              "    <tr>\n",
              "      <th>50%</th>\n",
              "      <td>2.866098e+06</td>\n",
              "    </tr>\n",
              "    <tr>\n",
              "      <th>75%</th>\n",
              "      <td>4.998365e+10</td>\n",
              "    </tr>\n",
              "    <tr>\n",
              "      <th>max</th>\n",
              "      <td>9.999966e+10</td>\n",
              "    </tr>\n",
              "  </tbody>\n",
              "</table>\n",
              "</div>\n",
              "    <div class=\"colab-df-buttons\">\n",
              "\n",
              "  <div class=\"colab-df-container\">\n",
              "    <button class=\"colab-df-convert\" onclick=\"convertToInteractive('df-b151a95e-12fc-446c-8057-59198a1b8598')\"\n",
              "            title=\"Convert this dataframe to an interactive table.\"\n",
              "            style=\"display:none;\">\n",
              "\n",
              "  <svg xmlns=\"http://www.w3.org/2000/svg\" height=\"24px\" viewBox=\"0 -960 960 960\">\n",
              "    <path d=\"M120-120v-720h720v720H120Zm60-500h600v-160H180v160Zm220 220h160v-160H400v160Zm0 220h160v-160H400v160ZM180-400h160v-160H180v160Zm440 0h160v-160H620v160ZM180-180h160v-160H180v160Zm440 0h160v-160H620v160Z\"/>\n",
              "  </svg>\n",
              "    </button>\n",
              "\n",
              "  <style>\n",
              "    .colab-df-container {\n",
              "      display:flex;\n",
              "      gap: 12px;\n",
              "    }\n",
              "\n",
              "    .colab-df-convert {\n",
              "      background-color: #E8F0FE;\n",
              "      border: none;\n",
              "      border-radius: 50%;\n",
              "      cursor: pointer;\n",
              "      display: none;\n",
              "      fill: #1967D2;\n",
              "      height: 32px;\n",
              "      padding: 0 0 0 0;\n",
              "      width: 32px;\n",
              "    }\n",
              "\n",
              "    .colab-df-convert:hover {\n",
              "      background-color: #E2EBFA;\n",
              "      box-shadow: 0px 1px 2px rgba(60, 64, 67, 0.3), 0px 1px 3px 1px rgba(60, 64, 67, 0.15);\n",
              "      fill: #174EA6;\n",
              "    }\n",
              "\n",
              "    .colab-df-buttons div {\n",
              "      margin-bottom: 4px;\n",
              "    }\n",
              "\n",
              "    [theme=dark] .colab-df-convert {\n",
              "      background-color: #3B4455;\n",
              "      fill: #D2E3FC;\n",
              "    }\n",
              "\n",
              "    [theme=dark] .colab-df-convert:hover {\n",
              "      background-color: #434B5C;\n",
              "      box-shadow: 0px 1px 3px 1px rgba(0, 0, 0, 0.15);\n",
              "      filter: drop-shadow(0px 1px 2px rgba(0, 0, 0, 0.3));\n",
              "      fill: #FFFFFF;\n",
              "    }\n",
              "  </style>\n",
              "\n",
              "    <script>\n",
              "      const buttonEl =\n",
              "        document.querySelector('#df-b151a95e-12fc-446c-8057-59198a1b8598 button.colab-df-convert');\n",
              "      buttonEl.style.display =\n",
              "        google.colab.kernel.accessAllowed ? 'block' : 'none';\n",
              "\n",
              "      async function convertToInteractive(key) {\n",
              "        const element = document.querySelector('#df-b151a95e-12fc-446c-8057-59198a1b8598');\n",
              "        const dataTable =\n",
              "          await google.colab.kernel.invokeFunction('convertToInteractive',\n",
              "                                                    [key], {});\n",
              "        if (!dataTable) return;\n",
              "\n",
              "        const docLinkHtml = 'Like what you see? Visit the ' +\n",
              "          '<a target=\"_blank\" href=https://colab.research.google.com/notebooks/data_table.ipynb>data table notebook</a>'\n",
              "          + ' to learn more about interactive tables.';\n",
              "        element.innerHTML = '';\n",
              "        dataTable['output_type'] = 'display_data';\n",
              "        await google.colab.output.renderOutput(dataTable, element);\n",
              "        const docLink = document.createElement('div');\n",
              "        docLink.innerHTML = docLinkHtml;\n",
              "        element.appendChild(docLink);\n",
              "      }\n",
              "    </script>\n",
              "  </div>\n",
              "\n",
              "\n",
              "<div id=\"df-49d998fd-8c91-4c07-bade-cc55033edd1c\">\n",
              "  <button class=\"colab-df-quickchart\" onclick=\"quickchart('df-49d998fd-8c91-4c07-bade-cc55033edd1c')\"\n",
              "            title=\"Suggest charts\"\n",
              "            style=\"display:none;\">\n",
              "\n",
              "<svg xmlns=\"http://www.w3.org/2000/svg\" height=\"24px\"viewBox=\"0 0 24 24\"\n",
              "     width=\"24px\">\n",
              "    <g>\n",
              "        <path d=\"M19 3H5c-1.1 0-2 .9-2 2v14c0 1.1.9 2 2 2h14c1.1 0 2-.9 2-2V5c0-1.1-.9-2-2-2zM9 17H7v-7h2v7zm4 0h-2V7h2v10zm4 0h-2v-4h2v4z\"/>\n",
              "    </g>\n",
              "</svg>\n",
              "  </button>\n",
              "\n",
              "<style>\n",
              "  .colab-df-quickchart {\n",
              "      --bg-color: #E8F0FE;\n",
              "      --fill-color: #1967D2;\n",
              "      --hover-bg-color: #E2EBFA;\n",
              "      --hover-fill-color: #174EA6;\n",
              "      --disabled-fill-color: #AAA;\n",
              "      --disabled-bg-color: #DDD;\n",
              "  }\n",
              "\n",
              "  [theme=dark] .colab-df-quickchart {\n",
              "      --bg-color: #3B4455;\n",
              "      --fill-color: #D2E3FC;\n",
              "      --hover-bg-color: #434B5C;\n",
              "      --hover-fill-color: #FFFFFF;\n",
              "      --disabled-bg-color: #3B4455;\n",
              "      --disabled-fill-color: #666;\n",
              "  }\n",
              "\n",
              "  .colab-df-quickchart {\n",
              "    background-color: var(--bg-color);\n",
              "    border: none;\n",
              "    border-radius: 50%;\n",
              "    cursor: pointer;\n",
              "    display: none;\n",
              "    fill: var(--fill-color);\n",
              "    height: 32px;\n",
              "    padding: 0;\n",
              "    width: 32px;\n",
              "  }\n",
              "\n",
              "  .colab-df-quickchart:hover {\n",
              "    background-color: var(--hover-bg-color);\n",
              "    box-shadow: 0 1px 2px rgba(60, 64, 67, 0.3), 0 1px 3px 1px rgba(60, 64, 67, 0.15);\n",
              "    fill: var(--button-hover-fill-color);\n",
              "  }\n",
              "\n",
              "  .colab-df-quickchart-complete:disabled,\n",
              "  .colab-df-quickchart-complete:disabled:hover {\n",
              "    background-color: var(--disabled-bg-color);\n",
              "    fill: var(--disabled-fill-color);\n",
              "    box-shadow: none;\n",
              "  }\n",
              "\n",
              "  .colab-df-spinner {\n",
              "    border: 2px solid var(--fill-color);\n",
              "    border-color: transparent;\n",
              "    border-bottom-color: var(--fill-color);\n",
              "    animation:\n",
              "      spin 1s steps(1) infinite;\n",
              "  }\n",
              "\n",
              "  @keyframes spin {\n",
              "    0% {\n",
              "      border-color: transparent;\n",
              "      border-bottom-color: var(--fill-color);\n",
              "      border-left-color: var(--fill-color);\n",
              "    }\n",
              "    20% {\n",
              "      border-color: transparent;\n",
              "      border-left-color: var(--fill-color);\n",
              "      border-top-color: var(--fill-color);\n",
              "    }\n",
              "    30% {\n",
              "      border-color: transparent;\n",
              "      border-left-color: var(--fill-color);\n",
              "      border-top-color: var(--fill-color);\n",
              "      border-right-color: var(--fill-color);\n",
              "    }\n",
              "    40% {\n",
              "      border-color: transparent;\n",
              "      border-right-color: var(--fill-color);\n",
              "      border-top-color: var(--fill-color);\n",
              "    }\n",
              "    60% {\n",
              "      border-color: transparent;\n",
              "      border-right-color: var(--fill-color);\n",
              "    }\n",
              "    80% {\n",
              "      border-color: transparent;\n",
              "      border-right-color: var(--fill-color);\n",
              "      border-bottom-color: var(--fill-color);\n",
              "    }\n",
              "    90% {\n",
              "      border-color: transparent;\n",
              "      border-bottom-color: var(--fill-color);\n",
              "    }\n",
              "  }\n",
              "</style>\n",
              "\n",
              "  <script>\n",
              "    async function quickchart(key) {\n",
              "      const quickchartButtonEl =\n",
              "        document.querySelector('#' + key + ' button');\n",
              "      quickchartButtonEl.disabled = true;  // To prevent multiple clicks.\n",
              "      quickchartButtonEl.classList.add('colab-df-spinner');\n",
              "      try {\n",
              "        const charts = await google.colab.kernel.invokeFunction(\n",
              "            'suggestCharts', [key], {});\n",
              "      } catch (error) {\n",
              "        console.error('Error during call to suggestCharts:', error);\n",
              "      }\n",
              "      quickchartButtonEl.classList.remove('colab-df-spinner');\n",
              "      quickchartButtonEl.classList.add('colab-df-quickchart-complete');\n",
              "    }\n",
              "    (() => {\n",
              "      let quickchartButtonEl =\n",
              "        document.querySelector('#df-49d998fd-8c91-4c07-bade-cc55033edd1c button');\n",
              "      quickchartButtonEl.style.display =\n",
              "        google.colab.kernel.accessAllowed ? 'block' : 'none';\n",
              "    })();\n",
              "  </script>\n",
              "</div>\n",
              "\n",
              "    </div>\n",
              "  </div>\n"
            ],
            "application/vnd.google.colaboratory.intrinsic+json": {
              "type": "dataframe",
              "summary": "{\n  \"name\": \"df\",\n  \"rows\": 8,\n  \"fields\": [\n    {\n      \"column\": 0,\n      \"properties\": {\n        \"dtype\": \"number\",\n        \"std\": 63147207217.00726,\n        \"min\": -99999887310.0,\n        \"max\": 99999662302.0,\n        \"num_unique_values\": 8,\n        \"samples\": [\n          1322010.152145,\n          2866098.0,\n          1000000.0\n        ],\n        \"semantic_type\": \"\",\n        \"description\": \"\"\n      }\n    }\n  ]\n}"
            }
          },
          "metadata": {},
          "execution_count": 6
        }
      ]
    },
    {
      "cell_type": "code",
      "source": [
        "inputSet = set(df[0])\n",
        "inlist = list(inputSet)\n",
        "inlist.sort()\n",
        "print(inlist[0:10])\n",
        "print(len(inlist))\n",
        "print(inlist[-10:])"
      ],
      "metadata": {
        "id": "6IBeIlYPm4mP",
        "colab": {
          "base_uri": "https://localhost:8080/"
        },
        "outputId": "4713d7d6-82fd-48d5-9465-87d7530403fb"
      },
      "execution_count": 7,
      "outputs": [
        {
          "output_type": "stream",
          "name": "stdout",
          "text": [
            "[-99999887310, -99999653362, -99999563583, -99999468029, -99999376014, -99999235943, -99998935964, -99998734333, -99998697266, -99998276867]\n",
            "999752\n",
            "[99997702240, 99997729063, 99997769296, 99998165946, 99998379033, 99998714216, 99998858012, 99999371636, 99999381974, 99999662302]\n"
          ]
        }
      ]
    },
    {
      "cell_type": "code",
      "source": [
        "t1 = time.time()\n",
        "t = [-10000, 10000]\n",
        "sumSet = set()\n",
        "print(twoPointerSum(inlist, t, sumSet))\n",
        "t2 = time.time()\n",
        "print(\"The 2 Sum algo using 2 pointers takes {} milli-seconds\".format((t2-t1)*1000))"
      ],
      "metadata": {
        "colab": {
          "base_uri": "https://localhost:8080/"
        },
        "id": "V7Hk9I_ISEQF",
        "outputId": "fd9991c8-e468-40ab-d2b8-72ae6b0ab8d3"
      },
      "execution_count": 8,
      "outputs": [
        {
          "output_type": "stream",
          "name": "stdout",
          "text": [
            "427\n",
            "The 2 Sum algo using 2 pointers takes 431.443452835083 milli-seconds\n"
          ]
        }
      ]
    },
    {
      "cell_type": "markdown",
      "source": [
        "#### The idea of bucket implementation here:\n",
        "This Idea does not produce the right answer, but the idea has potential.\n",
        "* Make a sliding window of 3, each time get 3 bucket worth of lists, sort them and give it to twoPointerSum function.\n",
        "* With this idea things should go extremely fast.\n",
        "* I tried ele//10000 and so on, the problem is implementing sliding window"
      ],
      "metadata": {
        "id": "2-AYRYCrfwwA"
      }
    },
    {
      "cell_type": "code",
      "source": [
        "## Organize the inlist into hashtable, HT. The buckets are organized in a/10000\n",
        "HT = {}\n",
        "for ele in inlist:\n",
        "  bucket = abs(ele//100000)\n",
        "  if bucket in HT:\n",
        "    HT[bucket].append(ele)\n",
        "  else:\n",
        "    HT[bucket] = [ele]\n",
        "\n",
        "print(len(HT))\n",
        "count = 0\n",
        "for bucket in HT:\n",
        "  if(count < 100):\n",
        "    print(\"Bucket {} has {} elements\".format(bucket, len(HT[bucket])))\n",
        "    print(HT[bucket])\n",
        "    count += 1\n",
        "  else:\n",
        "    break"
      ],
      "metadata": {
        "colab": {
          "base_uri": "https://localhost:8080/"
        },
        "id": "nklpCt0t6HI5",
        "outputId": "d67e75a3-571a-4cdd-9d4b-fdcb42952afa"
      },
      "execution_count": 46,
      "outputs": [
        {
          "output_type": "stream",
          "name": "stdout",
          "text": [
            "632357\n",
            "Bucket 999999 has 1 elements\n",
            "[-99999887310]\n",
            "Bucket 999997 has 1 elements\n",
            "[-99999653362]\n",
            "Bucket 999996 has 2 elements\n",
            "[-99999563583, 99999662302]\n",
            "Bucket 999995 has 1 elements\n",
            "[-99999468029]\n",
            "Bucket 999994 has 1 elements\n",
            "[-99999376014]\n",
            "Bucket 999993 has 3 elements\n",
            "[-99999235943, 99999371636, 99999381974]\n",
            "Bucket 999990 has 1 elements\n",
            "[-99998935964]\n",
            "Bucket 999988 has 2 elements\n",
            "[-99998734333, 99998858012]\n",
            "Bucket 999987 has 2 elements\n",
            "[-99998697266, 99998714216]\n",
            "Bucket 999983 has 2 elements\n",
            "[-99998276867, 99998379033]\n",
            "Bucket 999980 has 1 elements\n",
            "[-99997956586]\n",
            "Bucket 999979 has 2 elements\n",
            "[-99997893442, -99997859635]\n",
            "Bucket 999978 has 1 elements\n",
            "[-99997774605]\n",
            "Bucket 999975 has 1 elements\n",
            "[-99997482077]\n",
            "Bucket 999974 has 2 elements\n",
            "[-99997394626, -99997376372]\n",
            "Bucket 999971 has 1 elements\n",
            "[-99997042493]\n",
            "Bucket 999967 has 3 elements\n",
            "[-99996688776, -99996637926, 99996720906]\n",
            "Bucket 999966 has 1 elements\n",
            "[-99996535015]\n",
            "Bucket 999963 has 1 elements\n",
            "[-99996274990]\n",
            "Bucket 999962 has 1 elements\n",
            "[-99996153825]\n",
            "Bucket 999953 has 4 elements\n",
            "[-99995275960, -99995261618, -99995261338, -99995249324]\n",
            "Bucket 999952 has 2 elements\n",
            "[-99995127507, 99995275866]\n",
            "Bucket 999949 has 3 elements\n",
            "[-99994854536, -99994842709, -99994827621]\n",
            "Bucket 999948 has 2 elements\n",
            "[-99994768575, 99994828924]\n",
            "Bucket 999947 has 3 elements\n",
            "[-99994657934, -99994650670, 99994791671]\n",
            "Bucket 999945 has 3 elements\n",
            "[-99994472415, -99994420261, 99994577560]\n",
            "Bucket 999944 has 1 elements\n",
            "[-99994310644]\n",
            "Bucket 999943 has 1 elements\n",
            "[-99994299934]\n",
            "Bucket 999940 has 2 elements\n",
            "[-99993999117, -99993908592]\n",
            "Bucket 999939 has 3 elements\n",
            "[-99993831851, -99993801583, 99993966612]\n",
            "Bucket 999936 has 2 elements\n",
            "[-99993509893, 99993691593]\n",
            "Bucket 999935 has 2 elements\n",
            "[-99993401301, 99993526749]\n",
            "Bucket 999933 has 1 elements\n",
            "[-99993287027]\n",
            "Bucket 999931 has 2 elements\n",
            "[-99993055594, -99993039668]\n",
            "Bucket 999928 has 3 elements\n",
            "[-99992739503, -99992703274, 99992839992]\n",
            "Bucket 999926 has 2 elements\n",
            "[-99992591236, -99992517196]\n",
            "Bucket 999920 has 2 elements\n",
            "[-99991996121, 99992019683]\n",
            "Bucket 999914 has 1 elements\n",
            "[-99991356954]\n",
            "Bucket 999913 has 1 elements\n",
            "[-99991299678]\n",
            "Bucket 999912 has 1 elements\n",
            "[-99991168269]\n",
            "Bucket 999910 has 2 elements\n",
            "[-99990958069, 99991045054]\n",
            "Bucket 999907 has 2 elements\n",
            "[-99990624469, 99990788940]\n",
            "Bucket 999906 has 1 elements\n",
            "[-99990514201]\n",
            "Bucket 999902 has 1 elements\n",
            "[-99990119879]\n",
            "Bucket 999899 has 2 elements\n",
            "[-99989867025, -99989804067]\n",
            "Bucket 999897 has 1 elements\n",
            "[-99989668094]\n",
            "Bucket 999895 has 1 elements\n",
            "[-99989497848]\n",
            "Bucket 999891 has 4 elements\n",
            "[-99989077449, -99989016820, 99989143200, 99989172723]\n",
            "Bucket 999884 has 2 elements\n",
            "[-99988393300, -99988382776]\n",
            "Bucket 999877 has 2 elements\n",
            "[-99987670035, -99987625238]\n",
            "Bucket 999874 has 1 elements\n",
            "[-99987338018]\n",
            "Bucket 999872 has 3 elements\n",
            "[-99987184722, -99987170101, 99987288098]\n",
            "Bucket 999871 has 2 elements\n",
            "[-99987024721, 99987178854]\n",
            "Bucket 999870 has 3 elements\n",
            "[-99986938667, 99987084977, 99987097829]\n",
            "Bucket 999860 has 2 elements\n",
            "[-99985946622, -99985901826]\n",
            "Bucket 999859 has 1 elements\n",
            "[-99985837657]\n",
            "Bucket 999857 has 1 elements\n",
            "[-99985600915]\n",
            "Bucket 999856 has 3 elements\n",
            "[-99985581451, 99985602498, 99985697027]\n",
            "Bucket 999853 has 3 elements\n",
            "[-99985230435, 99985301773, 99985322728]\n",
            "Bucket 999851 has 2 elements\n",
            "[-99985008594, 99985141865]\n",
            "Bucket 999850 has 1 elements\n",
            "[-99984992110]\n",
            "Bucket 999843 has 3 elements\n",
            "[-99984211661, 99984310939, 99984394852]\n",
            "Bucket 999840 has 2 elements\n",
            "[-99983923417, -99983903021]\n",
            "Bucket 999835 has 1 elements\n",
            "[-99983455521]\n",
            "Bucket 999830 has 2 elements\n",
            "[-99982905016, 99983087647]\n",
            "Bucket 999827 has 1 elements\n",
            "[-99982638564]\n",
            "Bucket 999820 has 3 elements\n",
            "[-99981904217, 99982013925, 99982061609]\n",
            "Bucket 999815 has 1 elements\n",
            "[-99981454295]\n",
            "Bucket 999814 has 1 elements\n",
            "[-99981308077]\n",
            "Bucket 999812 has 2 elements\n",
            "[-99981184863, -99981129729]\n",
            "Bucket 999810 has 2 elements\n",
            "[-99980984722, 99981049075]\n",
            "Bucket 999809 has 3 elements\n",
            "[-99980826024, 99980957712, 99980990402]\n",
            "Bucket 999806 has 1 elements\n",
            "[-99980546535]\n",
            "Bucket 999804 has 3 elements\n",
            "[-99980309513, 99980421271, 99980437755]\n",
            "Bucket 999803 has 1 elements\n",
            "[-99980275147]\n",
            "Bucket 999802 has 2 elements\n",
            "[-99980135542, 99980228394]\n",
            "Bucket 999801 has 1 elements\n",
            "[-99980074727]\n",
            "Bucket 999796 has 1 elements\n",
            "[-99979558122]\n",
            "Bucket 999793 has 1 elements\n",
            "[-99979226385]\n",
            "Bucket 999792 has 2 elements\n",
            "[-99979190436, -99979162496]\n",
            "Bucket 999791 has 1 elements\n",
            "[-99979019072]\n",
            "Bucket 999790 has 1 elements\n",
            "[-99978962448]\n",
            "Bucket 999789 has 2 elements\n",
            "[-99978848268, 99978915043]\n",
            "Bucket 999786 has 2 elements\n",
            "[-99978554436, 99978625681]\n",
            "Bucket 999784 has 1 elements\n",
            "[-99978341815]\n",
            "Bucket 999782 has 1 elements\n",
            "[-99978146144]\n",
            "Bucket 999780 has 2 elements\n",
            "[-99977972080, 99978057388]\n",
            "Bucket 999771 has 2 elements\n",
            "[-99977094681, 99977151770]\n",
            "Bucket 999767 has 2 elements\n",
            "[-99976632465, 99976762849]\n",
            "Bucket 999763 has 2 elements\n",
            "[-99976263475, -99976235163]\n",
            "Bucket 999762 has 4 elements\n",
            "[-99976175186, -99976118375, -99976101425, 99976294301]\n",
            "Bucket 999760 has 4 elements\n",
            "[-99975998421, -99975947105, -99975932949, 99976037535]\n",
            "Bucket 999759 has 2 elements\n",
            "[-99975803681, 99975968804]\n",
            "Bucket 999757 has 4 elements\n",
            "[-99975679629, -99975658302, -99975607452, -99975601305]\n",
            "Bucket 999755 has 1 elements\n",
            "[-99975417555]\n",
            "Bucket 999754 has 2 elements\n",
            "[-99975395110, 99975471384]\n",
            "Bucket 999753 has 3 elements\n",
            "[-99975277484, -99975251779, -99975211919]\n",
            "Bucket 999750 has 1 elements\n",
            "[-99974953663]\n",
            "Bucket 999749 has 2 elements\n",
            "[-99974882603, -99974870217]\n",
            "Bucket 999747 has 1 elements\n",
            "[-99974643160]\n"
          ]
        }
      ]
    },
    {
      "cell_type": "code",
      "source": [
        "bucketSize = len(HT)\n",
        "t = [-10000, 10000]\n",
        "count = 0\n",
        "sumSet = set()\n",
        "i=0\n",
        "keyList = list(HT.keys())\n",
        "#print(keyList)\n",
        "for bucket in HT:\n",
        "  subList = HT[bucket]\n",
        "  subList.sort()\n",
        "  #print(subList)\n",
        "  count += twoPointerSum(subList, t, sumSet)\n",
        "  #print(i, count)\n",
        "  i += 1\n",
        "\n",
        "print(count)\n",
        "print(sumSet)\n"
      ],
      "metadata": {
        "colab": {
          "base_uri": "https://localhost:8080/"
        },
        "id": "EnCRTjf385MA",
        "outputId": "502a3b0c-a256-4754-a6d8-e92a7cd5007b"
      },
      "execution_count": 47,
      "outputs": [
        {
          "output_type": "stream",
          "name": "stdout",
          "text": [
            "175\n",
            "{2048, 6145, 4097, 7170, 5121, 3073, 6146, 8195, 9219, 8194, 9220, 7171, 9872, 3259, 7635, 4377, 1024, 557, 1582, 4655, 5680, 8753, 9778, 8754, 4656, 5681, 7729, 6705, 3631, 6704, 9777, 4284, 930, 4190, 2141, 5214, 7263, 9312, 8288, 9313, 7264, 6239, 3166, 3165, 3072, 8287, 5215, 651, 1676, 6797, 5773, 9871, 8847, 5774, 7822, 8846, 4748, 6798, 4749, 1861, 7823, 1862, 745, 2886, 2234, 4283, 6332, 9405, 7357, 8381, 9406, 7356, 8380, 5308, 5307, 1769, 2979, 1768, 2793, 3818, 4842, 7916, 9964, 7915, 6891, 8939, 5867, 5866, 9965, 8940, 1675, 185, 558, 3817, 2700, 1302, 2327, 3352, 5401, 8474, 9499, 7450, 4376, 9498, 6425, 5400, 1583, 7449, 6426, 8475, 4841, 3724, 3725, 2606, 2607, 837, 3910, 4935, 8008, 9033, 5959, 6984, 8009, 3911, 9032, 6983, 5960, 3632, 1396, 2420, 3445, 5494, 7543, 8567, 9592, 4469, 6518, 9591, 7542, 4470, 8568, 6519, 2421, 1303, 1954, 4003, 1955, 6053, 8102, 4004, 5028, 7077, 6052, 9126, 8101, 7078, 4563, 2328, 5586, 2513, 4562, 5587, 6611, 9685, 1489, 7636, 8661, 8660, 9684, 3538, 6612, 3351, 1117, 5493, 1023}\n"
          ]
        }
      ]
    }
  ]
}