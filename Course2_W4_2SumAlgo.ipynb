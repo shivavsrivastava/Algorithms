{
  "nbformat": 4,
  "nbformat_minor": 0,
  "metadata": {
    "colab": {
      "provenance": [],
      "authorship_tag": "ABX9TyP73w1RqOEYWa6UH8fJbDo7",
      "include_colab_link": true
    },
    "kernelspec": {
      "name": "python3",
      "display_name": "Python 3"
    },
    "language_info": {
      "name": "python"
    }
  },
  "cells": [
    {
      "cell_type": "markdown",
      "metadata": {
        "id": "view-in-github",
        "colab_type": "text"
      },
      "source": [
        "<a href=\"https://colab.research.google.com/github/shivavsrivastava/Algorithms/blob/main/Course2_W4_2SumAlgo.ipynb\" target=\"_parent\"><img src=\"https://colab.research.google.com/assets/colab-badge.svg\" alt=\"Open In Colab\"/></a>"
      ]
    },
    {
      "cell_type": "markdown",
      "source": [
        "# Course 2, Programming Assignment 4: 2Sum Algorithm\n"
      ],
      "metadata": {
        "id": "8TRYJIbu5szO"
      }
    },
    {
      "cell_type": "markdown",
      "source": [
        "The goal of this problem is to implement a variant of the 2-SUM algorithm covered in this week's lectures.\n",
        "\n",
        "The file contains 1 million integers, both positive and negative (there might be some repetitions!).This is your array of integers, with the i-th row of the file specifying the i-th entry of the array.\n",
        "\n",
        "Your task is to compute the number of target values **t** in the interval **[-10000,10000]** (inclusive) such that there are distinct numbers **x, y** in the input file that satisfy **x + y = t** (NOTE: ensuring distinctness requires a one-line addition to the algorithm from lecture)\n",
        "\n",
        "\n"
      ],
      "metadata": {
        "id": "PCgw4tFplbvx"
      }
    },
    {
      "cell_type": "code",
      "source": [
        "import sys\n",
        "import numpy as np\n",
        "import time\n",
        "import math\n",
        "print(sys.version)"
      ],
      "metadata": {
        "id": "P9NoK--bQ8MS"
      },
      "execution_count": null,
      "outputs": []
    },
    {
      "cell_type": "markdown",
      "source": [
        "## 2 pointer sum function\n",
        "Maintain 2 pointers in a sorted array and count the number of times sum is with the prescribed range."
      ],
      "metadata": {
        "id": "f_1AoSn0FFho"
      }
    },
    {
      "cell_type": "code",
      "source": [
        "def twoPointerSum(array, targetInterval, sumSet):\n",
        "  n = len(array)\n",
        "  p1 = 0\n",
        "  p2 = n-1\n",
        "  count = 0\n",
        "  while p1 < p2:\n",
        "    sum = array[p1] + array[p2]\n",
        "    #print(\"p1={}, p2={}, sum={}\".format(p1, p2, sum))\n",
        "    if sum < targetInterval[0]:\n",
        "      p1 += 1\n",
        "    elif sum > targetInterval[1]:\n",
        "      p2 -= 1\n",
        "    else:\n",
        "      p3 = p2\n",
        "      while p3 > p1:\n",
        "        sum = array[p1] + array[p3]\n",
        "        #print(\"Inside the loop to count: p1={}, p3={}, sum={}\".format(array[p1], array[p3], sum))\n",
        "        # check the target range\n",
        "        p3 -= 1\n",
        "        if sum>= targetInterval[0] and sum <= targetInterval[1]:\n",
        "          if sum not in sumSet:\n",
        "            sumSet.add(sum)\n",
        "            count += 1\n",
        "        else:\n",
        "          break\n",
        "      p1 += 1\n",
        "  #print(sumSet)\n",
        "  return count\n",
        "\n",
        "\n"
      ],
      "metadata": {
        "id": "igXU1CY76Fgw"
      },
      "execution_count": null,
      "outputs": []
    },
    {
      "cell_type": "markdown",
      "source": [
        "Note: Be careful the sum has to be with distinct x and y and also the sum once achieved should not be repeated"
      ],
      "metadata": {
        "id": "i8CJJdGu5FrQ"
      }
    },
    {
      "cell_type": "markdown",
      "source": [
        "### Test the 2Sum function"
      ],
      "metadata": {
        "id": "p3gMHJiBp6dR"
      }
    },
    {
      "cell_type": "code",
      "source": [
        "## Test 1: expected output 8\n",
        "li = [-3, -1, 1, 2, 9, 11, 7, 6, 2]\n",
        "t = [3, 10]\n",
        "inlist = list(set(li))\n",
        "inlist.sort()\n",
        "print(inlist)\n",
        "sumSet = set()\n",
        "print(twoPointerSum(inlist, t, sumSet))\n"
      ],
      "metadata": {
        "id": "2YGFPiquVSjH"
      },
      "execution_count": null,
      "outputs": []
    },
    {
      "cell_type": "code",
      "source": [
        "## Test 2: expected output 2\n",
        "li = [-2, 4, 0, 0]\n",
        "t = [0, 4]\n",
        "inlist = list(set(li))\n",
        "inlist.sort()\n",
        "print(inlist)\n",
        "sumSet = set()\n",
        "print(twoPointerSum(inlist, t, sumSet))"
      ],
      "metadata": {
        "id": "Q6qYdibmVpDr"
      },
      "execution_count": null,
      "outputs": []
    },
    {
      "cell_type": "markdown",
      "source": [
        "## ASSIGNMENT\n",
        "Download the following text file:\n",
        "**algo1-programming_prob-2sum.txt**\n",
        "\n",
        "\n",
        "\n"
      ],
      "metadata": {
        "id": "9rQyPzwTkhlh"
      }
    },
    {
      "cell_type": "code",
      "source": [
        "import pandas as pd\n",
        "#df = pd.read_table('https://d3c33hcgiwev3.cloudfront.net/_6ec67df2804ff4b58ab21c12edcb21f8_algo1-programming_prob-2sum.txt?Expires=1712793600&Signature=e4DuKgJo6ZAe-htjT-NS3tvT-JBnQH6vJtkcMY4UONPrNchfK7HzFi~kQiuLTCPNCTHY5w8-dcWg-Dmy9dmruVeArtbjGfOBiTC0~e4RKkb0zTczI31S4B-jtuekx1qgDYrU-I601dQ5HL7OPIQXA-Hkon7ISvhb3nn-fK1Yd2g_&Key-Pair-Id=APKAJLTNE6QMUY6HBC5A', header=None)"
      ],
      "metadata": {
        "id": "FK0IzSp7lWXz"
      },
      "execution_count": null,
      "outputs": []
    },
    {
      "cell_type": "code",
      "source": [
        "import pandas as pd\n",
        "df = pd.read_table('algo1-programming_prob-2sum.txt', header=None)"
      ],
      "metadata": {
        "id": "wl23HvHcMii0"
      },
      "execution_count": null,
      "outputs": []
    },
    {
      "cell_type": "code",
      "source": [
        "df.describe()"
      ],
      "metadata": {
        "id": "kff3E1SsWXXG"
      },
      "execution_count": null,
      "outputs": []
    },
    {
      "cell_type": "code",
      "source": [
        "inputSet = set(df[0])\n",
        "inlist = list(inputSet)\n",
        "inlist.sort()\n",
        "print(inlist[0:10])\n",
        "print(len(inlist))\n",
        "print(inlist[-10:])"
      ],
      "metadata": {
        "id": "6IBeIlYPm4mP"
      },
      "execution_count": null,
      "outputs": []
    },
    {
      "cell_type": "code",
      "source": [
        "t1 = time.time()\n",
        "t = [-10000, 10000]\n",
        "sumSet = set()\n",
        "print(twoPointerSum(inlist, t, sumSet))\n",
        "t2 = time.time()\n",
        "print(\"The 2 Sum algo using 2 pointers takes {} milli-seconds\".format((t2-t1)*1000))"
      ],
      "metadata": {
        "id": "V7Hk9I_ISEQF"
      },
      "execution_count": null,
      "outputs": []
    },
    {
      "cell_type": "markdown",
      "source": [
        "Answer : 427 and this simple 2 pointer method takes close to 400 miliseconds"
      ],
      "metadata": {
        "id": "DD4oDJLKOec2"
      }
    },
    {
      "cell_type": "markdown",
      "source": [
        "#### The idea of bucket implementation here:\n",
        "This Idea does not produce the right answer, but the idea has potential.\n",
        "* Make a sliding window of 3, each time get 3 bucket worth of lists, sort them and give it to twoPointerSum function.\n",
        "* With this idea things should go extremely fast.\n",
        "* I tried ele//10000 and so on, the problem is implementing sliding window"
      ],
      "metadata": {
        "id": "2-AYRYCrfwwA"
      }
    },
    {
      "cell_type": "code",
      "source": [
        "## Organize the inlist into hashtable, HT. The buckets are organized in a/10000\n",
        "HT = {}\n",
        "for ele in inlist:\n",
        "  bucket = abs(ele//1000000)\n",
        "  if bucket in HT:\n",
        "    HT[bucket].append(ele)\n",
        "  else:\n",
        "    HT[bucket] = [ele]\n",
        "\n",
        "print(len(HT))\n",
        "count = 0\n",
        "for bucket in HT:\n",
        "  if(count < 10):\n",
        "    print(\"Bucket {} has {} elements\".format(bucket, len(HT[bucket])))\n",
        "    print(HT[bucket])\n",
        "    count += 1\n",
        "  else:\n",
        "    break"
      ],
      "metadata": {
        "colab": {
          "base_uri": "https://localhost:8080/"
        },
        "id": "nklpCt0t6HI5",
        "outputId": "30b62291-5eb7-4bf8-d638-65e69eeb94e0"
      },
      "execution_count": 23,
      "outputs": [
        {
          "output_type": "stream",
          "name": "stdout",
          "text": [
            "99995\n",
            "Bucket 100000 has 6 elements\n",
            "[-99999887310, -99999653362, -99999563583, -99999468029, -99999376014, -99999235943]\n",
            "Bucket 99999 has 7 elements\n",
            "[-99998935964, -99998734333, -99998697266, -99998276867, 99999371636, 99999381974, 99999662302]\n",
            "Bucket 99998 has 12 elements\n",
            "[-99997956586, -99997893442, -99997859635, -99997774605, -99997482077, -99997394626, -99997376372, -99997042493, 99998165946, 99998379033, 99998714216, 99998858012]\n",
            "Bucket 99997 has 9 elements\n",
            "[-99996688776, -99996637926, -99996535015, -99996274990, -99996153825, 99997373856, 99997702240, 99997729063, 99997769296]\n",
            "Bucket 99996 has 6 elements\n",
            "[-99995275960, -99995261618, -99995261338, -99995249324, -99995127507, 99996720906]\n",
            "Bucket 99995 has 16 elements\n",
            "[-99994854536, -99994842709, -99994827621, -99994768575, -99994657934, -99994650670, -99994472415, -99994420261, -99994310644, -99994299934, 99995275866, 99995443597, 99995598755, 99995655845, 99995772726, 99995946139]\n",
            "Bucket 99994 has 16 elements\n",
            "[-99993999117, -99993908592, -99993831851, -99993801583, -99993509893, -99993401301, -99993287027, -99993055594, -99993039668, 99994108080, 99994181096, 99994577560, 99994632601, 99994699005, 99994791671, 99994828924]\n",
            "Bucket 99993 has 9 elements\n",
            "[-99992739503, -99992703274, -99992591236, -99992517196, 99993286840, 99993526749, 99993691593, 99993771221, 99993966612]\n",
            "Bucket 99992 has 8 elements\n",
            "[-99991996121, -99991356954, -99991299678, -99991168269, 99992019683, 99992241617, 99992523528, 99992839992]\n",
            "Bucket 99991 has 11 elements\n",
            "[-99990958069, -99990624469, -99990514201, -99990119879, 99991045054, 99991126637, 99991563055, 99991624150, 99991758819, 99991841707, 99991874210]\n"
          ]
        }
      ]
    },
    {
      "cell_type": "code",
      "source": [
        "bucketSize = len(HT)\n",
        "t = [-10000, 10000]\n",
        "count = 0\n",
        "sumSet = set()\n",
        "i=0\n",
        "keyList = list(HT.keys())\n",
        "#print(keyList)\n",
        "for bucket in HT:\n",
        "  subList = HT[bucket]\n",
        "  # if bucket-1 in keyList:\n",
        "  #   subList += HT[bucket-1]\n",
        "  # if bucket+1 in keyList:\n",
        "  #   subList += HT[bucket+1]\n",
        "  if len(subList) > 1:\n",
        "    subList.sort()\n",
        "    #print(subList)\n",
        "    count += twoPointerSum(subList, t, sumSet)\n",
        "    #print(i, count)\n",
        "  i += 1\n",
        "\n",
        "print(count)\n",
        "print(sumSet)\n"
      ],
      "metadata": {
        "colab": {
          "base_uri": "https://localhost:8080/"
        },
        "id": "EnCRTjf385MA",
        "outputId": "8b3a8329-b3cc-4218-87f7-f79e565db3c5"
      },
      "execution_count": 25,
      "outputs": [
        {
          "output_type": "stream",
          "name": "stdout",
          "text": [
            "82\n",
            "{2048, 6145, 7170, 5121, 6146, 4097, 8195, 9219, 1582, 5680, 8753, 9778, 6704, 2141, 5214, 7263, 8288, 9313, 9312, 6239, 4190, 1676, 5773, 6797, 8846, 7822, 6798, 9872, 4283, 6332, 9405, 7357, 5308, 8380, 9406, 8381, 1768, 5866, 8939, 7916, 8940, 7915, 6891, 3818, 2327, 4376, 7449, 8474, 9499, 7450, 6425, 1303, 1861, 1862, 3911, 5959, 9033, 2420, 4469, 6518, 8567, 7543, 9592, 4470, 5494, 930, 6052, 6053, 8102, 9126, 8101, 2513, 5586, 5587, 9684, 9685, 8660, 7636, 7635, 8661, 6611, 3538}\n"
          ]
        }
      ]
    },
    {
      "cell_type": "markdown",
      "source": [
        "The logic is all there but this takes a long time and I don't know if the answer achieved is correct, abandoning this method!"
      ],
      "metadata": {
        "id": "leYMnrsxSx-L"
      }
    }
  ]
}