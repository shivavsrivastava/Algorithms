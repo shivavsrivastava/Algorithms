{
  "nbformat": 4,
  "nbformat_minor": 0,
  "metadata": {
    "colab": {
      "provenance": [],
      "machine_shape": "hm",
      "authorship_tag": "ABX9TyNLJxp5hnuLvehOlF+ZeOXX",
      "include_colab_link": true
    },
    "kernelspec": {
      "name": "python3",
      "display_name": "Python 3"
    },
    "language_info": {
      "name": "python"
    }
  },
  "cells": [
    {
      "cell_type": "markdown",
      "metadata": {
        "id": "view-in-github",
        "colab_type": "text"
      },
      "source": [
        "<a href=\"https://colab.research.google.com/github/shivavsrivastava/Algorithms/blob/main/Course3_W4_Knapsack.ipynb\" target=\"_parent\"><img src=\"https://colab.research.google.com/assets/colab-badge.svg\" alt=\"Open In Colab\"/></a>"
      ]
    },
    {
      "cell_type": "markdown",
      "source": [
        "# Knapsack algorithm\n",
        "\n"
      ],
      "metadata": {
        "id": "8TRYJIbu5szO"
      }
    },
    {
      "cell_type": "code",
      "source": [
        "import numpy as np\n",
        "import random\n",
        "import urllib3\n",
        "import math\n",
        "from collections import defaultdict\n",
        "import time\n",
        "import heapq\n",
        "from heapq import heappush, heappop, heapify\n",
        "import sys\n",
        "from itertools import count"
      ],
      "metadata": {
        "id": "P9NoK--bQ8MS"
      },
      "execution_count": 2,
      "outputs": []
    },
    {
      "cell_type": "markdown",
      "source": [
        "## Programming Assignment: Part 1\n",
        "Warm-up problem, has just 100 items\n"
      ],
      "metadata": {
        "id": "f_1AoSn0FFho"
      }
    },
    {
      "cell_type": "markdown",
      "source": [
        "In this programming problem and the next you'll code up the knapsack algorithm from lecture.\n",
        "\n",
        "Let's start with a warm-up.  Download the text file below - **knapsack1.txt**\n",
        "\n",
        "This file describes a knapsack instance, and it has the following format:\n",
        "\n",
        "[knapsack_size][number_of_items]\n",
        "\n",
        "[value_1] [weight_1]\n",
        "\n",
        "[value_2] [weight_2]\n",
        "\n",
        "...\n",
        "\n",
        "For example, the third line of the file is \"50074 659\", indicating that the second item has value 50074 and size 659, respectively.\n",
        "\n",
        "You can assume that all numbers are positive.  You should assume that item weights and the knapsack capacity are integers.\n"
      ],
      "metadata": {
        "id": "0pMBaPAv-6l9"
      }
    },
    {
      "cell_type": "code",
      "source": [
        "def knapsack_tabular(values, weights, A):\n",
        "  r, c = A.shape\n",
        "  # r is number of items\n",
        "  # c is the weight capacity\n",
        "  for i in range(1, r):\n",
        "    for x in range(c):\n",
        "      if A[i-1][x] != None:\n",
        "        prevVal = A[i-1][x]\n",
        "      # if the current weight exceeds the current capacity of knapsack\n",
        "      if weights[i-1] > x:\n",
        "        curVal = 0\n",
        "      else:\n",
        "        # look for curr capacity - weight to see if value can be added\n",
        "        curVal = A[i-1][x-weights[i-1]] + values[i-1]\n",
        "      A[i][x] = max(curVal, prevVal)\n",
        "  return A[r-1][c-1]"
      ],
      "metadata": {
        "id": "Lix5yScFarwb"
      },
      "execution_count": 3,
      "outputs": []
    },
    {
      "cell_type": "code",
      "source": [
        "def reconstruct(values, weights, A):\n",
        "  ValueSet = []\n",
        "  ItemsIndex = []\n",
        "  r, c = A.shape\n",
        "  # Start from the end of A matrix\n",
        "  r, c = r-1, c-1\n",
        "  while r >= 0 and c >= 0:\n",
        "    if (weights[r-1] > c) or (A[r-1][c] == A[r][c]):\n",
        "      r -= 1\n",
        "      continue\n",
        "    if(A[r][c] - values[r-1]) == (A[r-1][c-weights[r-1]]):\n",
        "      ValueSet.append(values[r-1])\n",
        "      ItemsIndex.append(r)\n",
        "      c -= weights[r-1]\n",
        "      r -= 1\n",
        "  print(\"Optimal Value Set : {}\".format(ValueSet))\n",
        "  print(\"Items Used to find Optimal Value : {}\".format(ItemsIndex))\n",
        "  #return V"
      ],
      "metadata": {
        "id": "TY8We6etb1cR"
      },
      "execution_count": 4,
      "outputs": []
    },
    {
      "cell_type": "code",
      "source": [
        "def knapsack(knapsackSize, nItems, values, weights):\n",
        "  A = np.full((nItems+1, knapsackSize+1), None)\n",
        "  A[0][:] = 0\n",
        "  print(\"Inside knapsack: A = {}\".format(A))\n",
        "  optimalValue = knapsack_tabular(values, weights, A)\n",
        "  print(\"After tabular call: A = {}\".format(A))\n",
        "  print(\"Optimal Value = {}\".format(optimalValue))\n",
        "  reconstruct(values, weights, A)\n"
      ],
      "metadata": {
        "id": "F210J-WoV12K"
      },
      "execution_count": 5,
      "outputs": []
    },
    {
      "cell_type": "code",
      "source": [
        "def knapsack_noreconstruct(knapsackSize, nItems, values, weights):\n",
        "  A = np.full((nItems+1, knapsackSize+1), None)\n",
        "  A[0][:] = 0\n",
        "  print(\"Inside knapsack: A = {}\".format(A))\n",
        "  optimalValue = knapsack_tabular(values, weights, A)\n",
        "  print(\"After tabular call: A = {}\".format(A))\n",
        "  print(\"Optimal Value = {}\".format(optimalValue))\n",
        ""
      ],
      "metadata": {
        "id": "eGbXauK2UkLv"
      },
      "execution_count": 6,
      "outputs": []
    },
    {
      "cell_type": "code",
      "source": [
        "def knapsack_dp(W, n, values, weights):\n",
        "  A = [0 for i in range(W+1)]\n",
        "  for i in range(1, n+1):\n",
        "    for x in range(W, 0, -1):\n",
        "      if weights[i-1] <= x:\n",
        "        A[x] = max(A[x], A[x-weights[i-1]] + values[i-1])\n",
        "  return A[W]"
      ],
      "metadata": {
        "id": "DgtK7OkUxCmQ"
      },
      "execution_count": 7,
      "outputs": []
    },
    {
      "cell_type": "code",
      "source": [
        "\n",
        "# Can do better than defining a 2-D array\n",
        "def knapsack_dp_2(W, n, values, weights):\n",
        "  global A\n",
        "  A = [[-1 for i in range(W + 1)] for j in range(n + 1)]\n",
        "  ans = knapsack_recursive(W, n, values, weights)\n",
        "  print(\"Optimal Value = {}\".format(ans))\n",
        "  return ans\n",
        "\n",
        "def knapsack_recursive(W, n, values, weights):\n",
        "  if n == 0 or W == 0:\n",
        "    return 0\n",
        "  if A[n][W] != -1:\n",
        "    return A[n][W]\n",
        "\n",
        "  if weights[n-1] <= W:\n",
        "    A[n][W] = max(values[n-1] + knapsack_recursive(W-weights[n-1], n-1, values, weights),\n",
        "                  knapsack_recursive(W, n-1, values, weights))\n",
        "    return A[n][W]\n",
        "  else:\n",
        "    A[n][W] = knapsack_recursive(W, n-1, values, weights)\n",
        "    return A[n][W]\n",
        "\n",
        ""
      ],
      "metadata": {
        "id": "ga4usOzM0n6B"
      },
      "execution_count": 8,
      "outputs": []
    },
    {
      "cell_type": "markdown",
      "source": [
        "### Small testcases"
      ],
      "metadata": {
        "id": "-3P9K9V8ghDW"
      }
    },
    {
      "cell_type": "code",
      "source": [
        "## Test 1\n",
        "knapsack(8, 4, [1,2,5,6], [2,3,4,5])"
      ],
      "metadata": {
        "id": "S_GNK52RgmK4",
        "colab": {
          "base_uri": "https://localhost:8080/"
        },
        "outputId": "ff7eca36-5ec3-4848-ddd9-2bf6ebf0c85d"
      },
      "execution_count": 9,
      "outputs": [
        {
          "output_type": "stream",
          "name": "stdout",
          "text": [
            "Inside knapsack: A = [[0 0 0 0 0 0 0 0 0]\n",
            " [None None None None None None None None None]\n",
            " [None None None None None None None None None]\n",
            " [None None None None None None None None None]\n",
            " [None None None None None None None None None]]\n",
            "After tabular call: A = [[0 0 0 0 0 0 0 0 0]\n",
            " [0 0 1 1 1 1 1 1 1]\n",
            " [0 0 1 2 2 3 3 3 3]\n",
            " [0 0 1 2 5 5 6 7 7]\n",
            " [0 0 1 2 5 6 6 7 8]]\n",
            "Optimal Value = 8\n",
            "Optimal Value Set : [6, 2]\n",
            "Items Used to find Optimal Value : [4, 2]\n"
          ]
        }
      ]
    },
    {
      "cell_type": "code",
      "source": [
        "print(knapsack_dp_2(8, 4, [1,2,5,6], [2,3,4,5]))"
      ],
      "metadata": {
        "colab": {
          "base_uri": "https://localhost:8080/"
        },
        "id": "3Xq08hr4x3GF",
        "outputId": "989f7229-73bd-4c12-91ff-7115ac69087d"
      },
      "execution_count": 10,
      "outputs": [
        {
          "output_type": "stream",
          "name": "stdout",
          "text": [
            "Optimal Value = 8\n",
            "8\n"
          ]
        }
      ]
    },
    {
      "cell_type": "code",
      "source": [
        "## Test 2\n",
        "knapsack(6, 4, [3,2,4,4], [4,3,2,3])"
      ],
      "metadata": {
        "colab": {
          "base_uri": "https://localhost:8080/"
        },
        "id": "9Pb6pg3Iu2S_",
        "outputId": "a913a807-f8a4-4fc3-ae1e-b1a06b9f8473"
      },
      "execution_count": 12,
      "outputs": [
        {
          "output_type": "stream",
          "name": "stdout",
          "text": [
            "Inside knapsack: A = [[0 0 0 0 0 0 0]\n",
            " [None None None None None None None]\n",
            " [None None None None None None None]\n",
            " [None None None None None None None]\n",
            " [None None None None None None None]]\n",
            "After tabular call: A = [[0 0 0 0 0 0 0]\n",
            " [0 0 0 0 3 3 3]\n",
            " [0 0 0 2 3 3 3]\n",
            " [0 0 4 4 4 6 7]\n",
            " [0 0 4 4 4 8 8]]\n",
            "Optimal Value = 8\n",
            "Optimal Value Set : [4, 4]\n",
            "Items Used to find Optimal Value : [4, 3]\n"
          ]
        }
      ]
    },
    {
      "cell_type": "code",
      "source": [
        "print(knapsack_dp_2(6, 4, [3,2,4,4], [4,3,2,3]))"
      ],
      "metadata": {
        "colab": {
          "base_uri": "https://localhost:8080/"
        },
        "id": "23uAzF36x8ib",
        "outputId": "06baddea-568a-4f72-8acd-c0a7b54eebae"
      },
      "execution_count": 11,
      "outputs": [
        {
          "output_type": "stream",
          "name": "stdout",
          "text": [
            "Optimal Value = 8\n",
            "8\n"
          ]
        }
      ]
    },
    {
      "cell_type": "markdown",
      "source": [
        "#### Assignment Part 1"
      ],
      "metadata": {
        "id": "Pl1YI8TvlK6v"
      }
    },
    {
      "cell_type": "code",
      "source": [
        "def testcase():\n",
        "    http = urllib3.PoolManager()\n",
        "    r1 = http.request('GET', \"https://d3c33hcgiwev3.cloudfront.net/_6dfda29c18c77fd14511ba8964c2e265_knapsack1.txt?Expires=1716076800&Signature=A2X5i1mxUpKDa94szC-KfhouM7n8hlJkZDHoq7If3dQ5-mKSAD6FL4BK3b~gdIEqBIPcMRdzmM79qu27XDThDcP8O4xPoIKZ4-T~eFS7z4JE1JzgWPFkOc0SyHiETEDBwJw0RxZCLuufFSa-HyQlINMIG5g1VightfwLQ2GAFX0_&Key-Pair-Id=APKAJLTNE6QMUY6HBC5A\")\n",
        "    IntegerMatrixStringJoin = r1.data.decode('utf8').split('\\n')\n",
        "    IntegerMatrixStringJoin.remove('')\n",
        "    meta = IntegerMatrixStringJoin[0].split(' ')\n",
        "    W = int(meta[0])\n",
        "    n = int(meta[1])\n",
        "    IntegerMatrixStringJoin.remove(IntegerMatrixStringJoin[0])\n",
        "    v = []\n",
        "    w = []\n",
        "    for i in range(n):\n",
        "        data = IntegerMatrixStringJoin[i].split(' ')\n",
        "        v.append(int(data[0]))\n",
        "        w.append(int(data[1]))\n",
        "    return v, w, W\n",
        "\n",
        "\n",
        "values, weights, W = testcase()"
      ],
      "metadata": {
        "id": "izfxR2GKvhT_"
      },
      "execution_count": 14,
      "outputs": []
    },
    {
      "cell_type": "code",
      "source": [
        "print(values)\n",
        "print(W)"
      ],
      "metadata": {
        "colab": {
          "base_uri": "https://localhost:8080/"
        },
        "id": "XjCNTEYtv1ja",
        "outputId": "cb3dc5ab-c205-4e18-900a-0fbbb9590409"
      },
      "execution_count": 15,
      "outputs": [
        {
          "output_type": "stream",
          "name": "stdout",
          "text": [
            "[16808, 50074, 8931, 27545, 77924, 64441, 84493, 7988, 82328, 78841, 44304, 17710, 29561, 93100, 51817, 99098, 13513, 23811, 80980, 36580, 11968, 1394, 25486, 25229, 40195, 35002, 16709, 15669, 88125, 9531, 27723, 28550, 97802, 40978, 8229, 60299, 28636, 23866, 39064, 39426, 24116, 75630, 46518, 30106, 19452, 82189, 99506, 6753, 36717, 54439, 51502, 83872, 11138, 53178, 22295, 21610, 59746, 53636, 98143, 27969, 261, 41595, 16396, 19114, 71007, 97943, 42083, 30768, 85696, 73672, 48591, 14739, 31617, 55641, 37336, 97973, 49096, 83455, 12290, 48906, 36124, 45814, 35239, 96221, 12367, 25227, 41364, 7845, 36551, 8624, 97386, 95273, 99248, 13497, 40624, 28145, 35736, 61626, 46043, 54680]\n",
            "10000\n"
          ]
        }
      ]
    },
    {
      "cell_type": "code",
      "source": [
        "knapsack(W, len(values), values, weights)"
      ],
      "metadata": {
        "colab": {
          "base_uri": "https://localhost:8080/"
        },
        "id": "5VX_LNExv8Km",
        "outputId": "0e6d1b9f-e4ea-46a2-e590-df1f332836e1"
      },
      "execution_count": 16,
      "outputs": [
        {
          "output_type": "stream",
          "name": "stdout",
          "text": [
            "Inside knapsack: A = [[0 0 0 ... 0 0 0]\n",
            " [None None None ... None None None]\n",
            " [None None None ... None None None]\n",
            " ...\n",
            " [None None None ... None None None]\n",
            " [None None None ... None None None]\n",
            " [None None None ... None None None]]\n",
            "After tabular call: A = [[0 0 0 ... 0 0 0]\n",
            " [0 0 0 ... 16808 16808 16808]\n",
            " [0 0 0 ... 66882 66882 66882]\n",
            " ...\n",
            " [0 0 0 ... 2414601 2414601 2414601]\n",
            " [0 0 0 ... 2456923 2456923 2460644]\n",
            " [0 0 0 ... 2493893 2493893 2493893]]\n",
            "Optimal Value = 2493893\n",
            "Optimal Value Set : [54680, 46043, 99248, 95273, 97386, 36551, 35239, 48906, 83455, 49096, 97973, 37336, 14739, 85696, 97943, 41595, 98143, 53636, 59746, 53178, 54439, 82189, 46518, 75630, 24116, 28636, 28550, 88125, 35002, 40195, 25229, 80980, 99098, 51817, 93100, 44304, 78841, 82328, 84493, 64441]\n",
            "Items Used to find Optimal Value : [100, 99, 93, 92, 91, 89, 83, 80, 78, 77, 76, 75, 72, 69, 66, 62, 59, 58, 57, 54, 50, 46, 43, 42, 41, 37, 32, 29, 26, 25, 24, 19, 16, 15, 14, 11, 10, 9, 7, 6]\n"
          ]
        }
      ]
    },
    {
      "cell_type": "code",
      "source": [
        "print(knapsack_dp_2(W, len(values), values, weights))"
      ],
      "metadata": {
        "colab": {
          "base_uri": "https://localhost:8080/"
        },
        "id": "St_rvtQAyM9g",
        "outputId": "a5b9e949-474a-41b8-bbfb-6f19be89a565"
      },
      "execution_count": 17,
      "outputs": [
        {
          "output_type": "stream",
          "name": "stdout",
          "text": [
            "Optimal Value = 2493893\n",
            "2493893\n"
          ]
        }
      ]
    },
    {
      "cell_type": "markdown",
      "source": [
        "Answer:\n",
        "Optimal Value = 2493893"
      ],
      "metadata": {
        "id": "9ST7YXtHtG5f"
      }
    },
    {
      "cell_type": "markdown",
      "source": [
        "## Programming Assignment: Part 2\n",
        "The knapsack size is huge and the number of items too, so creating a big matrix doesn't make sense"
      ],
      "metadata": {
        "id": "Vdv5Kpjc0c5I"
      }
    },
    {
      "cell_type": "markdown",
      "source": [
        "This problem also asks you to solve a knapsack instance, but a much bigger one.\n",
        "\n",
        "Download the text file below **knapsack_big.txt**\n",
        "\n",
        "This file describes a knapsack instance, and it has the following format:\n",
        "\n",
        "[knapsack_size][number_of_items]\n",
        "\n",
        "[value_1] [weight_1]\n",
        "\n",
        "[value_2] [weight_2]\n",
        "\n",
        "...\n",
        "\n",
        "For example, the third line of the file is \"50074 834558\", indicating that the second item has value 50074 and size 834558, respectively.  As before, you should assume that item weights and the knapsack capacity are integers.\n",
        "\n",
        "This instance is so big that the straightforward iterative implemetation uses an infeasible amount of time and space.  So you will have to be creative to compute an optimal solution.  One idea is to go back to a recursive implementation, solving subproblems --- and, of course, caching the results to avoid redundant work --- only on an \"as needed\" basis.  Also, be sure to think about appropriate data structures for storing and looking up solutions to subproblems."
      ],
      "metadata": {
        "id": "GaXIAs7HTgnw"
      }
    },
    {
      "cell_type": "code",
      "source": [
        "def testcase2():\n",
        "    http = urllib3.PoolManager()\n",
        "    r1 = http.request('GET', \"https://d3c33hcgiwev3.cloudfront.net/_6dfda29c18c77fd14511ba8964c2e265_knapsack_big.txt?Expires=1716076800&Signature=IbO1S7v1ixY03Zalw~VQPt1L4PiSkxCnE7IhEFzqpJE2wk939jK~JiOyRLnnp~U44u9pVCFswkccxztNKmiUJEozAgR2sXQpBWzGgA8c-31LAMzgRy1dyLtzFprkMjWtLtvdrzR9bss59eK4K3FJovTv6ExO-ck7rRmnFvj8ceI_&Key-Pair-Id=APKAJLTNE6QMUY6HBC5A\")\n",
        "    IntegerMatrixStringJoin = r1.data.decode('utf8').split('\\n')\n",
        "    IntegerMatrixStringJoin.remove('')\n",
        "    meta = IntegerMatrixStringJoin[0].split(' ')\n",
        "    W = int(meta[0])\n",
        "    n = int(meta[1])\n",
        "    IntegerMatrixStringJoin.remove(IntegerMatrixStringJoin[0])\n",
        "    v = []\n",
        "    w = []\n",
        "    for i in range(n):\n",
        "        data = IntegerMatrixStringJoin[i].split(' ')\n",
        "        v.append(int(data[0]))\n",
        "        w.append(int(data[1]))\n",
        "    return v, w, W\n",
        "\n",
        "\n",
        "values, weights, W = testcase2()"
      ],
      "metadata": {
        "id": "v3w3-x_mydHH"
      },
      "execution_count": 12,
      "outputs": []
    },
    {
      "cell_type": "code",
      "source": [
        "sys.setrecursionlimit(10000)"
      ],
      "metadata": {
        "id": "5lzupX3BelMz"
      },
      "execution_count": 13,
      "outputs": []
    },
    {
      "cell_type": "code",
      "source": [
        "print(knapsack_dp_2(W, len(values), values, weights))"
      ],
      "metadata": {
        "colab": {
          "base_uri": "https://localhost:8080/"
        },
        "id": "SgF9fkD3y7MN",
        "outputId": "f60c8493-9c49-4f5a-b3fa-c2cfcf5bd185"
      },
      "execution_count": 14,
      "outputs": [
        {
          "output_type": "stream",
          "name": "stdout",
          "text": [
            "Optimal Value = 4243395\n",
            "4243395\n"
          ]
        }
      ]
    },
    {
      "cell_type": "markdown",
      "source": [
        "Ans: 4243395\n",
        "\n",
        "Note: It took around 4 minutes to solve this problem, with recursion limit set to 10000 and High RAM"
      ],
      "metadata": {
        "id": "vbSRZJewgZwR"
      }
    }
  ]
}