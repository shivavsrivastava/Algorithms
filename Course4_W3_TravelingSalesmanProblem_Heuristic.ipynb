{
  "nbformat": 4,
  "nbformat_minor": 0,
  "metadata": {
    "colab": {
      "provenance": [],
      "machine_shape": "hm",
      "gpuType": "T4",
      "authorship_tag": "ABX9TyOmC6BoG/ujoeTePGX0+SD0",
      "include_colab_link": true
    },
    "kernelspec": {
      "name": "python3",
      "display_name": "Python 3"
    },
    "language_info": {
      "name": "python"
    },
    "accelerator": "GPU"
  },
  "cells": [
    {
      "cell_type": "markdown",
      "metadata": {
        "id": "view-in-github",
        "colab_type": "text"
      },
      "source": [
        "<a href=\"https://colab.research.google.com/github/shivavsrivastava/Algorithms/blob/main/Course4_W3_TravelingSalesmanProblem_Heuristic.ipynb\" target=\"_parent\"><img src=\"https://colab.research.google.com/assets/colab-badge.svg\" alt=\"Open In Colab\"/></a>"
      ]
    },
    {
      "cell_type": "markdown",
      "source": [
        "# # Traveling Salesman Problem (TSP)\n",
        "\n",
        "Use Heuristic to solve this NP-complete problem in polynomial time. Sacrifice accuracy to reach an approximate solution"
      ],
      "metadata": {
        "id": "hYKD5Q-VI0PN"
      }
    },
    {
      "cell_type": "code",
      "source": [
        "import numpy as np\n",
        "import random\n",
        "import urllib3\n",
        "import math\n",
        "import time\n",
        "import copy\n",
        "import sys\n",
        "from itertools import combinations, permutations\n",
        "\n",
        "\n",
        "import networkx as nx\n",
        "import matplotlib.pyplot as plt"
      ],
      "metadata": {
        "id": "P9NoK--bQ8MS"
      },
      "execution_count": null,
      "outputs": []
    },
    {
      "cell_type": "code",
      "source": [
        "def TravelingSalesmanProblem_Heuristic(graph):\n",
        "    nodes_list = list(graph.nodes)\n",
        "    not_visited = list(graph.nodes)\n",
        "    print(not_visited)\n",
        "    start_node = not_visited[0]\n",
        "    print(start_node)\n",
        "    x = start_node\n",
        "    x_index = nodes_list.index(x)\n",
        "    closest_neighbor = not_visited[-1]\n",
        "    print(closest_neighbor)\n",
        "    closest_neighbor_index = nodes_list.index(closest_neighbor)\n",
        "    tsp_tour = 0\n",
        "    not_visited.remove(start_node)\n",
        "    while not_visited:\n",
        "        neighbors = list(graph.neighbors(x))\n",
        "        print(\"neighbors {} of {}\".format(neighbors, x))\n",
        "        closest_neighbor_dist = float('inf')\n",
        "        for neighbor in neighbors:\n",
        "            if neighbor in not_visited:\n",
        "                dist = graph.edges[x, neighbor]['weight']\n",
        "                print(\"dist {} of {}\".format(dist, neighbor))\n",
        "                if (dist < closest_neighbor_dist) or (dist==closest_neighbor_dist and nodes_list.index(neighbor)<closest_neighbor_index) :\n",
        "                    closest_neighbor_dist = dist\n",
        "                    closest_neighbor = neighbor\n",
        "                    closest_neighbor_index = nodes_list.index(neighbor)\n",
        "        print(closest_neighbor)\n",
        "        tsp_tour += closest_neighbor_dist\n",
        "        not_visited.remove(closest_neighbor)\n",
        "        x = closest_neighbor\n",
        "    tsp_tour += graph.edges[start_node, x]['weight']\n",
        "    return tsp_tour\n",
        "\n",
        ""
      ],
      "metadata": {
        "id": "hxmTAbsYv_gX"
      },
      "execution_count": null,
      "outputs": []
    },
    {
      "cell_type": "markdown",
      "source": [
        "Tests : small graphs"
      ],
      "metadata": {
        "id": "L6UJd0c2wiuS"
      }
    },
    {
      "cell_type": "code",
      "source": [
        "G = nx.Graph()\n",
        "for i,j in zip(['a', 'b', 'c', 'd', 'e'],[(5, 5), (5, 10), (0, 5), (0, 10), (-5, 7.5)]):\n",
        "    G.add_node(i, pos=j)\n",
        "G.add_weighted_edges_from([('a', 'b', 1), ('b', 'd', 2), ('d', 'c', 3), ('e', 'a', 4), ('d', 'c', 5), ('c', 'e', 6)])\n",
        "pos = nx.get_node_attributes(G, 'pos')\n",
        "weights = nx.get_edge_attributes(G, 'weight')\n",
        "nx.draw_networkx_edge_labels(G, pos, edge_labels = weights)\n",
        "nx.draw_networkx_labels(G,pos=pos)\n",
        "nx.draw(G, pos, with_labels = True)\n",
        "TravelingSalesmanProblem_Heuristic(G)\n",
        "# dynamic solution was 18"
      ],
      "metadata": {
        "id": "ehOKwNd-wmoA"
      },
      "execution_count": null,
      "outputs": []
    },
    {
      "cell_type": "code",
      "source": [
        "G = nx.Graph()\n",
        "for i,j in zip(['s', 'a', 'd', 'g', 'h', 'i', 't'],[(0, 5), (5, 10), (5, 5), (5, 0), (10, 0), (15, 0), (20, 5)]):\n",
        "    G.add_node(i, pos=j)\n",
        "G.add_weighted_edges_from([('s', 'a', 1), ('s', 'd', 1), ('s', 'g', 1), ('a', 't', 1), ('d', 't', 100), ('g', 'h', 1), ('h', 'i', 1), ('i', 't', 100), ('i', 'a', 1), ('d', 'a', 1)])\n",
        "pos = nx.get_node_attributes(G, 'pos')\n",
        "weights = nx.get_edge_attributes(G, 'weight')\n",
        "nx.draw_networkx_edge_labels(G, pos, edge_labels = weights)\n",
        "nx.draw_networkx_labels(G,pos=pos)\n",
        "nx.draw(G, pos, with_labels = True)\n",
        "TravelingSalesmanProblem_Heuristic(G)"
      ],
      "metadata": {
        "id": "r7alwR0TxYQy"
      },
      "execution_count": null,
      "outputs": []
    },
    {
      "cell_type": "markdown",
      "source": [
        "## Programming Assignment\n",
        "\n"
      ],
      "metadata": {
        "id": "f_1AoSn0FFho"
      }
    },
    {
      "cell_type": "markdown",
      "source": [
        "In this assignment we will revisit an old friend, the traveling salesman problem (TSP).  This week you will implement a heuristic for the TSP, rather than an exact algorithm, and as a result will be able to handle much larger problem sizes.  Here is a data file describing a TSP instance (original source:\n",
        "http://www.math.uwaterloo.ca/tsp/world/bm33708.tsp\n",
        ").\n",
        "\n",
        "**nn.txt**\n",
        "\n",
        "\n",
        "The first line indicates the number of cities. Each city is a point in the plane, and each subsequent line indicates the x- and y-coordinates of a single city.\n",
        "\n",
        "The distance between two cities is defined as the Euclidean distance --- that is, two cities at locations\n",
        "(\n",
        "𝑥\n",
        ",\n",
        "𝑦\n",
        ")\n",
        "(x,y) and\n",
        "(\n",
        "𝑧\n",
        ",\n",
        "𝑤\n",
        ")\n",
        "(z,w) have distance\n",
        "(\n",
        "𝑥\n",
        "−\n",
        "𝑧\n",
        ")\n",
        "2\n",
        "+\n",
        "(\n",
        "𝑦\n",
        "−\n",
        "𝑤\n",
        ")\n",
        "2\n",
        "(x−z)\n",
        "2\n",
        " +(y−w)\n",
        "2\n",
        "\n",
        "​\n",
        "  between them.\n",
        "\n",
        "You should implement the nearest neighbor heuristic:\n",
        "\n",
        "Start the tour at the first city.\n",
        "\n",
        "Repeatedly visit the closest city that the tour hasn't visited yet.  In case of a tie, go to the closest city with the lowest index.  For example, if both the third and fifth cities have the same distance from the first city (and are closer than any other city), then the tour should begin by going from the first city to the third city.\n",
        "\n",
        "Once every city has been visited exactly once, return to the first city to complete the tour.\n",
        "\n",
        "In the box below, enter the cost of the traveling salesman tour computed by the nearest neighbor heuristic for this instance, rounded down to the nearest integer.\n",
        "\n",
        "[Hint: when constructing the tour, you might find it simpler to work with squared Euclidean distances (i.e., the formula above but without the square root) than Euclidean distances.  But don't forget to report the length of the tour in terms of standard Euclidean distance.]"
      ],
      "metadata": {
        "id": "Pr_tpkUlYoux"
      }
    },
    {
      "cell_type": "code",
      "source": [
        "def testcase_tsp(url):\n",
        "    http = urllib3.PoolManager()\n",
        "    r1 = http.request('GET', url)\n",
        "    IntegerMatrixStringJoin = r1.data.decode('utf8').split('\\n')\n",
        "    IntegerMatrixStringJoin.remove('')\n",
        "    # first line is number of nodes\n",
        "    n = int(IntegerMatrixStringJoin[0])\n",
        "    IntegerMatrixStringJoin.remove(IntegerMatrixStringJoin[0])\n",
        "    coords_cities = {}\n",
        "    # This graph is really big as it has all the edges from one city to another\n",
        "    for i in IntegerMatrixStringJoin:\n",
        "        node_coord = i.split(' ')\n",
        "        city = int(node_coord[0])\n",
        "        x = float(node_coord[1])\n",
        "        y = float(node_coord[2])\n",
        "        coords_cities[city] = (x, y)\n",
        "\n",
        "    # From here on I will tack the TSP tour logic\n",
        "    not_visited = [_ for _ in range(1, n+1)]\n",
        "    x = 1\n",
        "    tsp_tour = 0\n",
        "    not_visited.remove(x)\n",
        "    while not_visited:\n",
        "        min_dist_left = float('inf')\n",
        "        min_dist_right = float('inf')\n",
        "        closest_neighbor_left = 1\n",
        "        closest_neighbor_right = n\n",
        "        # Search left neighbor for minimum distance\n",
        "        for neighbor in range(2, x):\n",
        "            if neighbor in not_visited:\n",
        "                euclidean_distance = ((coords_cities[x][0]-coords_cities[neighbor][0])**2 + \\\n",
        "                            (coords_cities[x][1]-coords_cities[neighbor][1])**2)**0.5\n",
        "                x_dist = abs(coords_cities[x][0]-coords_cities[neighbor][0])\n",
        "                if (euclidean_distance < min_dist_left) or (euclidean_distance==min_dist_left and neighbor < closest_neighbor_left):\n",
        "                    min_dist_left = euclidean_distance\n",
        "                    closest_neighbor_left = neighbor\n",
        "                # if x_dist exceeds the min_dist then no need to look at neighbors anymore\n",
        "                if x_dist > min_dist_left:\n",
        "                    break\n",
        "        # Search right neighbor for minimum distance\n",
        "        for neighbor in range(x+1, n+1):\n",
        "            if neighbor in not_visited:\n",
        "                euclidean_distance = ((coords_cities[x][0]-coords_cities[neighbor][0])**2 + \\\n",
        "                            (coords_cities[x][1]-coords_cities[neighbor][1])**2)**0.5\n",
        "                x_dist = abs(coords_cities[x][0]-coords_cities[neighbor][0])\n",
        "                if (euclidean_distance < min_dist_right) or (euclidean_distance==min_dist_right and neighbor < closest_neighbor_right):\n",
        "                    min_dist_right = euclidean_distance\n",
        "                    closest_neighbor_right = neighbor\n",
        "                # if x_dist exceeds the min_dist then no need to look at neighbors anymore\n",
        "                if x_dist > min_dist_right:\n",
        "                    break\n",
        "        # Get the minimum distance of the left and right neighbors\n",
        "        if(min_dist_left < min_dist_right):\n",
        "            closest_neighbor = closest_neighbor_left\n",
        "            tsp_tour += min_dist_left\n",
        "        else:\n",
        "            closest_neighbor = closest_neighbor_right\n",
        "            tsp_tour += min_dist_right\n",
        "\n",
        "        print(\"Current node = {}, tsp_tour value = {} for closest node {}\".format(x, tsp_tour, closest_neighbor))\n",
        "        x = closest_neighbor\n",
        "        not_visited.remove(closest_neighbor)\n",
        "\n",
        "    tsp_tour += ((coords_cities[x][0]-coords_cities[1][0])**2 + \\\n",
        "                (coords_cities[x][1]-coords_cities[1][1])**2)**0.5\n",
        "    print(tsp_tour)\n",
        "\n"
      ],
      "metadata": {
        "id": "wIczSjx5ydPl"
      },
      "execution_count": null,
      "outputs": []
    },
    {
      "cell_type": "markdown",
      "source": [],
      "metadata": {
        "id": "EUdgau6FZBr5"
      }
    },
    {
      "cell_type": "code",
      "source": [
        "testcase_tsp(\"https://d3c33hcgiwev3.cloudfront.net/_ae5a820392a02042f87e3b437876cf19_nn.txt?Expires=1716768000&Signature=JTPfpEbbZrINCcjcgeGCGiyiI50-56R2R~TJ79XJs93-tcPyxCNcfCqPmHVjVHmVekDEy7bpNnz6xdPAxdEZBEmoM3VqM~22h8NorHZmdLAUB0N7aI1zjLNLCQ24dDHlx1G2~AeUcRlfxZsDKF~0aS2C2w4R4VhoYPIpmAm1Cq8_&Key-Pair-Id=APKAJLTNE6QMUY6HBC5A\")\n"
      ],
      "metadata": {
        "id": "zPw1fVZzy5n3"
      },
      "execution_count": null,
      "outputs": []
    },
    {
      "cell_type": "markdown",
      "source": [
        "Answer is 1203406.501271 and I did not get there, even after running this brute force algorithm for more than 2 hours, need to find a better solution"
      ],
      "metadata": {
        "id": "abY65L07Miu3"
      }
    }
  ]
}