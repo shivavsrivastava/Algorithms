{
  "nbformat": 4,
  "nbformat_minor": 0,
  "metadata": {
    "colab": {
      "provenance": [],
      "authorship_tag": "ABX9TyN3eSJ/B3RumcLLhDRko2WO",
      "include_colab_link": true
    },
    "kernelspec": {
      "name": "python3",
      "display_name": "Python 3"
    },
    "language_info": {
      "name": "python"
    }
  },
  "cells": [
    {
      "cell_type": "markdown",
      "metadata": {
        "id": "view-in-github",
        "colab_type": "text"
      },
      "source": [
        "<a href=\"https://colab.research.google.com/github/shivavsrivastava/Algorithms/blob/main/Course3_W3_HuffmanCoding_DynamicProgramming.ipynb\" target=\"_parent\"><img src=\"https://colab.research.google.com/assets/colab-badge.svg\" alt=\"Open In Colab\"/></a>"
      ]
    },
    {
      "cell_type": "markdown",
      "source": [
        "# Huffman Coding and Dynamic Programming\n"
      ],
      "metadata": {
        "id": "8TRYJIbu5szO"
      }
    },
    {
      "cell_type": "code",
      "source": [
        "import numpy as np\n",
        "import random\n",
        "import urllib3\n",
        "import math\n",
        "from collections import defaultdict\n",
        "import time\n",
        "import heapq\n",
        "from heapq import heappush, heappop, heapify\n",
        "import pandas as pd\n",
        "import sys\n",
        "from itertools import count"
      ],
      "metadata": {
        "id": "P9NoK--bQ8MS"
      },
      "execution_count": null,
      "outputs": []
    },
    {
      "cell_type": "markdown",
      "source": [
        "## Programming Assignment: Part 1 & 2\n"
      ],
      "metadata": {
        "id": "f_1AoSn0FFho"
      }
    },
    {
      "cell_type": "markdown",
      "source": [
        "In this programming problem and the next you'll code up the greedy algorithm from the lectures on Huffman coding.\n",
        "\n",
        "Download the text file below. -- **huffman.txt**\n",
        "\n",
        "This file describes an instance of the problem. It has the following format:\n",
        "\n",
        "[number_of_symbols]\n",
        "\n",
        "[weight of symbol #1]\n",
        "\n",
        "[weight of symbol #2]\n",
        "\n",
        "...\n",
        "\n",
        "For example, the third line of the file is \"6852892,\" indicating that the weight of the second symbol of the alphabet is 6852892.  (We're using weights instead of frequencies, like in the \"A More Complex Example\" video.)\n",
        "\n",
        "Your task in this problem is to run the Huffman coding algorithm from lecture on this data set. What is the maximum length of a codeword in the resulting Huffman code?\n",
        "\n",
        "ADVICE: If you're not getting the correct answer, try debugging your algorithm using some small test cases. And then post them to the discussion forum!"
      ],
      "metadata": {
        "id": "0pMBaPAv-6l9"
      }
    },
    {
      "cell_type": "markdown",
      "source": [
        "## Huffman Coding\n",
        "There are mainly two major parts in Huffman Coding\n",
        "\n",
        "1.   Build a Huffman Tree from input characters.\n",
        "2.   Traverse the Huffman Tree and assign codes to characters."
      ],
      "metadata": {
        "id": "nu0DjB4Zc2C4"
      }
    },
    {
      "cell_type": "markdown",
      "source": [
        "#### Huffman Node"
      ],
      "metadata": {
        "id": "c5UajvNVsw95"
      }
    },
    {
      "cell_type": "code",
      "source": [
        "class HuffmanNode:\n",
        "  def __init__(self, symbol, freq):\n",
        "    self.symbol = symbol\n",
        "    self.freq = freq\n",
        "    self.left = None\n",
        "    self.right = None\n",
        "    self.huff = ''\n",
        "\n",
        "  def __lt__(self, other):\n",
        "    return self.freq < other.freq"
      ],
      "metadata": {
        "id": "VWktKuXNcRuF"
      },
      "execution_count": null,
      "outputs": []
    },
    {
      "cell_type": "markdown",
      "source": [
        "#### Print Nodes Utility"
      ],
      "metadata": {
        "id": "-rnmFdNFszjP"
      }
    },
    {
      "cell_type": "code",
      "source": [
        "def printNodes(node, val, outArr):\n",
        "\n",
        "  # current node huffman code\n",
        "  newVal = val + str(node.huff)\n",
        "\n",
        "  # Traverse\n",
        "  if node.left:\n",
        "    printNodes(node.left, newVal, outArr)\n",
        "  if node.right:\n",
        "    printNodes(node.right, newVal, outArr)\n",
        "\n",
        "  # If leaf node\n",
        "  if not node.left and not node.right:\n",
        "    print(f'{node.symbol} : {newVal}')\n",
        "    outArr.append(newVal)\n"
      ],
      "metadata": {
        "id": "gW8r6Jbqs29Z"
      },
      "execution_count": null,
      "outputs": []
    },
    {
      "cell_type": "markdown",
      "source": [
        "#### Huffman code function"
      ],
      "metadata": {
        "id": "e7LcHVrPthQB"
      }
    },
    {
      "cell_type": "code",
      "source": [
        "def huffmanCode(inputArray):\n",
        "  # Make a minHeap\n",
        "  nodes = []\n",
        "  for i in range(len(inputArray)):\n",
        "    heappush(nodes, HuffmanNode(str(i), inputArray[i]))\n",
        "\n",
        "  # Loop ends with a rootNode\n",
        "  while len(nodes)>1:\n",
        "    left = heappop(nodes)\n",
        "    right = heappop(nodes)\n",
        "    left.huff += '0'\n",
        "    right.huff += '1'\n",
        "    # combine the 2 smallest nodes and create a parent node\n",
        "    parent = HuffmanNode(left.symbol+right.symbol, left.freq + right.freq)\n",
        "    #print(\"Creating parent node with symbol {}, freq {}\".format(parent.symbol, parent.freq))\n",
        "    parent.left = left\n",
        "    parent.right = right\n",
        "    heappush(nodes, parent)\n",
        "\n",
        "  # Traverse the tree\n",
        "  minLen = float('inf')\n",
        "  maxLen = 0\n",
        "  outArr = []\n",
        "  printNodes(nodes[0], '', outArr)\n",
        "  for code in outArr:\n",
        "    if len(code) < minLen:\n",
        "      minLen = len(code)\n",
        "    if len(code) > maxLen:\n",
        "      maxLen = len(code)\n",
        "  print(f'Min Length: {minLen}')\n",
        "  print(f'Max Length: {maxLen}')\n",
        "\n"
      ],
      "metadata": {
        "id": "GkcCF-iotgVs"
      },
      "execution_count": null,
      "outputs": []
    },
    {
      "cell_type": "markdown",
      "source": [
        "### Small testcases"
      ],
      "metadata": {
        "id": "-3P9K9V8ghDW"
      }
    },
    {
      "cell_type": "code",
      "source": [
        "## Test 1\n",
        "test1 = [37, 59, 43, 27, 30, 96, 96, 71, 8, 76]\n",
        "huffmanCode(test1)"
      ],
      "metadata": {
        "id": "S_GNK52RgmK4"
      },
      "execution_count": null,
      "outputs": []
    },
    {
      "cell_type": "markdown",
      "source": [
        "#### Assignment Part 1"
      ],
      "metadata": {
        "id": "Pl1YI8TvlK6v"
      }
    },
    {
      "cell_type": "code",
      "source": [
        "df = pd.read_table('https://d3c33hcgiwev3.cloudfront.net/_eed1bd08e2fa58bbe94b24c06a20dcdb_huffman.txt?Expires=1714521600&Signature=ZFo9pSUcWJl0ztMkizRALWWpXFJkx18zzV1rnZNtf5gcjjMfteILHn-obabyr5~WYs0aoiSwDLUq-DZIknonRv7jws3zco-MpqN8HectGi5eNL2Q9cQtOK60WnPbtWH9SdVCpMK49VUqJF-LCe4WFOH9qGPkr-BcYIhs6kdbe7M_&Key-Pair-Id=APKAJLTNE6QMUY6HBC5A',header=None)"
      ],
      "metadata": {
        "id": "e3dc7iBh2K7D"
      },
      "execution_count": null,
      "outputs": []
    },
    {
      "cell_type": "code",
      "source": [
        "numNodes = df[0].iloc[0]\n",
        "print(numNodes)\n"
      ],
      "metadata": {
        "id": "TCC67Htd2eCn"
      },
      "execution_count": null,
      "outputs": []
    },
    {
      "cell_type": "code",
      "source": [
        "df = df.drop(df.index[0])\n",
        "df.head()"
      ],
      "metadata": {
        "id": "2yf_m6CE4EQD"
      },
      "execution_count": null,
      "outputs": []
    },
    {
      "cell_type": "code",
      "source": [
        "inputArray = df[0].to_list()\n",
        "inputArray[:5]"
      ],
      "metadata": {
        "id": "7CJar3_k51TM"
      },
      "execution_count": null,
      "outputs": []
    },
    {
      "cell_type": "markdown",
      "source": [
        "Answer:\n",
        "Min Length: 9\n",
        "Max Length: 19"
      ],
      "metadata": {
        "id": "9ST7YXtHtG5f"
      }
    },
    {
      "cell_type": "markdown",
      "source": [
        "#### This is a 2 queue implementation\n",
        "https://www.geeksforgeeks.org/efficient-huffman-coding-for-sorted-input-greedy-algo-4/\n",
        "\n"
      ],
      "metadata": {
        "id": "qkwhBfNITN4w"
      }
    },
    {
      "cell_type": "markdown",
      "source": [
        "## Programming Assignment: Part 3"
      ],
      "metadata": {
        "id": "Vdv5Kpjc0c5I"
      }
    },
    {
      "cell_type": "markdown",
      "source": [
        "In this programming problem you'll code up the dynamic programming algorithm for computing a maximum-weight independent set of a path graph.\n",
        "\n",
        "Download the text file below -- **mwis.txt**\n",
        "\n",
        "This file describes the weights of the vertices in a path graph (with the weights listed in the order in which vertices appear in the path). It has the following format:\n",
        "\n",
        "[number_of_vertices]\n",
        "\n",
        "[weight of first vertex]\n",
        "\n",
        "[weight of second vertex]\n",
        "\n",
        "...\n",
        "\n",
        "For example, the third line of the file is \"6395702,\" indicating that the weight of the second vertex of the graph is 6395702.\n",
        "\n",
        "Your task in this problem is to run the dynamic programming algorithm (and the reconstruction procedure) from lecture on this data set.  The question is: of the vertices 1, 2, 3, 4, 17, 117, 517, and 997, which ones belong to the maximum-weight independent set?  (By \"vertex 1\" we mean the first vertex of the graph---there is no vertex 0.)   In the box below, enter a 8-bit string, where the ith bit should be 1 if the ith of these 8 vertices is in the maximum-weight independent set, and 0 otherwise. For example, if you think that the vertices 1, 4, 17, and 517 are in the maximum-weight independent set and the other four vertices are not, then you should enter the string 10011010 in the box below."
      ],
      "metadata": {
        "id": "GaXIAs7HTgnw"
      }
    },
    {
      "cell_type": "code",
      "source": [
        "def maxWISRecursive(inputArray, A, index):\n",
        "  # Base case\n",
        "  if len(inputArray) == 0:\n",
        "    return A[0]\n",
        "  elif len(inputArray) == 1:\n",
        "    return A[1]\n",
        "\n",
        "  if A[index-1]:\n",
        "    aIndexExcluding = A[index-1]\n",
        "  else:\n",
        "    aIndexExcluding = maxWISRecursive(inputArray[:-1], A, index-1)\n",
        "\n",
        "  if A[index-2]:\n",
        "    aIndexIncluding = A[index-2]\n",
        "  else:\n",
        "    aIndexIncluding = maxWISRecursive(inputArray[:-2], A, index-2)\n",
        "\n",
        "  if aIndexExcluding > (aIndexIncluding + inputArray[-1]):\n",
        "    A[index] = aIndexExcluding\n",
        "  else:\n",
        "    A[index] = aIndexIncluding + inputArray[-1]\n",
        "  return A[index]\n"
      ],
      "metadata": {
        "id": "zJ2hzhpZcTk1"
      },
      "execution_count": null,
      "outputs": []
    },
    {
      "cell_type": "code",
      "source": [
        "def reconstruct(S, V, inA, A):\n",
        "  i = len(A) - 1\n",
        "  while i>= 2:\n",
        "    if A[i-1] >= A[i-2] + inA[i-1]:\n",
        "      if i== 2:\n",
        "        S.append(inA[0])\n",
        "        V.append(1)\n",
        "      i -= 1\n",
        "    else:\n",
        "      S.append(inA[i-1])\n",
        "      V.append(i)\n",
        "      if i == 3:\n",
        "        S.append(inA[0])\n",
        "        V.append(1)\n",
        "      i -= 2\n",
        "  return S, V"
      ],
      "metadata": {
        "id": "NMEg4_vDaEvO"
      },
      "execution_count": null,
      "outputs": []
    },
    {
      "cell_type": "code",
      "source": [
        "def maxWeigthIndependentSet(inputArray):\n",
        "  arrSize = len(inputArray)\n",
        "  # Create an array arrWIS\n",
        "  arrWIS = [0]*(arrSize+1)\n",
        "  arrWIS[0] = 0\n",
        "  arrWIS[1] = inputArray[0]\n",
        "\n",
        "  maxWISRecursive(inputArray, arrWIS, arrSize)\n",
        "\n",
        "  #print(\"Weights: {}\".format(arrWIS))\n",
        "  S = [] # Set\n",
        "  V = [] # vertices\n",
        "  reconstruct(S, V, inputArray, arrWIS)\n",
        "  #print(\" Max Weight Independent Set: {}\".format(S))\n",
        "  #print(\"Max Weight Vertices included: {}\".format(V))\n",
        "  return V"
      ],
      "metadata": {
        "id": "YNYxs5AxWNHy"
      },
      "execution_count": null,
      "outputs": []
    },
    {
      "cell_type": "code",
      "source": [
        "# Test 1\n",
        "inputArray = [8, 1, 1, 8, 1, 1, 8 ]\n",
        "maxWeigthIndependentSet(inputArray)"
      ],
      "metadata": {
        "id": "KBtWJarOgrRN"
      },
      "execution_count": null,
      "outputs": []
    },
    {
      "cell_type": "markdown",
      "source": [
        "#### Read the clustering_big.txt"
      ],
      "metadata": {
        "id": "cbEwHL40fv6g"
      }
    },
    {
      "cell_type": "code",
      "source": [
        "df = pd.read_table('https://d3c33hcgiwev3.cloudfront.net/_790eb8b186eefb5b63d0bf38b5096873_mwis.txt?Expires=1714608000&Signature=R3KHNGGTtPgreMm2jwbKGpuiUkroNrtdcgg~adBzpOjHYOvoGaO0c05Dt9vohKC2ki~LY5OWuFyd2JU6jQr4nTR09bdbetpWe2xPrUOTjbDZiwp8qFrBq3cxlEh8kr2mJyAFQCYfLzydDzO-oRs~qlvLkNibOX0Mymet~pLcu94_&Key-Pair-Id=APKAJLTNE6QMUY6HBC5A', header=None)\n",
        "df.head()"
      ],
      "metadata": {
        "id": "2G2TnZw-TOvG"
      },
      "execution_count": null,
      "outputs": []
    },
    {
      "cell_type": "code",
      "source": [
        "df = df.drop(index=0)\n",
        "df.head()"
      ],
      "metadata": {
        "id": "8ofPWOXeT02O"
      },
      "execution_count": null,
      "outputs": []
    },
    {
      "cell_type": "code",
      "source": [
        "# Now work on the df\n",
        "inArray = df[0].to_list()\n",
        "print(len(inArray))\n"
      ],
      "metadata": {
        "id": "xp9TARneUOBn"
      },
      "execution_count": null,
      "outputs": []
    },
    {
      "cell_type": "code",
      "source": [
        "print(inArray)"
      ],
      "metadata": {
        "id": "gQWTiy9ciaAl"
      },
      "execution_count": null,
      "outputs": []
    },
    {
      "cell_type": "code",
      "source": [
        "sys.setrecursionlimit(10000)"
      ],
      "metadata": {
        "id": "YlkaZpa-i08O"
      },
      "execution_count": null,
      "outputs": []
    },
    {
      "cell_type": "code",
      "source": [
        "vertices = maxWeigthIndependentSet(inArray)"
      ],
      "metadata": {
        "id": "KbBh2cNSbkRH"
      },
      "execution_count": null,
      "outputs": []
    },
    {
      "cell_type": "code",
      "source": [
        "result = \"\"\n",
        "for v in [1, 2, 3, 4, 17, 117, 517, 997]:\n",
        "  if v in vertices:\n",
        "    result += \"1\"\n",
        "  else:\n",
        "    result += \"0\"\n",
        "print(result)"
      ],
      "metadata": {
        "id": "22Evmkufjigm"
      },
      "execution_count": null,
      "outputs": []
    },
    {
      "cell_type": "markdown",
      "source": [
        "Answer : 10100110"
      ],
      "metadata": {
        "id": "XgQ3FH0Yj7Rq"
      }
    }
  ]
}