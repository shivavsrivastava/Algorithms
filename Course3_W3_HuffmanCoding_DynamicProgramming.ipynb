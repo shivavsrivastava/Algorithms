{
  "nbformat": 4,
  "nbformat_minor": 0,
  "metadata": {
    "colab": {
      "provenance": [],
      "authorship_tag": "ABX9TyNdJmkych8yDt1LzvSuCXNn",
      "include_colab_link": true
    },
    "kernelspec": {
      "name": "python3",
      "display_name": "Python 3"
    },
    "language_info": {
      "name": "python"
    }
  },
  "cells": [
    {
      "cell_type": "markdown",
      "metadata": {
        "id": "view-in-github",
        "colab_type": "text"
      },
      "source": [
        "<a href=\"https://colab.research.google.com/github/shivavsrivastava/Algorithms/blob/main/Course3_W3_HuffmanCoding_DynamicProgramming.ipynb\" target=\"_parent\"><img src=\"https://colab.research.google.com/assets/colab-badge.svg\" alt=\"Open In Colab\"/></a>"
      ]
    },
    {
      "cell_type": "markdown",
      "source": [
        "# Huffman Coding and Dynamic Programming\n"
      ],
      "metadata": {
        "id": "8TRYJIbu5szO"
      }
    },
    {
      "cell_type": "code",
      "source": [
        "import numpy as np\n",
        "import random\n",
        "import urllib3\n",
        "import math\n",
        "from collections import defaultdict\n",
        "import time\n",
        "import heapq\n",
        "from heapq import heappush, heappop, heapify\n",
        "import pandas as pd\n",
        "import sys\n",
        "from itertools import count"
      ],
      "metadata": {
        "id": "P9NoK--bQ8MS"
      },
      "execution_count": 1,
      "outputs": []
    },
    {
      "cell_type": "markdown",
      "source": [
        "## Programming Assignment: Part 1 & 2\n"
      ],
      "metadata": {
        "id": "f_1AoSn0FFho"
      }
    },
    {
      "cell_type": "markdown",
      "source": [
        "In this programming problem and the next you'll code up the greedy algorithm from the lectures on Huffman coding.\n",
        "\n",
        "Download the text file below. -- **huffman.txt**\n",
        "\n",
        "This file describes an instance of the problem. It has the following format:\n",
        "\n",
        "[number_of_symbols]\n",
        "\n",
        "[weight of symbol #1]\n",
        "\n",
        "[weight of symbol #2]\n",
        "\n",
        "...\n",
        "\n",
        "For example, the third line of the file is \"6852892,\" indicating that the weight of the second symbol of the alphabet is 6852892.  (We're using weights instead of frequencies, like in the \"A More Complex Example\" video.)\n",
        "\n",
        "Your task in this problem is to run the Huffman coding algorithm from lecture on this data set. What is the maximum length of a codeword in the resulting Huffman code?\n",
        "\n",
        "ADVICE: If you're not getting the correct answer, try debugging your algorithm using some small test cases. And then post them to the discussion forum!"
      ],
      "metadata": {
        "id": "0pMBaPAv-6l9"
      }
    },
    {
      "cell_type": "markdown",
      "source": [
        "## Huffman Coding\n",
        "There are mainly two major parts in Huffman Coding\n",
        "\n",
        "1.   Build a Huffman Tree from input characters.\n",
        "2.   Traverse the Huffman Tree and assign codes to characters."
      ],
      "metadata": {
        "id": "nu0DjB4Zc2C4"
      }
    },
    {
      "cell_type": "markdown",
      "source": [
        "#### Huffman Node"
      ],
      "metadata": {
        "id": "c5UajvNVsw95"
      }
    },
    {
      "cell_type": "code",
      "source": [
        "class HuffmanNode:\n",
        "  def __init__(self, symbol, freq):\n",
        "    self.symbol = symbol\n",
        "    self.freq = freq\n",
        "    self.left = None\n",
        "    self.right = None\n",
        "    self.huff = ''\n",
        "\n",
        "  def __lt__(self, other):\n",
        "    return self.freq < other.freq"
      ],
      "metadata": {
        "id": "VWktKuXNcRuF"
      },
      "execution_count": null,
      "outputs": []
    },
    {
      "cell_type": "markdown",
      "source": [
        "#### Print Nodes Utility"
      ],
      "metadata": {
        "id": "-rnmFdNFszjP"
      }
    },
    {
      "cell_type": "code",
      "source": [
        "def printNodes(node, val, outArr):\n",
        "\n",
        "  # current node huffman code\n",
        "  newVal = val + str(node.huff)\n",
        "\n",
        "  # Traverse\n",
        "  if node.left:\n",
        "    printNodes(node.left, newVal, outArr)\n",
        "  if node.right:\n",
        "    printNodes(node.right, newVal, outArr)\n",
        "\n",
        "  # If leaf node\n",
        "  if not node.left and not node.right:\n",
        "    print(f'{node.symbol} : {newVal}')\n",
        "    outArr.append(newVal)\n"
      ],
      "metadata": {
        "id": "gW8r6Jbqs29Z"
      },
      "execution_count": null,
      "outputs": []
    },
    {
      "cell_type": "markdown",
      "source": [
        "#### Huffman code function"
      ],
      "metadata": {
        "id": "e7LcHVrPthQB"
      }
    },
    {
      "cell_type": "code",
      "source": [
        "def huffmanCode(inputArray):\n",
        "  # Make a minHeap\n",
        "  nodes = []\n",
        "  for i in range(len(inputArray)):\n",
        "    heappush(nodes, HuffmanNode(str(i), inputArray[i]))\n",
        "\n",
        "  # Loop ends with a rootNode\n",
        "  while len(nodes)>1:\n",
        "    left = heappop(nodes)\n",
        "    right = heappop(nodes)\n",
        "    left.huff += '0'\n",
        "    right.huff += '1'\n",
        "    # combine the 2 smallest nodes and create a parent node\n",
        "    parent = HuffmanNode(left.symbol+right.symbol, left.freq + right.freq)\n",
        "    #print(\"Creating parent node with symbol {}, freq {}\".format(parent.symbol, parent.freq))\n",
        "    parent.left = left\n",
        "    parent.right = right\n",
        "    heappush(nodes, parent)\n",
        "\n",
        "  # Traverse the tree\n",
        "  minLen = float('inf')\n",
        "  maxLen = 0\n",
        "  outArr = []\n",
        "  printNodes(nodes[0], '', outArr)\n",
        "  for code in outArr:\n",
        "    if len(code) < minLen:\n",
        "      minLen = len(code)\n",
        "    if len(code) > maxLen:\n",
        "      maxLen = len(code)\n",
        "  print(f'Min Length: {minLen}')\n",
        "  print(f'Max Length: {maxLen}')\n",
        "\n"
      ],
      "metadata": {
        "id": "GkcCF-iotgVs"
      },
      "execution_count": null,
      "outputs": []
    },
    {
      "cell_type": "markdown",
      "source": [
        "### Small testcases"
      ],
      "metadata": {
        "id": "-3P9K9V8ghDW"
      }
    },
    {
      "cell_type": "code",
      "source": [
        "## Test 1\n",
        "test1 = [37, 59, 43, 27, 30, 96, 96, 71, 8, 76]\n",
        "huffmanCode(test1)"
      ],
      "metadata": {
        "id": "S_GNK52RgmK4"
      },
      "execution_count": null,
      "outputs": []
    },
    {
      "cell_type": "markdown",
      "source": [
        "#### Assignment Part 1"
      ],
      "metadata": {
        "id": "Pl1YI8TvlK6v"
      }
    },
    {
      "cell_type": "code",
      "source": [
        "df = pd.read_table('https://d3c33hcgiwev3.cloudfront.net/_eed1bd08e2fa58bbe94b24c06a20dcdb_huffman.txt?Expires=1714521600&Signature=ZFo9pSUcWJl0ztMkizRALWWpXFJkx18zzV1rnZNtf5gcjjMfteILHn-obabyr5~WYs0aoiSwDLUq-DZIknonRv7jws3zco-MpqN8HectGi5eNL2Q9cQtOK60WnPbtWH9SdVCpMK49VUqJF-LCe4WFOH9qGPkr-BcYIhs6kdbe7M_&Key-Pair-Id=APKAJLTNE6QMUY6HBC5A',header=None)"
      ],
      "metadata": {
        "id": "e3dc7iBh2K7D"
      },
      "execution_count": null,
      "outputs": []
    },
    {
      "cell_type": "code",
      "source": [
        "numNodes = df[0].iloc[0]\n",
        "print(numNodes)\n"
      ],
      "metadata": {
        "id": "TCC67Htd2eCn"
      },
      "execution_count": null,
      "outputs": []
    },
    {
      "cell_type": "code",
      "source": [
        "df = df.drop(df.index[0])\n",
        "df.head()"
      ],
      "metadata": {
        "id": "2yf_m6CE4EQD"
      },
      "execution_count": null,
      "outputs": []
    },
    {
      "cell_type": "code",
      "source": [
        "inputArray = df[0].to_list()\n",
        "inputArray[:5]"
      ],
      "metadata": {
        "id": "7CJar3_k51TM"
      },
      "execution_count": null,
      "outputs": []
    },
    {
      "cell_type": "markdown",
      "source": [
        "Answer:\n",
        "Min Length: 9\n",
        "Max Length: 19"
      ],
      "metadata": {
        "id": "9ST7YXtHtG5f"
      }
    },
    {
      "cell_type": "markdown",
      "source": [
        "#### This is a 2 queue implementation\n",
        "https://www.geeksforgeeks.org/efficient-huffman-coding-for-sorted-input-greedy-algo-4/\n",
        "\n"
      ],
      "metadata": {
        "id": "qkwhBfNITN4w"
      }
    },
    {
      "cell_type": "markdown",
      "source": [
        "## Programming Assignment: Part 3"
      ],
      "metadata": {
        "id": "Vdv5Kpjc0c5I"
      }
    },
    {
      "cell_type": "markdown",
      "source": [
        "In this programming problem you'll code up the dynamic programming algorithm for computing a maximum-weight independent set of a path graph.\n",
        "\n",
        "Download the text file below -- **mwis.txt**\n",
        "\n",
        "This file describes the weights of the vertices in a path graph (with the weights listed in the order in which vertices appear in the path). It has the following format:\n",
        "\n",
        "[number_of_vertices]\n",
        "\n",
        "[weight of first vertex]\n",
        "\n",
        "[weight of second vertex]\n",
        "\n",
        "...\n",
        "\n",
        "For example, the third line of the file is \"6395702,\" indicating that the weight of the second vertex of the graph is 6395702.\n",
        "\n",
        "Your task in this problem is to run the dynamic programming algorithm (and the reconstruction procedure) from lecture on this data set.  The question is: of the vertices 1, 2, 3, 4, 17, 117, 517, and 997, which ones belong to the maximum-weight independent set?  (By \"vertex 1\" we mean the first vertex of the graph---there is no vertex 0.)   In the box below, enter a 8-bit string, where the ith bit should be 1 if the ith of these 8 vertices is in the maximum-weight independent set, and 0 otherwise. For example, if you think that the vertices 1, 4, 17, and 517 are in the maximum-weight independent set and the other four vertices are not, then you should enter the string 10011010 in the box below."
      ],
      "metadata": {
        "id": "GaXIAs7HTgnw"
      }
    },
    {
      "cell_type": "code",
      "source": [
        "def maxWISRecursive(inputArray, A, index):\n",
        "  # Base case\n",
        "  if len(inputArray) == 0:\n",
        "    #print(\"Inside maxWISRecursive: Base case A[0] {} \".format(A[0]))\n",
        "    return A[0]\n",
        "  elif len(inputArray) == 1:\n",
        "    #print(\"Inside maxWISRecursive: Base case A[0] {} \".format(A[0]))\n",
        "    return A[1]\n",
        "\n",
        "  if A[index-1]:\n",
        "    aIndexExcluding = A[index-1]\n",
        "    #print(\"Inside maxWISRecursive: A[index-1] has value  aIndexExcluding {}, index = {} ----\".format(aIndexExcluding, index))\n",
        "  else:\n",
        "    #print(\"Inside maxWISRecursive: maxWISRecursive call made for aIndexExcluding: inputArr {}, A {}, index-1 {} ----\".format(inputArray[:-1], A, index-1))\n",
        "    aIndexExcluding = maxWISRecursive(inputArray[:-1], A, index-1)\n",
        "    #print(\"Inside maxWISRecursive: Returning from recursive call aIndexExcluding = {}\".format(aIndexExcluding))\n",
        "  if A[index-2]:\n",
        "    aIndexIncluding = A[index-2]\n",
        "    #print(\"Inside maxWISRecursive: A[index-2] has value  aIndexIncluding {}, index {} ++++\".format(aIndexIncluding, index))\n",
        "  else:\n",
        "    #print(\"Inside maxWISRecursive: maxWISRecursive call made for aIndexIncluding: inputArr {}, A {}, index-2 {} ++++\".format(inputArray[:-2], A, index-2))\n",
        "    aIndexIncluding = maxWISRecursive(inputArray[:-2], A, index-2)\n",
        "    #print(\"Inside maxWISRecursive: Returning from recursive call aIndexIncluding = {} ++++\".format(aIndexIncluding))\n",
        "\n",
        "  if aIndexExcluding > (aIndexIncluding + inputArray[-1]):\n",
        "    A[index] = aIndexExcluding\n",
        "    #print(\"Inside maxWISRecursive: A[index] = aIndexExcluding {}\".format(A[index]))\n",
        "  else:\n",
        "    A[index] = aIndexIncluding + inputArray[-1]\n",
        "    #print(\"Inside maxWISRecursive: A[index] = aIndexIncluding + inputArray[-1] {}\".format(A[index]))\n",
        "  return A[index]\n"
      ],
      "metadata": {
        "id": "zJ2hzhpZcTk1"
      },
      "execution_count": 17,
      "outputs": []
    },
    {
      "cell_type": "code",
      "source": [
        "def reconstruct(S, V, inA, A):\n",
        "  i = len(A) - 1\n",
        "  print(\"Inside reconstruct: i = {} =================>\".format(i))\n",
        "  while i>= 2:\n",
        "    if A[i-1] >= A[i-2] + inA[i-1]:\n",
        "      #print(\"Inside A[i-1] >= A[i-2] + inA[i-1]:::: i {}, inA {}, A {}\".format(i, inA, A))\n",
        "      if i== 2:\n",
        "        S.append(inA[0])\n",
        "        V.append(1)\n",
        "        #print(\"Inside A[i-1] >= A[i-2] + inA[i-1]:::: Special case i==2, inA {}, A {}, S {}, V {}\".format(inA, A, S, V))\n",
        "      i -= 1\n",
        "    else:\n",
        "      #print(\"Inside A[i-1] < A[i-2] + inA[i-1]:::: i {}, inA {}, A {}\".format(i, inA, A))\n",
        "      S.append(inA[i-1])\n",
        "      V.append(i)\n",
        "      #print(\"Inside A[i-1] < A[i-2] + inA[i-1]:::: i {}, inA {}, A {}, S {}, V {}\".format(i, inA, A, S, V))\n",
        "      if i == 3:\n",
        "        S.append(inA[0])\n",
        "        V.append(1)\n",
        "        #print(\"Inside A[i-1] < A[i-2] + inA[i-1]:::: Special case i==3, inA {}, A {}, S {}, V {}\".format(inA, A, S, V))\n",
        "      i -= 2\n",
        "  return S, V"
      ],
      "metadata": {
        "id": "NMEg4_vDaEvO"
      },
      "execution_count": 18,
      "outputs": []
    },
    {
      "cell_type": "code",
      "source": [
        "def maxWeigthIndependentSet(inputArray):\n",
        "  arrSize = len(inputArray)\n",
        "  # Create an array arrWIS\n",
        "  arrWIS = [0]*(arrSize+1)\n",
        "  arrWIS[0] = 0\n",
        "  arrWIS[1] = inputArray[0]\n",
        "\n",
        "  maxWISRecursive(inputArray, arrWIS, arrSize)\n",
        "\n",
        "  print(\"Weights: {}\".format(arrWIS))\n",
        "  S = [] # Set\n",
        "  V = [] # vertices\n",
        "  reconstruct(S, V, inputArray, arrWIS)\n",
        "  print(\" Max Weight Independent Set: {}\".format(S))\n",
        "  print(\"Max Weight Vertices included: {}\".format(V))\n",
        "  return V"
      ],
      "metadata": {
        "id": "YNYxs5AxWNHy"
      },
      "execution_count": 19,
      "outputs": []
    },
    {
      "cell_type": "code",
      "source": [
        "# Test 1\n",
        "inputArray = [8, 1, 1, 8, 1, 1, 8 ]\n",
        "maxWeigthIndependentSet(inputArray)"
      ],
      "metadata": {
        "id": "KBtWJarOgrRN",
        "colab": {
          "base_uri": "https://localhost:8080/"
        },
        "outputId": "cfefb0cc-1793-44f2-d61d-8c1ea65fa5d6"
      },
      "execution_count": 20,
      "outputs": [
        {
          "output_type": "stream",
          "name": "stdout",
          "text": [
            "Weights: [0, 8, 8, 9, 16, 16, 17, 24]\n",
            "Inside reconstruct: i = 7 =================>\n",
            " Max Weight Independent Set: [8, 8, 8]\n",
            "Max Weight Vertices included: [7, 4, 1]\n"
          ]
        },
        {
          "output_type": "execute_result",
          "data": {
            "text/plain": [
              "[7, 4, 1]"
            ]
          },
          "metadata": {},
          "execution_count": 20
        }
      ]
    },
    {
      "cell_type": "markdown",
      "source": [
        "#### Read the clustering_big.txt"
      ],
      "metadata": {
        "id": "cbEwHL40fv6g"
      }
    },
    {
      "cell_type": "code",
      "source": [
        "df = pd.read_table('https://d3c33hcgiwev3.cloudfront.net/_790eb8b186eefb5b63d0bf38b5096873_mwis.txt?Expires=1714608000&Signature=R3KHNGGTtPgreMm2jwbKGpuiUkroNrtdcgg~adBzpOjHYOvoGaO0c05Dt9vohKC2ki~LY5OWuFyd2JU6jQr4nTR09bdbetpWe2xPrUOTjbDZiwp8qFrBq3cxlEh8kr2mJyAFQCYfLzydDzO-oRs~qlvLkNibOX0Mymet~pLcu94_&Key-Pair-Id=APKAJLTNE6QMUY6HBC5A', header=None)\n",
        "df.head()"
      ],
      "metadata": {
        "id": "2G2TnZw-TOvG",
        "colab": {
          "base_uri": "https://localhost:8080/",
          "height": 206
        },
        "outputId": "83c2fec0-db6e-47ad-830f-fa7809770f2e"
      },
      "execution_count": 21,
      "outputs": [
        {
          "output_type": "execute_result",
          "data": {
            "text/plain": [
              "         0\n",
              "0     1000\n",
              "1  4962786\n",
              "2  6395702\n",
              "3  5601590\n",
              "4  3803402"
            ],
            "text/html": [
              "\n",
              "  <div id=\"df-cda5fcd5-18d3-432f-9a12-4fbb4db7ec23\" class=\"colab-df-container\">\n",
              "    <div>\n",
              "<style scoped>\n",
              "    .dataframe tbody tr th:only-of-type {\n",
              "        vertical-align: middle;\n",
              "    }\n",
              "\n",
              "    .dataframe tbody tr th {\n",
              "        vertical-align: top;\n",
              "    }\n",
              "\n",
              "    .dataframe thead th {\n",
              "        text-align: right;\n",
              "    }\n",
              "</style>\n",
              "<table border=\"1\" class=\"dataframe\">\n",
              "  <thead>\n",
              "    <tr style=\"text-align: right;\">\n",
              "      <th></th>\n",
              "      <th>0</th>\n",
              "    </tr>\n",
              "  </thead>\n",
              "  <tbody>\n",
              "    <tr>\n",
              "      <th>0</th>\n",
              "      <td>1000</td>\n",
              "    </tr>\n",
              "    <tr>\n",
              "      <th>1</th>\n",
              "      <td>4962786</td>\n",
              "    </tr>\n",
              "    <tr>\n",
              "      <th>2</th>\n",
              "      <td>6395702</td>\n",
              "    </tr>\n",
              "    <tr>\n",
              "      <th>3</th>\n",
              "      <td>5601590</td>\n",
              "    </tr>\n",
              "    <tr>\n",
              "      <th>4</th>\n",
              "      <td>3803402</td>\n",
              "    </tr>\n",
              "  </tbody>\n",
              "</table>\n",
              "</div>\n",
              "    <div class=\"colab-df-buttons\">\n",
              "\n",
              "  <div class=\"colab-df-container\">\n",
              "    <button class=\"colab-df-convert\" onclick=\"convertToInteractive('df-cda5fcd5-18d3-432f-9a12-4fbb4db7ec23')\"\n",
              "            title=\"Convert this dataframe to an interactive table.\"\n",
              "            style=\"display:none;\">\n",
              "\n",
              "  <svg xmlns=\"http://www.w3.org/2000/svg\" height=\"24px\" viewBox=\"0 -960 960 960\">\n",
              "    <path d=\"M120-120v-720h720v720H120Zm60-500h600v-160H180v160Zm220 220h160v-160H400v160Zm0 220h160v-160H400v160ZM180-400h160v-160H180v160Zm440 0h160v-160H620v160ZM180-180h160v-160H180v160Zm440 0h160v-160H620v160Z\"/>\n",
              "  </svg>\n",
              "    </button>\n",
              "\n",
              "  <style>\n",
              "    .colab-df-container {\n",
              "      display:flex;\n",
              "      gap: 12px;\n",
              "    }\n",
              "\n",
              "    .colab-df-convert {\n",
              "      background-color: #E8F0FE;\n",
              "      border: none;\n",
              "      border-radius: 50%;\n",
              "      cursor: pointer;\n",
              "      display: none;\n",
              "      fill: #1967D2;\n",
              "      height: 32px;\n",
              "      padding: 0 0 0 0;\n",
              "      width: 32px;\n",
              "    }\n",
              "\n",
              "    .colab-df-convert:hover {\n",
              "      background-color: #E2EBFA;\n",
              "      box-shadow: 0px 1px 2px rgba(60, 64, 67, 0.3), 0px 1px 3px 1px rgba(60, 64, 67, 0.15);\n",
              "      fill: #174EA6;\n",
              "    }\n",
              "\n",
              "    .colab-df-buttons div {\n",
              "      margin-bottom: 4px;\n",
              "    }\n",
              "\n",
              "    [theme=dark] .colab-df-convert {\n",
              "      background-color: #3B4455;\n",
              "      fill: #D2E3FC;\n",
              "    }\n",
              "\n",
              "    [theme=dark] .colab-df-convert:hover {\n",
              "      background-color: #434B5C;\n",
              "      box-shadow: 0px 1px 3px 1px rgba(0, 0, 0, 0.15);\n",
              "      filter: drop-shadow(0px 1px 2px rgba(0, 0, 0, 0.3));\n",
              "      fill: #FFFFFF;\n",
              "    }\n",
              "  </style>\n",
              "\n",
              "    <script>\n",
              "      const buttonEl =\n",
              "        document.querySelector('#df-cda5fcd5-18d3-432f-9a12-4fbb4db7ec23 button.colab-df-convert');\n",
              "      buttonEl.style.display =\n",
              "        google.colab.kernel.accessAllowed ? 'block' : 'none';\n",
              "\n",
              "      async function convertToInteractive(key) {\n",
              "        const element = document.querySelector('#df-cda5fcd5-18d3-432f-9a12-4fbb4db7ec23');\n",
              "        const dataTable =\n",
              "          await google.colab.kernel.invokeFunction('convertToInteractive',\n",
              "                                                    [key], {});\n",
              "        if (!dataTable) return;\n",
              "\n",
              "        const docLinkHtml = 'Like what you see? Visit the ' +\n",
              "          '<a target=\"_blank\" href=https://colab.research.google.com/notebooks/data_table.ipynb>data table notebook</a>'\n",
              "          + ' to learn more about interactive tables.';\n",
              "        element.innerHTML = '';\n",
              "        dataTable['output_type'] = 'display_data';\n",
              "        await google.colab.output.renderOutput(dataTable, element);\n",
              "        const docLink = document.createElement('div');\n",
              "        docLink.innerHTML = docLinkHtml;\n",
              "        element.appendChild(docLink);\n",
              "      }\n",
              "    </script>\n",
              "  </div>\n",
              "\n",
              "\n",
              "<div id=\"df-f10b8d3c-afab-4e3d-aaa1-fd45d8016f66\">\n",
              "  <button class=\"colab-df-quickchart\" onclick=\"quickchart('df-f10b8d3c-afab-4e3d-aaa1-fd45d8016f66')\"\n",
              "            title=\"Suggest charts\"\n",
              "            style=\"display:none;\">\n",
              "\n",
              "<svg xmlns=\"http://www.w3.org/2000/svg\" height=\"24px\"viewBox=\"0 0 24 24\"\n",
              "     width=\"24px\">\n",
              "    <g>\n",
              "        <path d=\"M19 3H5c-1.1 0-2 .9-2 2v14c0 1.1.9 2 2 2h14c1.1 0 2-.9 2-2V5c0-1.1-.9-2-2-2zM9 17H7v-7h2v7zm4 0h-2V7h2v10zm4 0h-2v-4h2v4z\"/>\n",
              "    </g>\n",
              "</svg>\n",
              "  </button>\n",
              "\n",
              "<style>\n",
              "  .colab-df-quickchart {\n",
              "      --bg-color: #E8F0FE;\n",
              "      --fill-color: #1967D2;\n",
              "      --hover-bg-color: #E2EBFA;\n",
              "      --hover-fill-color: #174EA6;\n",
              "      --disabled-fill-color: #AAA;\n",
              "      --disabled-bg-color: #DDD;\n",
              "  }\n",
              "\n",
              "  [theme=dark] .colab-df-quickchart {\n",
              "      --bg-color: #3B4455;\n",
              "      --fill-color: #D2E3FC;\n",
              "      --hover-bg-color: #434B5C;\n",
              "      --hover-fill-color: #FFFFFF;\n",
              "      --disabled-bg-color: #3B4455;\n",
              "      --disabled-fill-color: #666;\n",
              "  }\n",
              "\n",
              "  .colab-df-quickchart {\n",
              "    background-color: var(--bg-color);\n",
              "    border: none;\n",
              "    border-radius: 50%;\n",
              "    cursor: pointer;\n",
              "    display: none;\n",
              "    fill: var(--fill-color);\n",
              "    height: 32px;\n",
              "    padding: 0;\n",
              "    width: 32px;\n",
              "  }\n",
              "\n",
              "  .colab-df-quickchart:hover {\n",
              "    background-color: var(--hover-bg-color);\n",
              "    box-shadow: 0 1px 2px rgba(60, 64, 67, 0.3), 0 1px 3px 1px rgba(60, 64, 67, 0.15);\n",
              "    fill: var(--button-hover-fill-color);\n",
              "  }\n",
              "\n",
              "  .colab-df-quickchart-complete:disabled,\n",
              "  .colab-df-quickchart-complete:disabled:hover {\n",
              "    background-color: var(--disabled-bg-color);\n",
              "    fill: var(--disabled-fill-color);\n",
              "    box-shadow: none;\n",
              "  }\n",
              "\n",
              "  .colab-df-spinner {\n",
              "    border: 2px solid var(--fill-color);\n",
              "    border-color: transparent;\n",
              "    border-bottom-color: var(--fill-color);\n",
              "    animation:\n",
              "      spin 1s steps(1) infinite;\n",
              "  }\n",
              "\n",
              "  @keyframes spin {\n",
              "    0% {\n",
              "      border-color: transparent;\n",
              "      border-bottom-color: var(--fill-color);\n",
              "      border-left-color: var(--fill-color);\n",
              "    }\n",
              "    20% {\n",
              "      border-color: transparent;\n",
              "      border-left-color: var(--fill-color);\n",
              "      border-top-color: var(--fill-color);\n",
              "    }\n",
              "    30% {\n",
              "      border-color: transparent;\n",
              "      border-left-color: var(--fill-color);\n",
              "      border-top-color: var(--fill-color);\n",
              "      border-right-color: var(--fill-color);\n",
              "    }\n",
              "    40% {\n",
              "      border-color: transparent;\n",
              "      border-right-color: var(--fill-color);\n",
              "      border-top-color: var(--fill-color);\n",
              "    }\n",
              "    60% {\n",
              "      border-color: transparent;\n",
              "      border-right-color: var(--fill-color);\n",
              "    }\n",
              "    80% {\n",
              "      border-color: transparent;\n",
              "      border-right-color: var(--fill-color);\n",
              "      border-bottom-color: var(--fill-color);\n",
              "    }\n",
              "    90% {\n",
              "      border-color: transparent;\n",
              "      border-bottom-color: var(--fill-color);\n",
              "    }\n",
              "  }\n",
              "</style>\n",
              "\n",
              "  <script>\n",
              "    async function quickchart(key) {\n",
              "      const quickchartButtonEl =\n",
              "        document.querySelector('#' + key + ' button');\n",
              "      quickchartButtonEl.disabled = true;  // To prevent multiple clicks.\n",
              "      quickchartButtonEl.classList.add('colab-df-spinner');\n",
              "      try {\n",
              "        const charts = await google.colab.kernel.invokeFunction(\n",
              "            'suggestCharts', [key], {});\n",
              "      } catch (error) {\n",
              "        console.error('Error during call to suggestCharts:', error);\n",
              "      }\n",
              "      quickchartButtonEl.classList.remove('colab-df-spinner');\n",
              "      quickchartButtonEl.classList.add('colab-df-quickchart-complete');\n",
              "    }\n",
              "    (() => {\n",
              "      let quickchartButtonEl =\n",
              "        document.querySelector('#df-f10b8d3c-afab-4e3d-aaa1-fd45d8016f66 button');\n",
              "      quickchartButtonEl.style.display =\n",
              "        google.colab.kernel.accessAllowed ? 'block' : 'none';\n",
              "    })();\n",
              "  </script>\n",
              "</div>\n",
              "\n",
              "    </div>\n",
              "  </div>\n"
            ],
            "application/vnd.google.colaboratory.intrinsic+json": {
              "type": "dataframe",
              "variable_name": "df",
              "summary": "{\n  \"name\": \"df\",\n  \"rows\": 1001,\n  \"fields\": [\n    {\n      \"column\": 0,\n      \"properties\": {\n        \"dtype\": \"number\",\n        \"std\": 2911259,\n        \"min\": 1000,\n        \"max\": 9990728,\n        \"num_unique_values\": 1001,\n        \"samples\": [\n          7543317,\n          5279763,\n          8580377\n        ],\n        \"semantic_type\": \"\",\n        \"description\": \"\"\n      }\n    }\n  ]\n}"
            }
          },
          "metadata": {},
          "execution_count": 21
        }
      ]
    },
    {
      "cell_type": "code",
      "source": [
        "df = df.drop(index=0)\n",
        "df.head()"
      ],
      "metadata": {
        "id": "8ofPWOXeT02O",
        "colab": {
          "base_uri": "https://localhost:8080/",
          "height": 206
        },
        "outputId": "bd797990-da61-433d-e952-0cdd6acc8f0f"
      },
      "execution_count": 22,
      "outputs": [
        {
          "output_type": "execute_result",
          "data": {
            "text/plain": [
              "         0\n",
              "1  4962786\n",
              "2  6395702\n",
              "3  5601590\n",
              "4  3803402\n",
              "5  6784626"
            ],
            "text/html": [
              "\n",
              "  <div id=\"df-790f639f-4425-40e3-a53e-9bcaf57a9fce\" class=\"colab-df-container\">\n",
              "    <div>\n",
              "<style scoped>\n",
              "    .dataframe tbody tr th:only-of-type {\n",
              "        vertical-align: middle;\n",
              "    }\n",
              "\n",
              "    .dataframe tbody tr th {\n",
              "        vertical-align: top;\n",
              "    }\n",
              "\n",
              "    .dataframe thead th {\n",
              "        text-align: right;\n",
              "    }\n",
              "</style>\n",
              "<table border=\"1\" class=\"dataframe\">\n",
              "  <thead>\n",
              "    <tr style=\"text-align: right;\">\n",
              "      <th></th>\n",
              "      <th>0</th>\n",
              "    </tr>\n",
              "  </thead>\n",
              "  <tbody>\n",
              "    <tr>\n",
              "      <th>1</th>\n",
              "      <td>4962786</td>\n",
              "    </tr>\n",
              "    <tr>\n",
              "      <th>2</th>\n",
              "      <td>6395702</td>\n",
              "    </tr>\n",
              "    <tr>\n",
              "      <th>3</th>\n",
              "      <td>5601590</td>\n",
              "    </tr>\n",
              "    <tr>\n",
              "      <th>4</th>\n",
              "      <td>3803402</td>\n",
              "    </tr>\n",
              "    <tr>\n",
              "      <th>5</th>\n",
              "      <td>6784626</td>\n",
              "    </tr>\n",
              "  </tbody>\n",
              "</table>\n",
              "</div>\n",
              "    <div class=\"colab-df-buttons\">\n",
              "\n",
              "  <div class=\"colab-df-container\">\n",
              "    <button class=\"colab-df-convert\" onclick=\"convertToInteractive('df-790f639f-4425-40e3-a53e-9bcaf57a9fce')\"\n",
              "            title=\"Convert this dataframe to an interactive table.\"\n",
              "            style=\"display:none;\">\n",
              "\n",
              "  <svg xmlns=\"http://www.w3.org/2000/svg\" height=\"24px\" viewBox=\"0 -960 960 960\">\n",
              "    <path d=\"M120-120v-720h720v720H120Zm60-500h600v-160H180v160Zm220 220h160v-160H400v160Zm0 220h160v-160H400v160ZM180-400h160v-160H180v160Zm440 0h160v-160H620v160ZM180-180h160v-160H180v160Zm440 0h160v-160H620v160Z\"/>\n",
              "  </svg>\n",
              "    </button>\n",
              "\n",
              "  <style>\n",
              "    .colab-df-container {\n",
              "      display:flex;\n",
              "      gap: 12px;\n",
              "    }\n",
              "\n",
              "    .colab-df-convert {\n",
              "      background-color: #E8F0FE;\n",
              "      border: none;\n",
              "      border-radius: 50%;\n",
              "      cursor: pointer;\n",
              "      display: none;\n",
              "      fill: #1967D2;\n",
              "      height: 32px;\n",
              "      padding: 0 0 0 0;\n",
              "      width: 32px;\n",
              "    }\n",
              "\n",
              "    .colab-df-convert:hover {\n",
              "      background-color: #E2EBFA;\n",
              "      box-shadow: 0px 1px 2px rgba(60, 64, 67, 0.3), 0px 1px 3px 1px rgba(60, 64, 67, 0.15);\n",
              "      fill: #174EA6;\n",
              "    }\n",
              "\n",
              "    .colab-df-buttons div {\n",
              "      margin-bottom: 4px;\n",
              "    }\n",
              "\n",
              "    [theme=dark] .colab-df-convert {\n",
              "      background-color: #3B4455;\n",
              "      fill: #D2E3FC;\n",
              "    }\n",
              "\n",
              "    [theme=dark] .colab-df-convert:hover {\n",
              "      background-color: #434B5C;\n",
              "      box-shadow: 0px 1px 3px 1px rgba(0, 0, 0, 0.15);\n",
              "      filter: drop-shadow(0px 1px 2px rgba(0, 0, 0, 0.3));\n",
              "      fill: #FFFFFF;\n",
              "    }\n",
              "  </style>\n",
              "\n",
              "    <script>\n",
              "      const buttonEl =\n",
              "        document.querySelector('#df-790f639f-4425-40e3-a53e-9bcaf57a9fce button.colab-df-convert');\n",
              "      buttonEl.style.display =\n",
              "        google.colab.kernel.accessAllowed ? 'block' : 'none';\n",
              "\n",
              "      async function convertToInteractive(key) {\n",
              "        const element = document.querySelector('#df-790f639f-4425-40e3-a53e-9bcaf57a9fce');\n",
              "        const dataTable =\n",
              "          await google.colab.kernel.invokeFunction('convertToInteractive',\n",
              "                                                    [key], {});\n",
              "        if (!dataTable) return;\n",
              "\n",
              "        const docLinkHtml = 'Like what you see? Visit the ' +\n",
              "          '<a target=\"_blank\" href=https://colab.research.google.com/notebooks/data_table.ipynb>data table notebook</a>'\n",
              "          + ' to learn more about interactive tables.';\n",
              "        element.innerHTML = '';\n",
              "        dataTable['output_type'] = 'display_data';\n",
              "        await google.colab.output.renderOutput(dataTable, element);\n",
              "        const docLink = document.createElement('div');\n",
              "        docLink.innerHTML = docLinkHtml;\n",
              "        element.appendChild(docLink);\n",
              "      }\n",
              "    </script>\n",
              "  </div>\n",
              "\n",
              "\n",
              "<div id=\"df-b811ed36-676c-4c5f-89d1-d0930223402d\">\n",
              "  <button class=\"colab-df-quickchart\" onclick=\"quickchart('df-b811ed36-676c-4c5f-89d1-d0930223402d')\"\n",
              "            title=\"Suggest charts\"\n",
              "            style=\"display:none;\">\n",
              "\n",
              "<svg xmlns=\"http://www.w3.org/2000/svg\" height=\"24px\"viewBox=\"0 0 24 24\"\n",
              "     width=\"24px\">\n",
              "    <g>\n",
              "        <path d=\"M19 3H5c-1.1 0-2 .9-2 2v14c0 1.1.9 2 2 2h14c1.1 0 2-.9 2-2V5c0-1.1-.9-2-2-2zM9 17H7v-7h2v7zm4 0h-2V7h2v10zm4 0h-2v-4h2v4z\"/>\n",
              "    </g>\n",
              "</svg>\n",
              "  </button>\n",
              "\n",
              "<style>\n",
              "  .colab-df-quickchart {\n",
              "      --bg-color: #E8F0FE;\n",
              "      --fill-color: #1967D2;\n",
              "      --hover-bg-color: #E2EBFA;\n",
              "      --hover-fill-color: #174EA6;\n",
              "      --disabled-fill-color: #AAA;\n",
              "      --disabled-bg-color: #DDD;\n",
              "  }\n",
              "\n",
              "  [theme=dark] .colab-df-quickchart {\n",
              "      --bg-color: #3B4455;\n",
              "      --fill-color: #D2E3FC;\n",
              "      --hover-bg-color: #434B5C;\n",
              "      --hover-fill-color: #FFFFFF;\n",
              "      --disabled-bg-color: #3B4455;\n",
              "      --disabled-fill-color: #666;\n",
              "  }\n",
              "\n",
              "  .colab-df-quickchart {\n",
              "    background-color: var(--bg-color);\n",
              "    border: none;\n",
              "    border-radius: 50%;\n",
              "    cursor: pointer;\n",
              "    display: none;\n",
              "    fill: var(--fill-color);\n",
              "    height: 32px;\n",
              "    padding: 0;\n",
              "    width: 32px;\n",
              "  }\n",
              "\n",
              "  .colab-df-quickchart:hover {\n",
              "    background-color: var(--hover-bg-color);\n",
              "    box-shadow: 0 1px 2px rgba(60, 64, 67, 0.3), 0 1px 3px 1px rgba(60, 64, 67, 0.15);\n",
              "    fill: var(--button-hover-fill-color);\n",
              "  }\n",
              "\n",
              "  .colab-df-quickchart-complete:disabled,\n",
              "  .colab-df-quickchart-complete:disabled:hover {\n",
              "    background-color: var(--disabled-bg-color);\n",
              "    fill: var(--disabled-fill-color);\n",
              "    box-shadow: none;\n",
              "  }\n",
              "\n",
              "  .colab-df-spinner {\n",
              "    border: 2px solid var(--fill-color);\n",
              "    border-color: transparent;\n",
              "    border-bottom-color: var(--fill-color);\n",
              "    animation:\n",
              "      spin 1s steps(1) infinite;\n",
              "  }\n",
              "\n",
              "  @keyframes spin {\n",
              "    0% {\n",
              "      border-color: transparent;\n",
              "      border-bottom-color: var(--fill-color);\n",
              "      border-left-color: var(--fill-color);\n",
              "    }\n",
              "    20% {\n",
              "      border-color: transparent;\n",
              "      border-left-color: var(--fill-color);\n",
              "      border-top-color: var(--fill-color);\n",
              "    }\n",
              "    30% {\n",
              "      border-color: transparent;\n",
              "      border-left-color: var(--fill-color);\n",
              "      border-top-color: var(--fill-color);\n",
              "      border-right-color: var(--fill-color);\n",
              "    }\n",
              "    40% {\n",
              "      border-color: transparent;\n",
              "      border-right-color: var(--fill-color);\n",
              "      border-top-color: var(--fill-color);\n",
              "    }\n",
              "    60% {\n",
              "      border-color: transparent;\n",
              "      border-right-color: var(--fill-color);\n",
              "    }\n",
              "    80% {\n",
              "      border-color: transparent;\n",
              "      border-right-color: var(--fill-color);\n",
              "      border-bottom-color: var(--fill-color);\n",
              "    }\n",
              "    90% {\n",
              "      border-color: transparent;\n",
              "      border-bottom-color: var(--fill-color);\n",
              "    }\n",
              "  }\n",
              "</style>\n",
              "\n",
              "  <script>\n",
              "    async function quickchart(key) {\n",
              "      const quickchartButtonEl =\n",
              "        document.querySelector('#' + key + ' button');\n",
              "      quickchartButtonEl.disabled = true;  // To prevent multiple clicks.\n",
              "      quickchartButtonEl.classList.add('colab-df-spinner');\n",
              "      try {\n",
              "        const charts = await google.colab.kernel.invokeFunction(\n",
              "            'suggestCharts', [key], {});\n",
              "      } catch (error) {\n",
              "        console.error('Error during call to suggestCharts:', error);\n",
              "      }\n",
              "      quickchartButtonEl.classList.remove('colab-df-spinner');\n",
              "      quickchartButtonEl.classList.add('colab-df-quickchart-complete');\n",
              "    }\n",
              "    (() => {\n",
              "      let quickchartButtonEl =\n",
              "        document.querySelector('#df-b811ed36-676c-4c5f-89d1-d0930223402d button');\n",
              "      quickchartButtonEl.style.display =\n",
              "        google.colab.kernel.accessAllowed ? 'block' : 'none';\n",
              "    })();\n",
              "  </script>\n",
              "</div>\n",
              "\n",
              "    </div>\n",
              "  </div>\n"
            ],
            "application/vnd.google.colaboratory.intrinsic+json": {
              "type": "dataframe",
              "variable_name": "df",
              "summary": "{\n  \"name\": \"df\",\n  \"rows\": 1000,\n  \"fields\": [\n    {\n      \"column\": 0,\n      \"properties\": {\n        \"dtype\": \"number\",\n        \"std\": 2908440,\n        \"min\": 25181,\n        \"max\": 9990728,\n        \"num_unique_values\": 1000,\n        \"samples\": [\n          972976,\n          1665201,\n          8580377\n        ],\n        \"semantic_type\": \"\",\n        \"description\": \"\"\n      }\n    }\n  ]\n}"
            }
          },
          "metadata": {},
          "execution_count": 22
        }
      ]
    },
    {
      "cell_type": "code",
      "source": [
        "# Now work on the df\n",
        "inArray = df[0].to_list()\n",
        "print(len(inArray))\n"
      ],
      "metadata": {
        "id": "xp9TARneUOBn",
        "colab": {
          "base_uri": "https://localhost:8080/"
        },
        "outputId": "e2abe5d2-6a7f-4c22-c7a3-5e27922910c8"
      },
      "execution_count": 23,
      "outputs": [
        {
          "output_type": "stream",
          "name": "stdout",
          "text": [
            "1000\n"
          ]
        }
      ]
    },
    {
      "cell_type": "code",
      "source": [
        "print(inArray)"
      ],
      "metadata": {
        "id": "gQWTiy9ciaAl",
        "colab": {
          "base_uri": "https://localhost:8080/"
        },
        "outputId": "641742ae-3992-4ee1-e103-d87e6b7e5de2"
      },
      "execution_count": 24,
      "outputs": [
        {
          "output_type": "stream",
          "name": "stdout",
          "text": [
            "[4962786, 6395702, 5601590, 3803402, 6784626, 4944482, 2882725, 9310662, 5247184, 9819854, 8398364, 1470063, 4199696, 4623136, 8160902, 930850, 3889157, 8211214, 6560984, 8835416, 3024392, 3286693, 736791, 3862790, 1420652, 9767464, 6093772, 2133393, 358615, 4537366, 6655609, 5551123, 9039549, 469060, 304701, 5768649, 1339317, 8421671, 513661, 6792447, 3944383, 4692731, 4614391, 9344708, 4169702, 4345210, 9744699, 9407222, 6480402, 7985130, 4407746, 4040958, 7960851, 5394516, 4024926, 6784072, 1710864, 6886941, 7495555, 5654086, 2481292, 8892684, 2186179, 1539792, 1828698, 4741356, 3476859, 327340, 7634220, 808031, 5101226, 6958744, 1511709, 7231864, 7447240, 778642, 3120423, 1098518, 6450468, 399546, 7275028, 1081427, 7154897, 2804344, 9440402, 2909959, 2686145, 5099515, 3776057, 5765944, 8935025, 6477008, 3490890, 1691564, 2225172, 8510419, 9788522, 9484150, 7236748, 7334350, 3501364, 443073, 3839984, 511778, 5938948, 8542395, 998674, 307072, 3068204, 9908539, 4675871, 8958494, 713730, 489163, 2908154, 5500103, 7463231, 4256879, 801111, 1312026, 3383096, 9677883, 6972318, 9812223, 2680217, 1777191, 7197988, 8155531, 1762267, 256812, 4319070, 9635141, 9583155, 3250694, 149904, 9722955, 6836491, 5998739, 7077631, 2905680, 8047743, 5398820, 5327949, 8262028, 6446657, 6945815, 5201088, 1818890, 3455395, 2094958, 1387816, 73296, 5562568, 4138240, 7411620, 3236316, 3526603, 2889306, 5881661, 9746189, 295106, 1140760, 567794, 8971262, 8092826, 6178363, 6493070, 5307905, 3151323, 9430583, 5945625, 2591187, 4762105, 1419485, 7975274, 6200869, 3747595, 3496996, 5533979, 4881997, 6326981, 6530568, 6491735, 1433394, 5656371, 8268622, 4897856, 2245483, 1669874, 7743046, 3840061, 1703393, 6096353, 3282159, 4065018, 6008865, 3662040, 440417, 6320312, 9523490, 6583500, 1674269, 6902908, 8718923, 4953838, 4492172, 1406910, 7453747, 9251820, 1368416, 9781274, 8913978, 1395947, 5304262, 2437936, 9096011, 368065, 6977113, 305541, 7998419, 9113264, 932390, 5948936, 3610392, 6452644, 7392634, 4319886, 9125467, 2520028, 7543480, 1811018, 4099447, 4892952, 7597021, 8361800, 6314060, 4059634, 3125308, 3192850, 9152613, 1306872, 3292977, 9560779, 9488831, 9009343, 5026364, 1010852, 1545256, 8623793, 5644518, 2948787, 3809130, 2673396, 2060852, 2653718, 4176196, 1615904, 8461567, 46747, 1206954, 7220207, 9171602, 3338565, 3061384, 9674051, 2510050, 382009, 247219, 6002436, 1003287, 9988055, 3041426, 8936322, 7452194, 405922, 998911, 9382240, 4249228, 9221427, 4650092, 1772513, 2816258, 8258398, 1476303, 320865, 6700891, 8695236, 1180251, 9260565, 6330678, 3891892, 7567141, 2845081, 7192332, 5252074, 9132808, 9208518, 2096326, 342578, 8349742, 3159129, 4205011, 638307, 71223, 4872024, 4912458, 2849051, 4781804, 6261562, 7290515, 5007673, 7458434, 4013763, 8550805, 8008820, 2813461, 2055878, 7657837, 7385240, 4792029, 7538175, 5131101, 9006068, 3337699, 9317035, 1481292, 8231505, 9487483, 3345098, 449245, 453983, 5589565, 7292106, 2703366, 5298881, 4515612, 1256237, 2222110, 2684520, 7701606, 7853799, 1194554, 7851668, 2444712, 2930373, 1936058, 4295952, 889562, 7390238, 1844735, 8371775, 1735214, 6206412, 3559345, 6812846, 1985125, 1791905, 728358, 7230264, 428268, 7286935, 372152, 69051, 762807, 8510926, 2815300, 9983039, 3209564, 6777024, 4992085, 2890580, 562039, 9194719, 3176970, 7526657, 3493083, 7967410, 8786315, 4059864, 6382237, 7073152, 7545693, 6431229, 1028498, 5789973, 8113571, 7564283, 5817713, 6832277, 5002565, 2265208, 438557, 1757079, 230881, 8495104, 5103307, 7420851, 4180422, 7270131, 1905337, 1475037, 9123930, 9028159, 4990449, 2384686, 9696856, 3007692, 8297118, 211151, 5438779, 939934, 840794, 4164074, 8027683, 9922110, 1912779, 6026895, 3157619, 928339, 4618770, 7990617, 6364128, 1665428, 2032576, 4278982, 6100265, 6916991, 3385276, 1620451, 4938346, 6242748, 2804263, 7464822, 4556996, 5035925, 2753070, 1992856, 8716085, 9036144, 2277153, 8453661, 4998172, 5797542, 367000, 950156, 5886760, 8153903, 5106830, 9327140, 4457455, 5022044, 3052347, 966685, 5172349, 2728196, 114135, 114631, 950795, 5526943, 8218003, 4491994, 7829474, 2789301, 5316357, 4262939, 9673787, 9578536, 2523410, 506950, 4693798, 9940156, 6942521, 4182321, 5383012, 4860281, 8370920, 7573431, 7768171, 3221024, 136106, 3558236, 1532053, 3539310, 2559342, 5062808, 2759619, 1745360, 7119640, 2321292, 61658, 3124538, 7173906, 2308870, 7978139, 6890041, 6990701, 9148722, 7011840, 1004792, 8528187, 3401861, 2686816, 5880479, 4738654, 8779826, 3521280, 2432159, 6727447, 7812233, 6665980, 8840860, 8512364, 3689400, 7355420, 3122714, 5805153, 5906419, 2998226, 9406986, 5651526, 7543317, 972976, 3346751, 3019685, 8516433, 258788, 6865579, 7756334, 9451512, 9182658, 8428446, 6755965, 4586583, 7925989, 1750013, 1012874, 9879336, 383953, 8490296, 8428185, 2060982, 8463641, 7064392, 3495414, 6781287, 2006763, 3411676, 8172818, 8583986, 9299153, 5452259, 2107695, 4570801, 5699991, 8274500, 7659330, 3933403, 5088705, 1593520, 2318532, 800976, 5025027, 7639122, 1046031, 792737, 5459182, 1592753, 2170890, 9789466, 5809494, 7911061, 2539029, 8128492, 6194946, 8695485, 9659426, 3269288, 2485303, 7917729, 8230758, 8239170, 2859339, 6147337, 8804366, 25181, 2859231, 5697800, 5916890, 198723, 1295416, 6001047, 9065735, 3209019, 6034946, 1731523, 7530638, 4911295, 4227646, 8017018, 9172125, 5472593, 8707393, 4662570, 4188377, 3616500, 5372731, 2963776, 5781540, 547771, 6944907, 4830030, 3204711, 9652058, 3214849, 8558645, 1198566, 5762344, 6891881, 1340276, 4572263, 9330449, 1512284, 9286625, 4875144, 3487144, 456312, 3686685, 8103846, 1473723, 8969048, 1880736, 1759826, 2660009, 6476439, 4195665, 1902918, 6541154, 3688474, 9839555, 6651494, 7451271, 2178417, 1800904, 3486131, 7961262, 6080960, 5622791, 2353468, 6091491, 3704395, 5007227, 9766820, 7489731, 8204534, 653479, 9716090, 3198448, 9407622, 5800774, 2047472, 2054300, 2404336, 8797243, 8880009, 942131, 6609608, 5630020, 1811483, 9775730, 190668, 9154330, 5814438, 2349137, 87075, 377384, 8265014, 6235364, 1268556, 3993536, 1315177, 2978348, 6866975, 7192230, 9097204, 1508552, 8389823, 4418343, 3207064, 3228001, 9060408, 2572469, 4556887, 772937, 569691, 8870161, 8748666, 5320607, 591676, 6746779, 3049333, 1098005, 3201215, 3678652, 6987296, 703728, 9091928, 7137459, 7851264, 8679414, 5073340, 2800891, 3549720, 6492278, 7347897, 8150917, 9072915, 9901590, 2598922, 4927088, 1765561, 738823, 6527609, 8488766, 2377259, 1736305, 5587018, 2342320, 6319258, 9326385, 9725092, 3708463, 1751982, 8413788, 2812497, 6931514, 8034607, 7712963, 1665201, 5604160, 2580404, 8580377, 3987517, 6994034, 3461720, 9023568, 3001914, 3162591, 4862158, 5506641, 8098537, 3719415, 5423946, 3462891, 2006838, 5950531, 6884423, 5895826, 1687977, 7296380, 8527160, 579056, 929868, 6727615, 2911321, 1839652, 9883242, 4019779, 9351955, 1506017, 8878831, 4904090, 1116317, 2857737, 6748923, 3853755, 9070989, 6055928, 8495836, 3285325, 1291712, 3948504, 598342, 1281879, 3452434, 811454, 55155, 69666, 9746527, 8211717, 8216491, 2913751, 841852, 6067475, 4500451, 4812117, 9506317, 4721179, 3430293, 8096704, 2169682, 8080867, 959158, 6986191, 6230108, 1518225, 9144943, 4276108, 668735, 7066824, 5485477, 6897681, 9606419, 411948, 4773096, 257689, 5166916, 1026383, 3757232, 6403261, 120660, 8418961, 751193, 4319181, 1258900, 7066471, 5834556, 9970511, 694730, 9718714, 3113979, 1798400, 8577364, 967966, 7761512, 5987361, 1298629, 9751177, 2374549, 4800917, 6048397, 3881601, 5413145, 9343996, 5041981, 568535, 8439155, 438409, 776396, 8795136, 9114404, 6175501, 9079829, 6773121, 8172102, 9880452, 373909, 2155676, 2182504, 5579551, 7656805, 9861114, 4136374, 8786839, 9617640, 5277095, 8455766, 5737131, 8045592, 4790400, 5646144, 6598950, 7695887, 9387672, 907962, 957241, 7359468, 5934152, 8620600, 130133, 4298771, 8000946, 9967304, 9170262, 4052754, 3583496, 6095556, 3813728, 8025242, 5871565, 6064143, 5217101, 7327965, 2436132, 3590119, 931544, 9765838, 7736249, 7028875, 2828882, 3744219, 2038808, 2208794, 4519737, 2901376, 5151574, 875323, 7820979, 2271532, 5310716, 4816325, 6083796, 2704672, 7885209, 2415433, 3888095, 3656551, 3210487, 3509308, 5685228, 2198490, 1967673, 1415527, 2866735, 9860515, 3046505, 3877183, 6102348, 2798277, 5699538, 2173325, 1628328, 5033001, 4046418, 5181215, 8111653, 7485814, 5485629, 6017894, 3702841, 4723312, 5279763, 4548119, 1076239, 2571841, 1033405, 9934376, 9360558, 2683831, 2755130, 5472163, 1640750, 6639786, 8304816, 4736842, 718355, 8029910, 3933803, 6141288, 3957342, 1258240, 758402, 6150115, 4312581, 7783453, 9346578, 9585654, 2180358, 2487797, 8664854, 3572216, 8748977, 5218044, 2273780, 8092203, 8420778, 7982179, 8496968, 3197929, 6429917, 4356919, 5303666, 210350, 8520887, 7263348, 4287969, 9630021, 9990728, 8455483, 5433316, 4773035, 8432976, 3312796, 2431648, 8237261, 9628820, 1399389, 7546051, 8594344, 3304589, 6911311]\n"
          ]
        }
      ]
    },
    {
      "cell_type": "code",
      "source": [
        "sys.setrecursionlimit(10000)"
      ],
      "metadata": {
        "id": "YlkaZpa-i08O"
      },
      "execution_count": 25,
      "outputs": []
    },
    {
      "cell_type": "code",
      "source": [
        "vertices = maxWeigthIndependentSet(inArray)"
      ],
      "metadata": {
        "id": "KbBh2cNSbkRH",
        "colab": {
          "base_uri": "https://localhost:8080/"
        },
        "outputId": "0cdf30ac-46df-49ff-b52e-e919b7987ce6"
      },
      "execution_count": 26,
      "outputs": [
        {
          "output_type": "stream",
          "name": "stdout",
          "text": [
            "Weights: [0, 4962786, 6395702, 10564376, 10564376, 17349002, 17349002, 20231727, 26659664, 26659664, 36479518, 36479518, 37949581, 40679214, 42572717, 48840116, 48840116, 52729273, 57051330, 59290257, 65886746, 65886746, 69173439, 69173439, 73036229, 73036229, 82803693, 82803693, 84937086, 84937086, 89474452, 91592695, 95025575, 100632244, 100632244, 100936945, 106400893, 106400893, 114822564, 114822564, 121615011, 121615011, 126307742, 126307742, 135652450, 135652450, 139997660, 145397149, 149404882, 151877551, 157390012, 157390012, 161430970, 165350863, 166825486, 169375789, 173609558, 173609558, 180496499, 181105113, 186150585, 186150585, 195043269, 195043269, 196583061, 196871967, 201324417, 201324417, 201651757, 208958637, 208958637, 214059863, 215917381, 215917381, 223149245, 223364621, 223927887, 226485044, 226485044, 232935512, 232935512, 240210540, 240210540, 247365437, 247365437, 256805839, 256805839, 259491984, 261905354, 263268041, 267671298, 272203066, 274148306, 275693956, 275839870, 277919128, 284350289, 287707650, 293834439, 294944398, 301168789, 301168789, 301611862, 305008773, 305008773, 310947721, 313551168, 313551168, 313858240, 316619372, 323766779, 323766779, 332725273, 332725273, 333214436, 335633427, 338714539, 343096658, 343096658, 343897769, 344408684, 347280865, 354086567, 354253183, 363898790, 363898790, 365675981, 371096778, 373831512, 373831512, 374088324, 378150582, 383723465, 387733737, 387733737, 387883641, 397456692, 397456692, 403455431, 404534323, 406361111, 412582066, 412582066, 417910015, 420844094, 424356672, 427789909, 429557760, 429608799, 433013155, 433013155, 434400971, 434400971, 439963539, 439963539, 447375159, 447375159, 450901762, 450901762, 456783423, 460647951, 460647951, 461788711, 461788711, 470759973, 470759973, 476938336, 477253043, 482246241, 482246241, 491676824, 491676824, 494268011, 496438929, 496438929, 504414203, 504414203, 508161798, 508161798, 513695777, 513695777, 520022758, 520226345, 526514493, 526514493, 532170864, 534783115, 537068720, 537068720, 538738594, 544811766, 544811766, 546515159, 550908119, 550908119, 554973137, 556916984, 558635177, 558635177, 564955489, 568158667, 571538989, 571538989, 578441897, 580257912, 583395735, 584750084, 584802645, 592203831, 594054465, 594054465, 603835739, 603835739, 605231686, 609140001, 609140001, 618236012, 618236012, 625213125, 625213125, 633211544, 634326389, 634326389, 640275325, 640275325, 646727969, 647667959, 651047855, 656793426, 656793426, 664336906, 664336906, 668436353, 669229858, 676033374, 677591658, 682347434, 682347434, 685472742, 685540284, 694625355, 694625355, 697918332, 704186134, 707407163, 713195477, 713195477, 714206329, 714740733, 722830122, 722830122, 725778909, 726639252, 728452305, 728700104, 731106023, 732876300, 732876300, 741337867, 741337867, 742544821, 748558074, 751716423, 751896639, 754777807, 761570690, 761570690, 761952699, 761952699, 767955135, 767955135, 777943190, 777943190, 786879512, 786879512, 787285434, 787878423, 796667674, 796667674, 805889101, 805889101, 807661614, 808705359, 815920012, 815920012, 816240877, 822620903, 824936113, 824936113, 834196678, 834196678, 838088570, 841763819, 841763819, 848956151, 848956151, 858088959, 858164669, 860185285, 860185285, 868535027, 868535027, 872740038, 872740038, 872811261, 877612062, 877723719, 880461113, 882505523, 886722675, 889796038, 891730348, 897254472, 897254472, 905805277, 905805277, 908618738, 908618738, 916276575, 916276575, 921068604, 923814750, 926199705, 932820818, 932820818, 942137853, 942137853, 950369358, 951625336, 953714456, 953714456, 954168439, 959304021, 961460545, 962007387, 966759426, 966759426, 968015663, 968981536, 970700183, 976683142, 978553982, 978553982, 986405650, 986405650, 989336023, 989336023, 993631975, 993631975, 1001022213, 1001022213, 1009393988, 1009393988, 1015600400, 1015600400, 1022413246, 1022413246, 1024205151, 1024205151, 1031435415, 1031435415, 1038722350, 1038722350, 1038791401, 1039485157, 1047302327, 1047302327, 1057285366, 1057285366, 1064062390, 1064062390, 1066952970, 1066952970, 1076147689, 1076147689, 1083674346, 1083674346, 1091641756, 1092460661, 1095701620, 1098842898, 1102774772, 1106388591, 1109206001, 1109206001, 1114995974, 1117319572, 1122560257, 1123137285, 1129392534, 1129392534, 1131657742, 1131657742, 1133414821, 1133414821, 1141909925, 1141909925, 1149330776, 1149330776, 1156600907, 1156600907, 1158075944, 1165724837, 1167104103, 1170715286, 1170715286, 1180412142, 1180412142, 1188709260, 1188709260, 1194148039, 1194148039, 1194988833, 1198312113, 1203016516, 1208234223, 1208234223, 1214261118, 1214261118, 1215189457, 1218879888, 1223180074, 1225244016, 1225244016, 1227276592, 1229522998, 1233376857, 1236439989, 1236762133, 1238060440, 1241700479, 1244303188, 1244504742, 1251768010, 1251768010, 1256803935, 1256803935, 1258796791, 1265520020, 1267832935, 1267832935, 1276286596, 1276286596, 1282084138, 1282084138, 1283034294, 1287970898, 1291188197, 1293077728, 1300515337, 1300515337, 1305537381, 1305537381, 1306504066, 1310709730, 1310709730, 1310823865, 1310824361, 1311774660, 1316351304, 1319992663, 1320843298, 1327822137, 1327822137, 1333138494, 1333138494, 1342812281, 1342812281, 1345335691, 1345335691, 1350029489, 1355275847, 1356972010, 1359458168, 1362355022, 1364318449, 1370725942, 1371891880, 1378494113, 1378494113, 1378630219, 1382052349, 1382052349, 1385591659, 1385591659, 1390654467, 1390654467, 1392399827, 1397774107, 1397774107, 1397835765, 1400898645, 1405009671, 1405009671, 1412987810, 1412987810, 1419978511, 1422136532, 1426990351, 1426990351, 1435518538, 1435518538, 1438205354, 1441399017, 1442944008, 1450178843, 1450178843, 1452611002, 1456906290, 1460423235, 1463572270, 1469264095, 1472084634, 1472953495, 1479440054, 1479440054, 1485245207, 1485346473, 1488243433, 1494753459, 1494753459, 1502296776, 1502296776, 1505643527, 1505643527, 1514159960, 1514159960, 1521025539, 1521916294, 1530477051, 1531098952, 1538905497, 1538905497, 1543492080, 1546831486, 1546831486, 1547844360, 1556710822, 1556710822, 1565201118, 1565201118, 1567262100, 1573664759, 1574326492, 1577160173, 1581107779, 1581107779, 1584519455, 1589280597, 1593103441, 1598579750, 1598579750, 1600687445, 1603150551, 1606387436, 1611425051, 1614046766, 1615358454, 1619135471, 1619135471, 1621454003, 1621454003, 1626479030, 1629093125, 1629093125, 1629885862, 1634552307, 1634552307, 1636723197, 1644341773, 1644341773, 1652252834, 1652252834, 1660381326, 1660381326, 1669076811, 1670040752, 1672346099, 1672526055, 1680263828, 1680756813, 1688502998, 1688502998, 1694650335, 1697307364, 1697307364, 1700166595, 1703005164, 1706083485, 1706083485, 1707378901, 1712084532, 1716444636, 1716444636, 1722479582, 1722479582, 1730010220, 1730010220, 1734237866, 1738027238, 1743409991, 1743499831, 1752117384, 1752117384, 1756305761, 1756305761, 1761678492, 1761678492, 1767460032, 1767460032, 1774404939, 1774404939, 1777609650, 1784056997, 1784056997, 1792615642, 1792615642, 1798377986, 1799507523, 1799718262, 1804079786, 1809048711, 1809048711, 1818335336, 1818335336, 1821822480, 1821822480, 1825509165, 1829926326, 1829926326, 1838895374, 1838895374, 1840655200, 1841555383, 1847131639, 1847131639, 1849034557, 1853672793, 1853672793, 1863512348, 1863512348, 1870963619, 1870963619, 1872764523, 1874449750, 1880725785, 1880725785, 1886348576, 1886348576, 1892440067, 1892440067, 1897447294, 1902206887, 1904937025, 1910411421, 1910411421, 1920127511, 1920127511, 1929535133, 1929535133, 1931582605, 1931589433, 1933986941, 1940386676, 1942866950, 1942866950, 1949476558, 1949476558, 1951288041, 1959252288, 1959252288, 1968406618, 1968406618, 1970755755, 1970755755, 1971133139, 1979020769, 1979020769, 1980289325, 1983014305, 1983014305, 1985992653, 1989881280, 1993184883, 1998978484, 1998978484, 2007368307, 2007368307, 2010575371, 2010596308, 2019635779, 2019635779, 2024192666, 2024192666, 2024762357, 2033062827, 2033511023, 2038383434, 2038383434, 2045130213, 2045130213, 2046228218, 2048331428, 2049906870, 2055318724, 2055318724, 2064410652, 2064410652, 2072261916, 2073090066, 2077335256, 2077335256, 2080884976, 2083827534, 2088232873, 2091978451, 2097305788, 2101880041, 2101880041, 2106807129, 2106807129, 2107545952, 2113334738, 2116034718, 2116034718, 2117771023, 2121621736, 2121621736, 2127940994, 2130948121, 2137666086, 2137666086, 2139418068, 2146079874, 2146079874, 2153011388, 2154114481, 2160724351, 2160724351, 2166328511, 2166328511, 2174908888, 2174908888, 2181902922, 2181902922, 2190926490, 2190926490, 2194089081, 2195788648, 2199595722, 2203887185, 2203887185, 2209311131, 2209311131, 2211317969, 2215261662, 2218202392, 2221157488, 2221157488, 2228453868, 2229684648, 2229684648, 2230614516, 2236412263, 2236412263, 2238251915, 2246295505, 2246295505, 2255647460, 2255647460, 2264526291, 2264526291, 2265642608, 2267384028, 2272391531, 2272391531, 2281462520, 2281462520, 2289958356, 2289958356, 2291250068, 2293906860, 2293906860, 2295188739, 2297359294, 2297359294, 2297414449, 2297428960, 2307160976, 2307160976, 2315377467, 2315377467, 2316219319, 2321444942, 2321444942, 2326257059, 2330951259, 2330978238, 2334381552, 2339074942, 2339074942, 2347155809, 2347155809, 2354142000, 2354142000, 2355660225, 2363286943, 2363286943, 2363955678, 2370353767, 2370353767, 2377251448, 2379960186, 2379960186, 2384733282, 2384733282, 2389900198, 2389900198, 2393657430, 2396303459, 2396303459, 2404722420, 2404722420, 2409041601, 2409041601, 2416108072, 2416108072, 2426078583, 2426078583, 2435797297, 2435797297, 2437595697, 2444374661, 2444374661, 2452136173, 2452136173, 2453434802, 2461887350, 2461887350, 2466688267, 2467935747, 2470569868, 2473348892, 2479913864, 2479913864, 2480482399, 2488353019, 2488353019, 2489129415, 2497148155, 2498243819, 2503323656, 2507323648, 2510096777, 2515495750, 2519977229, 2519977229, 2522132905, 2522159733, 2527712456, 2529816538, 2537573570, 2537573570, 2546360409, 2547191210, 2551637504, 2555646976, 2557374635, 2563692568, 2563692568, 2569338712, 2570291518, 2577034599, 2579679190, 2579679190, 2580636431, 2587038658, 2587038658, 2595659258, 2595659258, 2599958029, 2603660204, 2609925333, 2612830466, 2613978087, 2616413962, 2620073643, 2620227690, 2628098885, 2628098885, 2634163028, 2634163028, 2641490993, 2641490993, 2645081112, 2645081112, 2654846950, 2654846950, 2661875825, 2661875825, 2665620044, 2665620044, 2667828838, 2670139781, 2670730214, 2675291355, 2675291355, 2683112334, 2683112334, 2688423050, 2688423050, 2694506846, 2694506846, 2702392055, 2702392055, 2706280150, 2706280150, 2709490637, 2709789458, 2715175865, 2715175865, 2717143538, 2717143538, 2720010273, 2727004053, 2727004053, 2730881236, 2733106401, 2733679513, 2738805939, 2738805939, 2740434267, 2743838940, 2744480685, 2749020155, 2752592338, 2756505969, 2758077967, 2762523863, 2762523863, 2767247175, 2767803626, 2771795294, 2771795294, 2774367135, 2774367135, 2784301511, 2784301511, 2786985342, 2787056641, 2792457505, 2792457505, 2799097291, 2800762321, 2803834133, 2803834133, 2811864043, 2811864043, 2818005331, 2818005331, 2819263571, 2819263571, 2825413686, 2825413686, 2833197139, 2834760264, 2842782793, 2842782793, 2845270590, 2851447647, 2851447647, 2860196624, 2860196624, 2862470404, 2868288827, 2870891182, 2876271006, 2879388150, 2879468935, 2885818067, 2885818067, 2891121733, 2891121733, 2899642620, 2899642620, 2903930589, 2909272641, 2913921317, 2917728124, 2919354633, 2922501159, 2927787609, 2927787609, 2930219257, 2936024870, 2939848077, 2939848077, 2947394128, 2948442421, 2950698717, 2955353732]\n",
            "Inside reconstruct: i = 1000 =================>\n",
            " Max Weight Independent Set: [6911311, 8594344, 9628820, 2431648, 8432976, 5433316, 9990728, 4287969, 8520887, 5303666, 6429917, 8496968, 8420778, 2273780, 8748977, 8664854, 9585654, 7783453, 6150115, 1258240, 6141288, 8029910, 4736842, 6639786, 5472163, 2683831, 9934376, 2571841, 4548119, 4723312, 6017894, 7485814, 5181215, 5033001, 5699538, 6102348, 9860515, 1967673, 5685228, 3210487, 3888095, 7885209, 6083796, 5310716, 7820979, 5151574, 4519737, 3744219, 7028875, 9765838, 3590119, 7327965, 6064143, 8025242, 6095556, 4052754, 9967304, 4298771, 8620600, 7359468, 9387672, 6598950, 8045592, 8455766, 9617640, 9861114, 5579551, 2155676, 9880452, 6773121, 6175501, 8795136, 8439155, 9343996, 3881601, 4800917, 9751177, 7761512, 8577364, 9718714, 9970511, 7066471, 4319181, 8418961, 6403261, 5166916, 4773096, 9606419, 7066824, 9144943, 6986191, 8080867, 8096704, 4721179, 4812117, 6067475, 8216491, 9746527, 55155, 3452434, 3948504, 8495836, 9070989, 6748923, 1116317, 8878831, 9351955, 9883242, 6727615, 8527160, 5895826, 5950531, 5423946, 8098537, 4862158, 9023568, 6994034, 8580377, 5604160, 7712963, 6931514, 8413788, 9725092, 6319258, 5587018, 8488766, 738823, 4927088, 9901590, 8150917, 6492278, 5073340, 7851264, 9091928, 6987296, 3201215, 6746779, 5320607, 8870161, 4556887, 9060408, 3207064, 8389823, 9097204, 6866975, 3993536, 8265014, 2349137, 9154330, 9775730, 6609608, 8880009, 2404336, 2047472, 9407622, 9716090, 8204534, 9766820, 6091491, 5622791, 7961262, 1800904, 7451271, 9839555, 6541154, 6476439, 1759826, 8969048, 8103846, 3487144, 9286625, 9330449, 1340276, 5762344, 8558645, 9652058, 6944907, 5781540, 5372731, 4188377, 8707393, 9172125, 4227646, 7530638, 6034946, 9065735, 1295416, 5916890, 2859231, 8804366, 8239170, 7917729, 3269288, 8695485, 8128492, 7911061, 9789466, 5459182, 7639122, 2318532, 5088705, 7659330, 5699991, 2107695, 9299153, 8172818, 6781287, 7064392, 2060982, 8490296, 9879336, 7925989, 8428446, 9451512, 6865579, 8516433, 3346751, 7543317, 9406986, 5906419, 7355420, 8512364, 6665980, 6727447, 8779826, 5880479, 8528187, 7011840, 6990701, 7978139, 7173906, 61658, 7119640, 5062808, 3539310, 3558236, 7768171, 8370920, 5383012, 6942521, 4693798, 2523410, 9673787, 5316357, 7829474, 8218003, 950795, 114135, 5172349, 5022044, 9327140, 8153903, 950156, 5797542, 8453661, 9036144, 1992856, 5035925, 7464822, 6242748, 1620451, 6916991, 4278982, 6364128, 4618770, 6026895, 9922110, 4164074, 5438779, 8297118, 9696856, 4990449, 9123930, 7270131, 7420851, 8495104, 1757079, 2265208, 6832277, 7564283, 5789973, 6431229, 7073152, 4059864, 7967410, 7526657, 9194719, 2890580, 6777024, 9983039, 8510926, 69051, 7286935, 7230264, 1791905, 6812846, 6206412, 8371775, 7390238, 4295952, 2930373, 7851668, 7853799, 2684520, 1256237, 5298881, 7292106, 453983, 3345098, 8231505, 9317035, 9006068, 7538175, 7657837, 2813461, 8550805, 7458434, 7290515, 4781804, 4912458, 71223, 4205011, 8349742, 2096326, 9132808, 7192332, 7567141, 9260565, 8695236, 320865, 8258398, 1772513, 9221427, 9382240, 405922, 8936322, 9988055, 6002436, 382009, 9674051, 3338565, 7220207, 8461567, 4176196, 2060852, 3809130, 8623793, 1010852, 9009343, 9560779, 9152613, 3125308, 6314060, 7597021, 4099447, 7543480, 9125467, 7392634, 5948936, 9113264, 6977113, 9096011, 5304262, 9781274, 9251820, 1406910, 4953838, 6902908, 6583500, 6320312, 3662040, 4065018, 6096353, 7743046, 4897856, 5656371, 6491735, 6326981, 5533979, 3747595, 7975274, 4762105, 9430583, 5307905, 6178363, 8971262, 1140760, 9746189, 3526603, 7411620, 5562568, 1387816, 3455395, 5201088, 6446657, 5327949, 8047743, 7077631, 9722955, 9583155, 4319070, 8155531, 1777191, 9812223, 9677883, 1312026, 7463231, 2908154, 8958494, 9908539, 307072, 8542395, 3839984, 7334350, 9484150, 8510419, 1691564, 6477008, 5765944, 5099515, 9440402, 7154897, 7275028, 6450468, 3120423, 7447240, 6958744, 7634220, 4741356, 1539792, 8892684, 5654086, 6886941, 6784072, 5394516, 4040958, 7985130, 9407222, 4345210, 9344708, 4692731, 6792447, 8421671, 5768649, 9039549, 6655609, 2133393, 9767464, 3862790, 3286693, 8835416, 8211214, 8160902, 4199696, 9819854, 9310662, 6784626, 5601590, 4962786]\n",
            "Max Weight Vertices included: [1000, 998, 995, 993, 991, 989, 987, 985, 983, 981, 979, 977, 975, 973, 971, 969, 966, 964, 962, 960, 958, 956, 954, 952, 950, 948, 946, 944, 942, 940, 938, 936, 934, 932, 929, 927, 924, 921, 919, 917, 915, 913, 911, 909, 907, 905, 903, 900, 898, 896, 894, 892, 890, 888, 886, 884, 882, 880, 878, 876, 873, 871, 868, 866, 864, 861, 859, 857, 855, 853, 851, 849, 846, 843, 841, 839, 837, 834, 832, 829, 827, 825, 823, 821, 819, 816, 814, 812, 809, 806, 803, 801, 799, 797, 795, 793, 790, 788, 786, 784, 781, 778, 776, 774, 772, 770, 768, 766, 763, 760, 757, 755, 752, 750, 748, 745, 743, 741, 739, 737, 735, 733, 730, 728, 726, 723, 721, 719, 717, 715, 713, 710, 708, 706, 704, 702, 699, 697, 695, 692, 690, 688, 686, 684, 682, 679, 676, 673, 671, 669, 666, 664, 662, 660, 658, 656, 654, 652, 649, 647, 645, 643, 641, 639, 637, 634, 632, 630, 628, 625, 623, 621, 619, 617, 615, 613, 610, 608, 606, 604, 602, 600, 598, 596, 594, 592, 590, 588, 586, 584, 581, 579, 577, 575, 573, 571, 569, 566, 563, 560, 558, 556, 554, 552, 550, 548, 545, 543, 541, 539, 537, 534, 531, 529, 527, 525, 523, 521, 519, 517, 514, 512, 510, 508, 505, 503, 500, 498, 496, 494, 492, 490, 488, 485, 483, 481, 478, 476, 474, 472, 470, 468, 466, 464, 462, 460, 458, 456, 454, 451, 449, 447, 445, 443, 441, 439, 437, 435, 433, 431, 429, 427, 425, 422, 420, 417, 415, 413, 410, 408, 406, 404, 402, 399, 397, 395, 393, 391, 389, 387, 385, 383, 381, 379, 377, 375, 373, 371, 369, 367, 365, 363, 361, 359, 357, 355, 353, 351, 349, 347, 345, 343, 341, 339, 337, 335, 333, 331, 329, 327, 325, 323, 321, 318, 316, 314, 312, 310, 308, 306, 304, 302, 300, 298, 296, 294, 292, 289, 287, 285, 283, 281, 279, 277, 275, 273, 271, 269, 267, 265, 263, 261, 258, 256, 254, 252, 249, 247, 245, 243, 240, 238, 236, 234, 232, 230, 228, 226, 223, 221, 218, 216, 214, 211, 209, 207, 205, 203, 201, 199, 197, 195, 193, 190, 187, 185, 183, 181, 179, 177, 175, 173, 170, 168, 166, 164, 162, 160, 157, 155, 153, 151, 149, 147, 145, 143, 141, 139, 136, 133, 131, 128, 126, 124, 122, 120, 117, 115, 112, 110, 108, 106, 103, 100, 98, 96, 94, 92, 90, 88, 85, 83, 81, 79, 77, 75, 72, 69, 66, 64, 62, 60, 58, 56, 54, 52, 50, 48, 46, 44, 42, 40, 38, 36, 33, 31, 28, 26, 24, 22, 20, 18, 15, 13, 10, 8, 5, 3, 1]\n"
          ]
        }
      ]
    },
    {
      "cell_type": "code",
      "source": [
        "result = \"\"\n",
        "for v in [1, 2, 3, 4, 17, 117, 517, 997]:\n",
        "  if v in vertices:\n",
        "    result += \"1\"\n",
        "  else:\n",
        "    result += \"0\"\n",
        "print(result)"
      ],
      "metadata": {
        "id": "22Evmkufjigm",
        "colab": {
          "base_uri": "https://localhost:8080/"
        },
        "outputId": "3a2be85c-86fa-4186-ada9-94ec660a47d8"
      },
      "execution_count": 27,
      "outputs": [
        {
          "output_type": "stream",
          "name": "stdout",
          "text": [
            "10100110\n"
          ]
        }
      ]
    },
    {
      "cell_type": "markdown",
      "source": [
        "Answer : 10100110"
      ],
      "metadata": {
        "id": "XgQ3FH0Yj7Rq"
      }
    }
  ]
}