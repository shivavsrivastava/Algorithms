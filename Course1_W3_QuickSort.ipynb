{
  "nbformat": 4,
  "nbformat_minor": 0,
  "metadata": {
    "colab": {
      "provenance": [],
      "authorship_tag": "ABX9TyMpbqzENsVarKaPfMqIBmjU",
      "include_colab_link": true
    },
    "kernelspec": {
      "name": "python3",
      "display_name": "Python 3"
    },
    "language_info": {
      "name": "python"
    }
  },
  "cells": [
    {
      "cell_type": "markdown",
      "metadata": {
        "id": "view-in-github",
        "colab_type": "text"
      },
      "source": [
        "<a href=\"https://colab.research.google.com/github/shivavsrivastava/Algorithms/blob/main/Course1_W3_QuickSort.ipynb\" target=\"_parent\"><img src=\"https://colab.research.google.com/assets/colab-badge.svg\" alt=\"Open In Colab\"/></a>"
      ]
  },
  "cells": [
    {
      "cell_type": "markdown",
      "source": [
        "# QUICK SORT\n"
      ],
      "metadata": {
        "id": "8TRYJIbu5szO"
      }
    },
    {
      "cell_type": "code",
      "source": [
        "import numpy as np"
      ],
      "metadata": {
        "id": "P9NoK--bQ8MS"
      },
      "execution_count": 29,
      "outputs": []
    },
    {
      "cell_type": "markdown",
      "source": [
        "## Partition Subroutine\n",
        "Partitions the array in place and returns the pivot index"
      ],
      "metadata": {
        "id": "f_1AoSn0FFho"
      }
    },
    {
      "cell_type": "code",
      "source": [
        "def swap(ele1, ele2):\n",
        "    temp = ele1\n",
        "    ele1 = ele2\n",
        "    ele2 = temp\n",
        "    return ele1, ele2\n",
        ""
      ],
      "metadata": {
        "id": "igXU1CY76Fgw"
      },
      "execution_count": 2,
      "outputs": []
    },
    {
      "cell_type": "code",
      "source": [
        "# Partition Subroutine\n",
        "def partition(array, l, r):\n",
        "    p = array[l]\n",
        "    i = l + 1\n",
        "    for j in range(l+1, r):\n",
        "        if array[j] <= p:\n",
        "            array[i], array[j] = swap(array[i], array[j])\n",
        "            i = i + 1\n",
        "\n",
        "    array[i-1], array[l] = swap(array[i-1], array[l])\n",
        "    return array, i - 1"
      ],
      "metadata": {
        "id": "v1l4mW5X6CGH"
      },
      "execution_count": 25,
      "outputs": []
    },
    {
      "cell_type": "markdown",
      "source": [
        "#### Test the partition subroutine\n"
      ],
      "metadata": {
        "id": "vbMgv9EwFcuN"
      }
    },
    {
      "cell_type": "code",
      "source": [
        "print('When Pivot is an Intermediate number', partition([3, 2, 1, 5, 0, 7, 8], 0, 7))\n",
        "print('When Pivot is the Maximum number', partition([8, 2, 1, 5, 0, 7, 3], 0, 7))\n",
        "print('When Pivot is the Minimum number', partition([0, 2, 1, 5, 8, 7, 3], 0, 7))\n",
        "print('Input array is same as the example in book', partition([3, 8, 2, 5, 1, 4, 7, 6], 0, 8))"
      ],
      "metadata": {
        "colab": {
          "base_uri": "https://localhost:8080/"
        },
        "id": "a6IxIZBCFj-y",
        "outputId": "cb8c2424-fd2b-496f-a3e3-a75b73698e7c"
      },
      "execution_count": 26,
      "outputs": [
        {
          "output_type": "stream",
          "name": "stdout",
          "text": [
            "When Pivot is an Intermediate number ([0, 2, 1, 3, 5, 7, 8], 3)\n",
            "When Pivot is the Maximum number ([3, 2, 1, 5, 0, 7, 8], 6)\n",
            "When Pivot is the Minimum number ([0, 2, 1, 5, 8, 7, 3], 0)\n",
            "Input array is same as the example in book ([1, 2, 3, 5, 8, 4, 7, 6], 2)\n"
          ]
        }
      ]
    },
    {
      "cell_type": "markdown",
      "source": [
        "## Quick Sort routine\n"
      ],
      "metadata": {
        "id": "UtK_JimrNnXU"
      }
    },
    {
      "cell_type": "code",
      "source": [
        "def choose_pivot_last(array):\n",
        "    # Swap the last element with first\n",
        "    array[0], array[-1] = swap(array[0], array[-1])\n",
        "    return array"
      ],
      "metadata": {
        "id": "DUY6zlv6NtBy"
      },
      "execution_count": 41,
      "outputs": []
    },
    {
      "cell_type": "code",
      "source": [
        "def choose_pivot_random(array):\n",
        "    randomidx = np.random.randint(0, len(array))\n",
        "    # Swap the last element with first\n",
        "    array[0], array[randomidx] = swap(array[0], array[randomidx])\n",
        "    return array"
      ],
      "metadata": {
        "id": "6Btx4DqHOHC8"
      },
      "execution_count": 42,
      "outputs": []
    },
    {
      "cell_type": "code",
      "source": [
        "\n",
        "def choose_pivot_median(array):\n",
        "  mid = len(array)//2\n",
        "  if len(array) % 2 == 0:\n",
        "    mid -= 1\n",
        "\n",
        "  median = mid if (array[0] < array[mid] and  array[mid] < array[-1]) or \\\n",
        "           (array[0] > array[mid] and array[mid] > array[-1]) else \\\n",
        "           -1 if (array[0] < array[-1] and  array[-1] < array[mid]) or \\\n",
        "           (array[0] > array[-1] and  array[-1] > array[mid]) else 0\n",
        "  if median == -1 or median== mid:\n",
        "    array[0], array[median] = swap(array[0], array[median])\n",
        "  return array"
      ],
      "metadata": {
        "id": "-ca52pfIPSaX"
      },
      "execution_count": 43,
      "outputs": []
    },
    {
      "cell_type": "code",
      "source": [
        "def QuickSort(arr, pivot=\"start\" , init_comparisons=0):\n",
        "    global ncomparisons\n",
        "\n",
        "    # Set the ncomparisons\n",
        "    if(init_comparisons == 0):\n",
        "        ncomparisons = 0\n",
        "\n",
        "    m = len(arr)\n",
        "    # define base case\n",
        "    if m == 1:\n",
        "        #print(arr)\n",
        "        return arr, ncomparisons\n",
        "    else:\n",
        "        #print(arr)\n",
        "        # decide pivot, default is pivot=\"start\"\n",
        "        if(pivot==\"last\"):\n",
        "            arr = choose_pivot_last(arr)\n",
        "        elif(pivot==\"median\"):\n",
        "            arr = choose_pivot_median(arr)\n",
        "        elif(pivot==\"random\"):\n",
        "            arr = choose_pivot_random(arr)\n",
        "        else: # default is start\n",
        "            pass\n",
        "\n",
        "        # Computhe the number of comparisons, as required by the assignment\n",
        "        ncomparisons += m - 1\n",
        "        #print(\"partitioned : {}\".format(arr))\n",
        "        # Call The parition subroutine\n",
        "        arr, pvtidx = partition(arr, 0, m)\n",
        "\n",
        "        # recursive calls only if there is a left or a right array.\n",
        "        if(pvtidx !=0):\n",
        "            arr[:pvtidx], _ = QuickSort(arr[:pvtidx], pivot, init_comparisons=1)\n",
        "        if(pvtidx != m-1):\n",
        "            arr[pvtidx+1:], _ = QuickSort(arr[pvtidx+1:], pivot, init_comparisons=1)\n",
        "\n",
        "    return arr, ncomparisons\n"
      ],
      "metadata": {
        "id": "X0minkCljgux"
      },
      "execution_count": 57,
      "outputs": []
    },
    {
      "cell_type": "code",
      "source": [
        "#print(QuickSort([3, 2, 1, 5, 0, 7, 8]))\n",
        "print(QuickSort([3, 8, 2, 5, 1, 4, 7, 6]))"
      ],
      "metadata": {
        "colab": {
          "base_uri": "https://localhost:8080/"
        },
        "id": "9_KApCi1H-Nb",
        "outputId": "1b9cc0e6-0e7a-4a7d-dc9a-918eedfa445a"
      },
      "execution_count": 39,
      "outputs": [
        {
          "output_type": "stream",
          "name": "stdout",
          "text": [
            "[3, 8, 2, 5, 1, 4, 7, 6]\n",
            "[1, 2]\n",
            "[2]\n",
            "[5, 8, 4, 7, 6]\n",
            "[4]\n",
            "[8, 7, 6]\n",
            "[6, 7]\n",
            "[7]\n",
            "([1, 2, 3, 4, 5, 6, 7, 8], 15)\n"
          ]
        }
      ]
    },
    {
      "cell_type": "code",
      "source": [
        "print(QuickSort([3, 2, 1, 5, 0, 7, 8], pivot=\"last\"))\n",
        "#print(QuickSort([3, 8, 2, 5, 1, 4, 7, 6], pivot=\"last\"))"
      ],
      "metadata": {
        "colab": {
          "base_uri": "https://localhost:8080/"
        },
        "id": "zkfl5BlwUVKH",
        "outputId": "4b52d90f-718f-4e54-924a-feacebc15246"
      },
      "execution_count": 46,
      "outputs": [
        {
          "output_type": "stream",
          "name": "stdout",
          "text": [
            "[3, 2, 1, 5, 0, 7, 8]\n",
            "[3, 2, 1, 5, 0, 7]\n",
            "[3, 2, 1, 5, 0]\n",
            "[2, 1, 5, 3]\n",
            "[2, 1]\n",
            "[2]\n",
            "[5]\n",
            "([0, 1, 2, 3, 5, 7, 8], 19)\n"
          ]
        }
      ]
    },
    {
      "cell_type": "code",
      "source": [
        "print(QuickSort([3, 8, 2, 5, 1, 4, 7, 6], pivot=\"median\"))"
      ],
      "metadata": {
        "colab": {
          "base_uri": "https://localhost:8080/"
        },
        "id": "2YGFPiquVSjH",
        "outputId": "83d4a832-a177-4ed6-dd14-8a1e24cd4069"
      },
      "execution_count": 47,
      "outputs": [
        {
          "output_type": "stream",
          "name": "stdout",
          "text": [
            "[3, 8, 2, 5, 1, 4, 7, 6]\n",
            "[4, 2, 3, 1]\n",
            "[1]\n",
            "[3, 4]\n",
            "[4]\n",
            "[8, 7, 6]\n",
            "[6]\n",
            "[8]\n",
            "([1, 2, 3, 4, 5, 6, 7, 8], 13)\n"
          ]
        }
      ]
    },
    {
      "cell_type": "code",
      "source": [
        "print(QuickSort([3, 8, 2, 5, 1, 4, 7, 6], pivot=\"random\"))"
      ],
      "metadata": {
        "colab": {
          "base_uri": "https://localhost:8080/"
        },
        "id": "Q6qYdibmVpDr",
        "outputId": "089d3b2f-fde8-45f3-a490-14510c4146ce"
      },
      "execution_count": 50,
      "outputs": [
        {
          "output_type": "stream",
          "name": "stdout",
          "text": [
            "[3, 8, 2, 5, 1, 4, 7, 6]\n",
            "[3, 2, 1]\n",
            "[1, 2]\n",
            "[2]\n",
            "[8, 5, 7, 6]\n",
            "[5]\n",
            "[7, 8]\n",
            "[8]\n",
            "([1, 2, 3, 4, 5, 6, 7, 8], 14)\n"
          ]
        }
      ]
    },
    {
      "cell_type": "markdown",
      "source": [
        "## TESTS\n",
        "\n"
      ],
      "metadata": {
        "id": "9rQyPzwTkhlh"
      }
    },
    {
      "cell_type": "code",
      "source": [
        "import pandas as pd\n",
        "df = pd.read_table('https://d3c33hcgiwev3.cloudfront.net/_32387ba40b36359a38625cbb397eee65_QuickSort.txt?Expires=1710201600&Signature=Cxv4FoUJxoUTF4-pbmC2MJ0xqJFcOm3NIANCmztkTrhAaHLwld9aGtMIfeMnFBo9H9OtNPPAS3W0Q3UC0yGq7xgw4krmCN6RXnYndp4ttNY3b5~nNML9NgNlctEtMFs14XoJRMMAxwKigF~wgeRBHQxh5I0DEb7YRi9u-13keD8_&Key-Pair-Id=APKAJLTNE6QMUY6HBC5A', header=None)"
      ],
      "metadata": {
        "id": "FK0IzSp7lWXz"
      },
      "execution_count": 60,
      "outputs": []
    },
    {
      "cell_type": "code",
      "source": [
        "df.describe()"
      ],
      "metadata": {
        "colab": {
          "base_uri": "https://localhost:8080/",
          "height": 300
        },
        "id": "kff3E1SsWXXG",
        "outputId": "4419dc8d-5b50-4471-b49f-5189312b23ec"
      },
      "execution_count": 61,
      "outputs": [
        {
          "output_type": "execute_result",
          "data": {
            "text/plain": [
              "                 0\n",
              "count  10000.00000\n",
              "mean    5000.50000\n",
              "std     2886.89568\n",
              "min        1.00000\n",
              "25%     2500.75000\n",
              "50%     5000.50000\n",
              "75%     7500.25000\n",
              "max    10000.00000"
            ],
            "text/html": [
              "\n",
              "  <div id=\"df-4f58dca2-3dcb-4fc5-84c9-5e2558ed1ac5\" class=\"colab-df-container\">\n",
              "    <div>\n",
              "<style scoped>\n",
              "    .dataframe tbody tr th:only-of-type {\n",
              "        vertical-align: middle;\n",
              "    }\n",
              "\n",
              "    .dataframe tbody tr th {\n",
              "        vertical-align: top;\n",
              "    }\n",
              "\n",
              "    .dataframe thead th {\n",
              "        text-align: right;\n",
              "    }\n",
              "</style>\n",
              "<table border=\"1\" class=\"dataframe\">\n",
              "  <thead>\n",
              "    <tr style=\"text-align: right;\">\n",
              "      <th></th>\n",
              "      <th>0</th>\n",
              "    </tr>\n",
              "  </thead>\n",
              "  <tbody>\n",
              "    <tr>\n",
              "      <th>count</th>\n",
              "      <td>10000.00000</td>\n",
              "    </tr>\n",
              "    <tr>\n",
              "      <th>mean</th>\n",
              "      <td>5000.50000</td>\n",
              "    </tr>\n",
              "    <tr>\n",
              "      <th>std</th>\n",
              "      <td>2886.89568</td>\n",
              "    </tr>\n",
              "    <tr>\n",
              "      <th>min</th>\n",
              "      <td>1.00000</td>\n",
              "    </tr>\n",
              "    <tr>\n",
              "      <th>25%</th>\n",
              "      <td>2500.75000</td>\n",
              "    </tr>\n",
              "    <tr>\n",
              "      <th>50%</th>\n",
              "      <td>5000.50000</td>\n",
              "    </tr>\n",
              "    <tr>\n",
              "      <th>75%</th>\n",
              "      <td>7500.25000</td>\n",
              "    </tr>\n",
              "    <tr>\n",
              "      <th>max</th>\n",
              "      <td>10000.00000</td>\n",
              "    </tr>\n",
              "  </tbody>\n",
              "</table>\n",
              "</div>\n",
              "    <div class=\"colab-df-buttons\">\n",
              "\n",
              "  <div class=\"colab-df-container\">\n",
              "    <button class=\"colab-df-convert\" onclick=\"convertToInteractive('df-4f58dca2-3dcb-4fc5-84c9-5e2558ed1ac5')\"\n",
              "            title=\"Convert this dataframe to an interactive table.\"\n",
              "            style=\"display:none;\">\n",
              "\n",
              "  <svg xmlns=\"http://www.w3.org/2000/svg\" height=\"24px\" viewBox=\"0 -960 960 960\">\n",
              "    <path d=\"M120-120v-720h720v720H120Zm60-500h600v-160H180v160Zm220 220h160v-160H400v160Zm0 220h160v-160H400v160ZM180-400h160v-160H180v160Zm440 0h160v-160H620v160ZM180-180h160v-160H180v160Zm440 0h160v-160H620v160Z\"/>\n",
              "  </svg>\n",
              "    </button>\n",
              "\n",
              "  <style>\n",
              "    .colab-df-container {\n",
              "      display:flex;\n",
              "      gap: 12px;\n",
              "    }\n",
              "\n",
              "    .colab-df-convert {\n",
              "      background-color: #E8F0FE;\n",
              "      border: none;\n",
              "      border-radius: 50%;\n",
              "      cursor: pointer;\n",
              "      display: none;\n",
              "      fill: #1967D2;\n",
              "      height: 32px;\n",
              "      padding: 0 0 0 0;\n",
              "      width: 32px;\n",
              "    }\n",
              "\n",
              "    .colab-df-convert:hover {\n",
              "      background-color: #E2EBFA;\n",
              "      box-shadow: 0px 1px 2px rgba(60, 64, 67, 0.3), 0px 1px 3px 1px rgba(60, 64, 67, 0.15);\n",
              "      fill: #174EA6;\n",
              "    }\n",
              "\n",
              "    .colab-df-buttons div {\n",
              "      margin-bottom: 4px;\n",
              "    }\n",
              "\n",
              "    [theme=dark] .colab-df-convert {\n",
              "      background-color: #3B4455;\n",
              "      fill: #D2E3FC;\n",
              "    }\n",
              "\n",
              "    [theme=dark] .colab-df-convert:hover {\n",
              "      background-color: #434B5C;\n",
              "      box-shadow: 0px 1px 3px 1px rgba(0, 0, 0, 0.15);\n",
              "      filter: drop-shadow(0px 1px 2px rgba(0, 0, 0, 0.3));\n",
              "      fill: #FFFFFF;\n",
              "    }\n",
              "  </style>\n",
              "\n",
              "    <script>\n",
              "      const buttonEl =\n",
              "        document.querySelector('#df-4f58dca2-3dcb-4fc5-84c9-5e2558ed1ac5 button.colab-df-convert');\n",
              "      buttonEl.style.display =\n",
              "        google.colab.kernel.accessAllowed ? 'block' : 'none';\n",
              "\n",
              "      async function convertToInteractive(key) {\n",
              "        const element = document.querySelector('#df-4f58dca2-3dcb-4fc5-84c9-5e2558ed1ac5');\n",
              "        const dataTable =\n",
              "          await google.colab.kernel.invokeFunction('convertToInteractive',\n",
              "                                                    [key], {});\n",
              "        if (!dataTable) return;\n",
              "\n",
              "        const docLinkHtml = 'Like what you see? Visit the ' +\n",
              "          '<a target=\"_blank\" href=https://colab.research.google.com/notebooks/data_table.ipynb>data table notebook</a>'\n",
              "          + ' to learn more about interactive tables.';\n",
              "        element.innerHTML = '';\n",
              "        dataTable['output_type'] = 'display_data';\n",
              "        await google.colab.output.renderOutput(dataTable, element);\n",
              "        const docLink = document.createElement('div');\n",
              "        docLink.innerHTML = docLinkHtml;\n",
              "        element.appendChild(docLink);\n",
              "      }\n",
              "    </script>\n",
              "  </div>\n",
              "\n",
              "\n",
              "<div id=\"df-11db9e5b-4adc-472d-b8f7-338412f8703c\">\n",
              "  <button class=\"colab-df-quickchart\" onclick=\"quickchart('df-11db9e5b-4adc-472d-b8f7-338412f8703c')\"\n",
              "            title=\"Suggest charts\"\n",
              "            style=\"display:none;\">\n",
              "\n",
              "<svg xmlns=\"http://www.w3.org/2000/svg\" height=\"24px\"viewBox=\"0 0 24 24\"\n",
              "     width=\"24px\">\n",
              "    <g>\n",
              "        <path d=\"M19 3H5c-1.1 0-2 .9-2 2v14c0 1.1.9 2 2 2h14c1.1 0 2-.9 2-2V5c0-1.1-.9-2-2-2zM9 17H7v-7h2v7zm4 0h-2V7h2v10zm4 0h-2v-4h2v4z\"/>\n",
              "    </g>\n",
              "</svg>\n",
              "  </button>\n",
              "\n",
              "<style>\n",
              "  .colab-df-quickchart {\n",
              "      --bg-color: #E8F0FE;\n",
              "      --fill-color: #1967D2;\n",
              "      --hover-bg-color: #E2EBFA;\n",
              "      --hover-fill-color: #174EA6;\n",
              "      --disabled-fill-color: #AAA;\n",
              "      --disabled-bg-color: #DDD;\n",
              "  }\n",
              "\n",
              "  [theme=dark] .colab-df-quickchart {\n",
              "      --bg-color: #3B4455;\n",
              "      --fill-color: #D2E3FC;\n",
              "      --hover-bg-color: #434B5C;\n",
              "      --hover-fill-color: #FFFFFF;\n",
              "      --disabled-bg-color: #3B4455;\n",
              "      --disabled-fill-color: #666;\n",
              "  }\n",
              "\n",
              "  .colab-df-quickchart {\n",
              "    background-color: var(--bg-color);\n",
              "    border: none;\n",
              "    border-radius: 50%;\n",
              "    cursor: pointer;\n",
              "    display: none;\n",
              "    fill: var(--fill-color);\n",
              "    height: 32px;\n",
              "    padding: 0;\n",
              "    width: 32px;\n",
              "  }\n",
              "\n",
              "  .colab-df-quickchart:hover {\n",
              "    background-color: var(--hover-bg-color);\n",
              "    box-shadow: 0 1px 2px rgba(60, 64, 67, 0.3), 0 1px 3px 1px rgba(60, 64, 67, 0.15);\n",
              "    fill: var(--button-hover-fill-color);\n",
              "  }\n",
              "\n",
              "  .colab-df-quickchart-complete:disabled,\n",
              "  .colab-df-quickchart-complete:disabled:hover {\n",
              "    background-color: var(--disabled-bg-color);\n",
              "    fill: var(--disabled-fill-color);\n",
              "    box-shadow: none;\n",
              "  }\n",
              "\n",
              "  .colab-df-spinner {\n",
              "    border: 2px solid var(--fill-color);\n",
              "    border-color: transparent;\n",
              "    border-bottom-color: var(--fill-color);\n",
              "    animation:\n",
              "      spin 1s steps(1) infinite;\n",
              "  }\n",
              "\n",
              "  @keyframes spin {\n",
              "    0% {\n",
              "      border-color: transparent;\n",
              "      border-bottom-color: var(--fill-color);\n",
              "      border-left-color: var(--fill-color);\n",
              "    }\n",
              "    20% {\n",
              "      border-color: transparent;\n",
              "      border-left-color: var(--fill-color);\n",
              "      border-top-color: var(--fill-color);\n",
              "    }\n",
              "    30% {\n",
              "      border-color: transparent;\n",
              "      border-left-color: var(--fill-color);\n",
              "      border-top-color: var(--fill-color);\n",
              "      border-right-color: var(--fill-color);\n",
              "    }\n",
              "    40% {\n",
              "      border-color: transparent;\n",
              "      border-right-color: var(--fill-color);\n",
              "      border-top-color: var(--fill-color);\n",
              "    }\n",
              "    60% {\n",
              "      border-color: transparent;\n",
              "      border-right-color: var(--fill-color);\n",
              "    }\n",
              "    80% {\n",
              "      border-color: transparent;\n",
              "      border-right-color: var(--fill-color);\n",
              "      border-bottom-color: var(--fill-color);\n",
              "    }\n",
              "    90% {\n",
              "      border-color: transparent;\n",
              "      border-bottom-color: var(--fill-color);\n",
              "    }\n",
              "  }\n",
              "</style>\n",
              "\n",
              "  <script>\n",
              "    async function quickchart(key) {\n",
              "      const quickchartButtonEl =\n",
              "        document.querySelector('#' + key + ' button');\n",
              "      quickchartButtonEl.disabled = true;  // To prevent multiple clicks.\n",
              "      quickchartButtonEl.classList.add('colab-df-spinner');\n",
              "      try {\n",
              "        const charts = await google.colab.kernel.invokeFunction(\n",
              "            'suggestCharts', [key], {});\n",
              "      } catch (error) {\n",
              "        console.error('Error during call to suggestCharts:', error);\n",
              "      }\n",
              "      quickchartButtonEl.classList.remove('colab-df-spinner');\n",
              "      quickchartButtonEl.classList.add('colab-df-quickchart-complete');\n",
              "    }\n",
              "    (() => {\n",
              "      let quickchartButtonEl =\n",
              "        document.querySelector('#df-11db9e5b-4adc-472d-b8f7-338412f8703c button');\n",
              "      quickchartButtonEl.style.display =\n",
              "        google.colab.kernel.accessAllowed ? 'block' : 'none';\n",
              "    })();\n",
              "  </script>\n",
              "</div>\n",
              "\n",
              "    </div>\n",
              "  </div>\n"
            ],
            "application/vnd.google.colaboratory.intrinsic+json": {
              "type": "dataframe",
              "summary": "{\n  \"name\": \"df\",\n  \"rows\": 8,\n  \"fields\": [\n    {\n      \"column\": 0,\n      \"properties\": {\n        \"dtype\": \"number\",\n        \"std\": 3603.743586536124,\n        \"min\": 1.0,\n        \"max\": 10000.0,\n        \"num_unique_values\": 6,\n        \"samples\": [\n          10000.0,\n          5000.5,\n          7500.25\n        ],\n        \"semantic_type\": \"\",\n        \"description\": \"\"\n      }\n    }\n  ]\n}"
            }
          },
          "metadata": {},
          "execution_count": 61
        }
      ]
    },
    {
      "cell_type": "markdown",
      "source": [
        "#### TEST 1: Pivot is at the start"
      ],
      "metadata": {
        "id": "e1ixs3FnYAvg"
      }
    },
    {
      "cell_type": "code",
      "source": [
        "array = df[0].tolist()"
      ],
      "metadata": {
        "id": "6IBeIlYPm4mP"
      },
      "execution_count": 67,
      "outputs": []
    },
    {
      "cell_type": "code",
      "source": [
        "array, ncomparisons = QuickSort(array)\n",
        "print(ncomparisons)"
      ],
      "metadata": {
        "colab": {
          "base_uri": "https://localhost:8080/"
        },
        "id": "6THhlZd_W45t",
        "outputId": "737a7a3f-2a08-4b75-c50d-eb2ca2be8173"
      },
      "execution_count": 68,
      "outputs": [
        {
          "output_type": "stream",
          "name": "stdout",
          "text": [
            "162085\n"
          ]
        }
      ]
    },
    {
      "cell_type": "markdown",
      "source": [
        "TEST 2: Pivot is at the last"
      ],
      "metadata": {
        "id": "sqS5sXQ9YGat"
      }
    },
    {
      "cell_type": "code",
      "source": [
        "array = df[0].tolist()"
      ],
      "metadata": {
        "id": "M6mUVkHHYLch"
      },
      "execution_count": 69,
      "outputs": []
    },
    {
      "cell_type": "code",
      "source": [
        "array, ncomparisons = QuickSort(array, pivot=\"last\")\n",
        "print(ncomparisons)"
      ],
      "metadata": {
        "colab": {
          "base_uri": "https://localhost:8080/"
        },
        "id": "ynBeC5zvXpcN",
        "outputId": "1a5432d6-ff31-415e-9e37-357be0f35a75"
      },
      "execution_count": 70,
      "outputs": [
        {
          "output_type": "stream",
          "name": "stdout",
          "text": [
            "164123\n"
          ]
        }
      ]
    },
    {
      "cell_type": "markdown",
      "source": [
        "TEST 3: Pivot is median\n"
      ],
      "metadata": {
        "id": "vkEcZxFTYQEf"
      }
    },
    {
      "cell_type": "code",
      "source": [
        "array = df[0].tolist()"
      ],
      "metadata": {
        "id": "D6LhpmsvYW14"
      },
      "execution_count": 72,
      "outputs": []
    },
    {
      "cell_type": "code",
      "source": [
        "array, ncomparisons = QuickSort(array, pivot=\"median\")\n",
        "print(ncomparisons)"
      ],
      "metadata": {
        "colab": {
          "base_uri": "https://localhost:8080/"
        },
        "outputId": "2726a60a-65ac-4c7e-86d7-159f8787761b",
        "id": "YWJDZ1KKYYiL"
      },
      "execution_count": 73,
      "outputs": [
        {
          "output_type": "stream",
          "name": "stdout",
          "text": [
            "138382\n"
          ]
        }
      ]
    }
  ]
}
